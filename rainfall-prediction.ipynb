{
 "cells": [
  {
   "cell_type": "code",
   "execution_count": 1,
   "id": "b157e5c8",
   "metadata": {
    "execution": {
     "iopub.execute_input": "2025-03-07T10:17:50.197258Z",
     "iopub.status.busy": "2025-03-07T10:17:50.196452Z",
     "iopub.status.idle": "2025-03-07T10:17:51.228175Z",
     "shell.execute_reply": "2025-03-07T10:17:51.227043Z"
    },
    "papermill": {
     "duration": 1.045189,
     "end_time": "2025-03-07T10:17:51.230772",
     "exception": false,
     "start_time": "2025-03-07T10:17:50.185583",
     "status": "completed"
    },
    "tags": []
   },
   "outputs": [],
   "source": [
    "import pandas as pd\n",
    "import numpy as np\n",
    "import matplotlib.pyplot as plt"
   ]
  },
  {
   "cell_type": "markdown",
   "id": "f78dddd2",
   "metadata": {
    "papermill": {
     "duration": 0.008443,
     "end_time": "2025-03-07T10:17:51.248205",
     "exception": false,
     "start_time": "2025-03-07T10:17:51.239762",
     "status": "completed"
    },
    "tags": []
   },
   "source": [
    "# Loading and EDA"
   ]
  },
  {
   "cell_type": "code",
   "execution_count": 2,
   "id": "1a9d1fcc",
   "metadata": {
    "execution": {
     "iopub.execute_input": "2025-03-07T10:17:51.268247Z",
     "iopub.status.busy": "2025-03-07T10:17:51.267553Z",
     "iopub.status.idle": "2025-03-07T10:17:51.303532Z",
     "shell.execute_reply": "2025-03-07T10:17:51.302493Z"
    },
    "papermill": {
     "duration": 0.049154,
     "end_time": "2025-03-07T10:17:51.305991",
     "exception": false,
     "start_time": "2025-03-07T10:17:51.256837",
     "status": "completed"
    },
    "tags": []
   },
   "outputs": [],
   "source": [
    "df_train = pd.read_csv(\"/kaggle/input/playground-series-s5e3/train.csv\")\n",
    "df_test = pd.read_csv(\"/kaggle/input/playground-series-s5e3/test.csv\")\n",
    "df_submission = pd.read_csv(\"/kaggle/input/playground-series-s5e3/sample_submission.csv\")"
   ]
  },
  {
   "cell_type": "code",
   "execution_count": 3,
   "id": "7ca2d70d",
   "metadata": {
    "execution": {
     "iopub.execute_input": "2025-03-07T10:17:51.325120Z",
     "iopub.status.busy": "2025-03-07T10:17:51.324699Z",
     "iopub.status.idle": "2025-03-07T10:17:51.358207Z",
     "shell.execute_reply": "2025-03-07T10:17:51.357027Z"
    },
    "papermill": {
     "duration": 0.045954,
     "end_time": "2025-03-07T10:17:51.360727",
     "exception": false,
     "start_time": "2025-03-07T10:17:51.314773",
     "status": "completed"
    },
    "tags": []
   },
   "outputs": [
    {
     "data": {
      "text/html": [
       "<div>\n",
       "<style scoped>\n",
       "    .dataframe tbody tr th:only-of-type {\n",
       "        vertical-align: middle;\n",
       "    }\n",
       "\n",
       "    .dataframe tbody tr th {\n",
       "        vertical-align: top;\n",
       "    }\n",
       "\n",
       "    .dataframe thead th {\n",
       "        text-align: right;\n",
       "    }\n",
       "</style>\n",
       "<table border=\"1\" class=\"dataframe\">\n",
       "  <thead>\n",
       "    <tr style=\"text-align: right;\">\n",
       "      <th></th>\n",
       "      <th>id</th>\n",
       "      <th>day</th>\n",
       "      <th>pressure</th>\n",
       "      <th>maxtemp</th>\n",
       "      <th>temparature</th>\n",
       "      <th>mintemp</th>\n",
       "      <th>dewpoint</th>\n",
       "      <th>humidity</th>\n",
       "      <th>cloud</th>\n",
       "      <th>sunshine</th>\n",
       "      <th>winddirection</th>\n",
       "      <th>windspeed</th>\n",
       "      <th>rainfall</th>\n",
       "    </tr>\n",
       "  </thead>\n",
       "  <tbody>\n",
       "    <tr>\n",
       "      <th>0</th>\n",
       "      <td>0</td>\n",
       "      <td>1</td>\n",
       "      <td>1017.4</td>\n",
       "      <td>21.2</td>\n",
       "      <td>20.6</td>\n",
       "      <td>19.9</td>\n",
       "      <td>19.4</td>\n",
       "      <td>87.0</td>\n",
       "      <td>88.0</td>\n",
       "      <td>1.1</td>\n",
       "      <td>60.0</td>\n",
       "      <td>17.2</td>\n",
       "      <td>1</td>\n",
       "    </tr>\n",
       "    <tr>\n",
       "      <th>1</th>\n",
       "      <td>1</td>\n",
       "      <td>2</td>\n",
       "      <td>1019.5</td>\n",
       "      <td>16.2</td>\n",
       "      <td>16.9</td>\n",
       "      <td>15.8</td>\n",
       "      <td>15.4</td>\n",
       "      <td>95.0</td>\n",
       "      <td>91.0</td>\n",
       "      <td>0.0</td>\n",
       "      <td>50.0</td>\n",
       "      <td>21.9</td>\n",
       "      <td>1</td>\n",
       "    </tr>\n",
       "    <tr>\n",
       "      <th>2</th>\n",
       "      <td>2</td>\n",
       "      <td>3</td>\n",
       "      <td>1024.1</td>\n",
       "      <td>19.4</td>\n",
       "      <td>16.1</td>\n",
       "      <td>14.6</td>\n",
       "      <td>9.3</td>\n",
       "      <td>75.0</td>\n",
       "      <td>47.0</td>\n",
       "      <td>8.3</td>\n",
       "      <td>70.0</td>\n",
       "      <td>18.1</td>\n",
       "      <td>1</td>\n",
       "    </tr>\n",
       "    <tr>\n",
       "      <th>3</th>\n",
       "      <td>3</td>\n",
       "      <td>4</td>\n",
       "      <td>1013.4</td>\n",
       "      <td>18.1</td>\n",
       "      <td>17.8</td>\n",
       "      <td>16.9</td>\n",
       "      <td>16.8</td>\n",
       "      <td>95.0</td>\n",
       "      <td>95.0</td>\n",
       "      <td>0.0</td>\n",
       "      <td>60.0</td>\n",
       "      <td>35.6</td>\n",
       "      <td>1</td>\n",
       "    </tr>\n",
       "    <tr>\n",
       "      <th>4</th>\n",
       "      <td>4</td>\n",
       "      <td>5</td>\n",
       "      <td>1021.8</td>\n",
       "      <td>21.3</td>\n",
       "      <td>18.4</td>\n",
       "      <td>15.2</td>\n",
       "      <td>9.6</td>\n",
       "      <td>52.0</td>\n",
       "      <td>45.0</td>\n",
       "      <td>3.6</td>\n",
       "      <td>40.0</td>\n",
       "      <td>24.8</td>\n",
       "      <td>0</td>\n",
       "    </tr>\n",
       "  </tbody>\n",
       "</table>\n",
       "</div>"
      ],
      "text/plain": [
       "   id  day  pressure  maxtemp  temparature  mintemp  dewpoint  humidity  \\\n",
       "0   0    1    1017.4     21.2         20.6     19.9      19.4      87.0   \n",
       "1   1    2    1019.5     16.2         16.9     15.8      15.4      95.0   \n",
       "2   2    3    1024.1     19.4         16.1     14.6       9.3      75.0   \n",
       "3   3    4    1013.4     18.1         17.8     16.9      16.8      95.0   \n",
       "4   4    5    1021.8     21.3         18.4     15.2       9.6      52.0   \n",
       "\n",
       "   cloud  sunshine  winddirection  windspeed  rainfall  \n",
       "0   88.0       1.1           60.0       17.2         1  \n",
       "1   91.0       0.0           50.0       21.9         1  \n",
       "2   47.0       8.3           70.0       18.1         1  \n",
       "3   95.0       0.0           60.0       35.6         1  \n",
       "4   45.0       3.6           40.0       24.8         0  "
      ]
     },
     "execution_count": 3,
     "metadata": {},
     "output_type": "execute_result"
    }
   ],
   "source": [
    "df_train.head()"
   ]
  },
  {
   "cell_type": "code",
   "execution_count": 4,
   "id": "78186c02",
   "metadata": {
    "execution": {
     "iopub.execute_input": "2025-03-07T10:17:51.382654Z",
     "iopub.status.busy": "2025-03-07T10:17:51.381649Z",
     "iopub.status.idle": "2025-03-07T10:17:51.399617Z",
     "shell.execute_reply": "2025-03-07T10:17:51.398466Z"
    },
    "papermill": {
     "duration": 0.03068,
     "end_time": "2025-03-07T10:17:51.401900",
     "exception": false,
     "start_time": "2025-03-07T10:17:51.371220",
     "status": "completed"
    },
    "tags": []
   },
   "outputs": [
    {
     "data": {
      "text/html": [
       "<div>\n",
       "<style scoped>\n",
       "    .dataframe tbody tr th:only-of-type {\n",
       "        vertical-align: middle;\n",
       "    }\n",
       "\n",
       "    .dataframe tbody tr th {\n",
       "        vertical-align: top;\n",
       "    }\n",
       "\n",
       "    .dataframe thead th {\n",
       "        text-align: right;\n",
       "    }\n",
       "</style>\n",
       "<table border=\"1\" class=\"dataframe\">\n",
       "  <thead>\n",
       "    <tr style=\"text-align: right;\">\n",
       "      <th></th>\n",
       "      <th>id</th>\n",
       "      <th>day</th>\n",
       "      <th>pressure</th>\n",
       "      <th>maxtemp</th>\n",
       "      <th>temparature</th>\n",
       "      <th>mintemp</th>\n",
       "      <th>dewpoint</th>\n",
       "      <th>humidity</th>\n",
       "      <th>cloud</th>\n",
       "      <th>sunshine</th>\n",
       "      <th>winddirection</th>\n",
       "      <th>windspeed</th>\n",
       "    </tr>\n",
       "  </thead>\n",
       "  <tbody>\n",
       "    <tr>\n",
       "      <th>0</th>\n",
       "      <td>2190</td>\n",
       "      <td>1</td>\n",
       "      <td>1019.5</td>\n",
       "      <td>17.5</td>\n",
       "      <td>15.8</td>\n",
       "      <td>12.7</td>\n",
       "      <td>14.9</td>\n",
       "      <td>96.0</td>\n",
       "      <td>99.0</td>\n",
       "      <td>0.0</td>\n",
       "      <td>50.0</td>\n",
       "      <td>24.3</td>\n",
       "    </tr>\n",
       "    <tr>\n",
       "      <th>1</th>\n",
       "      <td>2191</td>\n",
       "      <td>2</td>\n",
       "      <td>1016.5</td>\n",
       "      <td>17.5</td>\n",
       "      <td>16.5</td>\n",
       "      <td>15.8</td>\n",
       "      <td>15.1</td>\n",
       "      <td>97.0</td>\n",
       "      <td>99.0</td>\n",
       "      <td>0.0</td>\n",
       "      <td>50.0</td>\n",
       "      <td>35.3</td>\n",
       "    </tr>\n",
       "    <tr>\n",
       "      <th>2</th>\n",
       "      <td>2192</td>\n",
       "      <td>3</td>\n",
       "      <td>1023.9</td>\n",
       "      <td>11.2</td>\n",
       "      <td>10.4</td>\n",
       "      <td>9.4</td>\n",
       "      <td>8.9</td>\n",
       "      <td>86.0</td>\n",
       "      <td>96.0</td>\n",
       "      <td>0.0</td>\n",
       "      <td>40.0</td>\n",
       "      <td>16.9</td>\n",
       "    </tr>\n",
       "    <tr>\n",
       "      <th>3</th>\n",
       "      <td>2193</td>\n",
       "      <td>4</td>\n",
       "      <td>1022.9</td>\n",
       "      <td>20.6</td>\n",
       "      <td>17.3</td>\n",
       "      <td>15.2</td>\n",
       "      <td>9.5</td>\n",
       "      <td>75.0</td>\n",
       "      <td>45.0</td>\n",
       "      <td>7.1</td>\n",
       "      <td>20.0</td>\n",
       "      <td>50.6</td>\n",
       "    </tr>\n",
       "    <tr>\n",
       "      <th>4</th>\n",
       "      <td>2194</td>\n",
       "      <td>5</td>\n",
       "      <td>1022.2</td>\n",
       "      <td>16.1</td>\n",
       "      <td>13.8</td>\n",
       "      <td>6.4</td>\n",
       "      <td>4.3</td>\n",
       "      <td>68.0</td>\n",
       "      <td>49.0</td>\n",
       "      <td>9.2</td>\n",
       "      <td>20.0</td>\n",
       "      <td>19.4</td>\n",
       "    </tr>\n",
       "  </tbody>\n",
       "</table>\n",
       "</div>"
      ],
      "text/plain": [
       "     id  day  pressure  maxtemp  temparature  mintemp  dewpoint  humidity  \\\n",
       "0  2190    1    1019.5     17.5         15.8     12.7      14.9      96.0   \n",
       "1  2191    2    1016.5     17.5         16.5     15.8      15.1      97.0   \n",
       "2  2192    3    1023.9     11.2         10.4      9.4       8.9      86.0   \n",
       "3  2193    4    1022.9     20.6         17.3     15.2       9.5      75.0   \n",
       "4  2194    5    1022.2     16.1         13.8      6.4       4.3      68.0   \n",
       "\n",
       "   cloud  sunshine  winddirection  windspeed  \n",
       "0   99.0       0.0           50.0       24.3  \n",
       "1   99.0       0.0           50.0       35.3  \n",
       "2   96.0       0.0           40.0       16.9  \n",
       "3   45.0       7.1           20.0       50.6  \n",
       "4   49.0       9.2           20.0       19.4  "
      ]
     },
     "execution_count": 4,
     "metadata": {},
     "output_type": "execute_result"
    }
   ],
   "source": [
    "df_test.head()"
   ]
  },
  {
   "cell_type": "code",
   "execution_count": 5,
   "id": "8e7d0874",
   "metadata": {
    "execution": {
     "iopub.execute_input": "2025-03-07T10:17:51.422643Z",
     "iopub.status.busy": "2025-03-07T10:17:51.421958Z",
     "iopub.status.idle": "2025-03-07T10:17:51.431781Z",
     "shell.execute_reply": "2025-03-07T10:17:51.430600Z"
    },
    "papermill": {
     "duration": 0.022382,
     "end_time": "2025-03-07T10:17:51.433859",
     "exception": false,
     "start_time": "2025-03-07T10:17:51.411477",
     "status": "completed"
    },
    "tags": []
   },
   "outputs": [
    {
     "data": {
      "text/html": [
       "<div>\n",
       "<style scoped>\n",
       "    .dataframe tbody tr th:only-of-type {\n",
       "        vertical-align: middle;\n",
       "    }\n",
       "\n",
       "    .dataframe tbody tr th {\n",
       "        vertical-align: top;\n",
       "    }\n",
       "\n",
       "    .dataframe thead th {\n",
       "        text-align: right;\n",
       "    }\n",
       "</style>\n",
       "<table border=\"1\" class=\"dataframe\">\n",
       "  <thead>\n",
       "    <tr style=\"text-align: right;\">\n",
       "      <th></th>\n",
       "      <th>id</th>\n",
       "      <th>rainfall</th>\n",
       "    </tr>\n",
       "  </thead>\n",
       "  <tbody>\n",
       "    <tr>\n",
       "      <th>0</th>\n",
       "      <td>2190</td>\n",
       "      <td>0</td>\n",
       "    </tr>\n",
       "    <tr>\n",
       "      <th>1</th>\n",
       "      <td>2191</td>\n",
       "      <td>0</td>\n",
       "    </tr>\n",
       "    <tr>\n",
       "      <th>2</th>\n",
       "      <td>2192</td>\n",
       "      <td>0</td>\n",
       "    </tr>\n",
       "    <tr>\n",
       "      <th>3</th>\n",
       "      <td>2193</td>\n",
       "      <td>0</td>\n",
       "    </tr>\n",
       "    <tr>\n",
       "      <th>4</th>\n",
       "      <td>2194</td>\n",
       "      <td>0</td>\n",
       "    </tr>\n",
       "  </tbody>\n",
       "</table>\n",
       "</div>"
      ],
      "text/plain": [
       "     id  rainfall\n",
       "0  2190         0\n",
       "1  2191         0\n",
       "2  2192         0\n",
       "3  2193         0\n",
       "4  2194         0"
      ]
     },
     "execution_count": 5,
     "metadata": {},
     "output_type": "execute_result"
    }
   ],
   "source": [
    "df_submission.head()"
   ]
  },
  {
   "cell_type": "code",
   "execution_count": 6,
   "id": "b4c543d1",
   "metadata": {
    "execution": {
     "iopub.execute_input": "2025-03-07T10:17:51.454608Z",
     "iopub.status.busy": "2025-03-07T10:17:51.454227Z",
     "iopub.status.idle": "2025-03-07T10:17:51.478551Z",
     "shell.execute_reply": "2025-03-07T10:17:51.477412Z"
    },
    "papermill": {
     "duration": 0.03795,
     "end_time": "2025-03-07T10:17:51.481198",
     "exception": false,
     "start_time": "2025-03-07T10:17:51.443248",
     "status": "completed"
    },
    "tags": []
   },
   "outputs": [
    {
     "name": "stdout",
     "output_type": "stream",
     "text": [
      "<class 'pandas.core.frame.DataFrame'>\n",
      "RangeIndex: 2190 entries, 0 to 2189\n",
      "Data columns (total 13 columns):\n",
      " #   Column         Non-Null Count  Dtype  \n",
      "---  ------         --------------  -----  \n",
      " 0   id             2190 non-null   int64  \n",
      " 1   day            2190 non-null   int64  \n",
      " 2   pressure       2190 non-null   float64\n",
      " 3   maxtemp        2190 non-null   float64\n",
      " 4   temparature    2190 non-null   float64\n",
      " 5   mintemp        2190 non-null   float64\n",
      " 6   dewpoint       2190 non-null   float64\n",
      " 7   humidity       2190 non-null   float64\n",
      " 8   cloud          2190 non-null   float64\n",
      " 9   sunshine       2190 non-null   float64\n",
      " 10  winddirection  2190 non-null   float64\n",
      " 11  windspeed      2190 non-null   float64\n",
      " 12  rainfall       2190 non-null   int64  \n",
      "dtypes: float64(10), int64(3)\n",
      "memory usage: 222.5 KB\n"
     ]
    }
   ],
   "source": [
    "df_train.info()"
   ]
  },
  {
   "cell_type": "code",
   "execution_count": 7,
   "id": "23bf65dc",
   "metadata": {
    "execution": {
     "iopub.execute_input": "2025-03-07T10:17:51.502366Z",
     "iopub.status.busy": "2025-03-07T10:17:51.501484Z",
     "iopub.status.idle": "2025-03-07T10:17:51.519483Z",
     "shell.execute_reply": "2025-03-07T10:17:51.518073Z"
    },
    "papermill": {
     "duration": 0.030794,
     "end_time": "2025-03-07T10:17:51.521587",
     "exception": false,
     "start_time": "2025-03-07T10:17:51.490793",
     "status": "completed"
    },
    "tags": []
   },
   "outputs": [
    {
     "data": {
      "text/html": [
       "<div>\n",
       "<style scoped>\n",
       "    .dataframe tbody tr th:only-of-type {\n",
       "        vertical-align: middle;\n",
       "    }\n",
       "\n",
       "    .dataframe tbody tr th {\n",
       "        vertical-align: top;\n",
       "    }\n",
       "\n",
       "    .dataframe thead th {\n",
       "        text-align: right;\n",
       "    }\n",
       "</style>\n",
       "<table border=\"1\" class=\"dataframe\">\n",
       "  <thead>\n",
       "    <tr style=\"text-align: right;\">\n",
       "      <th></th>\n",
       "      <th>id</th>\n",
       "      <th>day</th>\n",
       "      <th>pressure</th>\n",
       "      <th>maxtemp</th>\n",
       "      <th>temparature</th>\n",
       "      <th>mintemp</th>\n",
       "      <th>dewpoint</th>\n",
       "      <th>humidity</th>\n",
       "      <th>cloud</th>\n",
       "      <th>sunshine</th>\n",
       "      <th>winddirection</th>\n",
       "      <th>windspeed</th>\n",
       "      <th>rainfall</th>\n",
       "    </tr>\n",
       "  </thead>\n",
       "  <tbody>\n",
       "    <tr>\n",
       "      <th>0</th>\n",
       "      <td>0</td>\n",
       "      <td>1</td>\n",
       "      <td>1017.4</td>\n",
       "      <td>21.2</td>\n",
       "      <td>20.6</td>\n",
       "      <td>19.9</td>\n",
       "      <td>19.4</td>\n",
       "      <td>87.0</td>\n",
       "      <td>88.0</td>\n",
       "      <td>1.1</td>\n",
       "      <td>60.0</td>\n",
       "      <td>17.2</td>\n",
       "      <td>1</td>\n",
       "    </tr>\n",
       "  </tbody>\n",
       "</table>\n",
       "</div>"
      ],
      "text/plain": [
       "   id  day  pressure  maxtemp  temparature  mintemp  dewpoint  humidity  \\\n",
       "0   0    1    1017.4     21.2         20.6     19.9      19.4      87.0   \n",
       "\n",
       "   cloud  sunshine  winddirection  windspeed  rainfall  \n",
       "0   88.0       1.1           60.0       17.2         1  "
      ]
     },
     "execution_count": 7,
     "metadata": {},
     "output_type": "execute_result"
    }
   ],
   "source": [
    "df_train[df_train[\"id\"]==0]"
   ]
  },
  {
   "cell_type": "code",
   "execution_count": 8,
   "id": "b9142c65",
   "metadata": {
    "execution": {
     "iopub.execute_input": "2025-03-07T10:17:51.542774Z",
     "iopub.status.busy": "2025-03-07T10:17:51.542391Z",
     "iopub.status.idle": "2025-03-07T10:17:51.550374Z",
     "shell.execute_reply": "2025-03-07T10:17:51.549324Z"
    },
    "papermill": {
     "duration": 0.020907,
     "end_time": "2025-03-07T10:17:51.552583",
     "exception": false,
     "start_time": "2025-03-07T10:17:51.531676",
     "status": "completed"
    },
    "tags": []
   },
   "outputs": [
    {
     "data": {
      "text/plain": [
       "id               0\n",
       "day              0\n",
       "pressure         0\n",
       "maxtemp          0\n",
       "temparature      0\n",
       "mintemp          0\n",
       "dewpoint         0\n",
       "humidity         0\n",
       "cloud            0\n",
       "sunshine         0\n",
       "winddirection    0\n",
       "windspeed        0\n",
       "rainfall         0\n",
       "dtype: int64"
      ]
     },
     "execution_count": 8,
     "metadata": {},
     "output_type": "execute_result"
    }
   ],
   "source": [
    "df_train.isnull().sum()"
   ]
  },
  {
   "cell_type": "code",
   "execution_count": 9,
   "id": "01292495",
   "metadata": {
    "execution": {
     "iopub.execute_input": "2025-03-07T10:17:51.573956Z",
     "iopub.status.busy": "2025-03-07T10:17:51.573593Z",
     "iopub.status.idle": "2025-03-07T10:17:51.834535Z",
     "shell.execute_reply": "2025-03-07T10:17:51.833424Z"
    },
    "papermill": {
     "duration": 0.274753,
     "end_time": "2025-03-07T10:17:51.836986",
     "exception": false,
     "start_time": "2025-03-07T10:17:51.562233",
     "status": "completed"
    },
    "tags": []
   },
   "outputs": [
    {
     "data": {
      "text/plain": [
       "<Axes: xlabel='rainfall'>"
      ]
     },
     "execution_count": 9,
     "metadata": {},
     "output_type": "execute_result"
    },
    {
     "data": {
      "image/png": "[encoded data removed]",
      "text/plain": [
       "<Figure size 640x480 with 1 Axes>"
      ]
     },
     "metadata": {},
     "output_type": "display_data"
    }
   ],
   "source": [
    "df_train[\"rainfall\"].value_counts().plot(kind=\"bar\")"
   ]
  },
  {
   "cell_type": "code",
   "execution_count": 10,
   "id": "c063a964",
   "metadata": {
    "execution": {
     "iopub.execute_input": "2025-03-07T10:17:51.861261Z",
     "iopub.status.busy": "2025-03-07T10:17:51.860874Z",
     "iopub.status.idle": "2025-03-07T10:17:52.130290Z",
     "shell.execute_reply": "2025-03-07T10:17:52.129195Z"
    },
    "papermill": {
     "duration": 0.284257,
     "end_time": "2025-03-07T10:17:52.132744",
     "exception": false,
     "start_time": "2025-03-07T10:17:51.848487",
     "status": "completed"
    },
    "tags": []
   },
   "outputs": [
    {
     "data": {
      "text/plain": [
       "<Axes: ylabel='Frequency'>"
      ]
     },
     "execution_count": 10,
     "metadata": {},
     "output_type": "execute_result"
    },
    {
     "data": {
      "image/png": "[encoded data removed]",
      "text/plain": [
       "<Figure size 640x480 with 1 Axes>"
      ]
     },
     "metadata": {},
     "output_type": "display_data"
    }
   ],
   "source": [
    "df_train[\"day\"].value_counts().plot(kind=\"hist\")"
   ]
  },
  {
   "cell_type": "code",
   "execution_count": 11,
   "id": "b43914e7",
   "metadata": {
    "execution": {
     "iopub.execute_input": "2025-03-07T10:17:52.155620Z",
     "iopub.status.busy": "2025-03-07T10:17:52.155265Z",
     "iopub.status.idle": "2025-03-07T10:17:52.161478Z",
     "shell.execute_reply": "2025-03-07T10:17:52.160413Z"
    },
    "papermill": {
     "duration": 0.020234,
     "end_time": "2025-03-07T10:17:52.163632",
     "exception": false,
     "start_time": "2025-03-07T10:17:52.143398",
     "status": "completed"
    },
    "tags": []
   },
   "outputs": [],
   "source": [
    "df_train_2= df_train.drop(columns=[\"id\"])"
   ]
  },
  {
   "cell_type": "code",
   "execution_count": 12,
   "id": "2c7a68b8",
   "metadata": {
    "execution": {
     "iopub.execute_input": "2025-03-07T10:17:52.186602Z",
     "iopub.status.busy": "2025-03-07T10:17:52.186231Z",
     "iopub.status.idle": "2025-03-07T10:17:52.194021Z",
     "shell.execute_reply": "2025-03-07T10:17:52.192581Z"
    },
    "papermill": {
     "duration": 0.0223,
     "end_time": "2025-03-07T10:17:52.196247",
     "exception": false,
     "start_time": "2025-03-07T10:17:52.173947",
     "status": "completed"
    },
    "tags": []
   },
   "outputs": [
    {
     "data": {
      "text/plain": [
       "Index(['day', 'pressure', 'maxtemp', 'temparature', 'mintemp', 'dewpoint',\n",
       "       'humidity', 'cloud', 'sunshine', 'winddirection', 'windspeed',\n",
       "       'rainfall'],\n",
       "      dtype='object')"
      ]
     },
     "execution_count": 12,
     "metadata": {},
     "output_type": "execute_result"
    }
   ],
   "source": [
    "df_train_2.columns"
   ]
  },
  {
   "cell_type": "code",
   "execution_count": 13,
   "id": "93fd2cfe",
   "metadata": {
    "execution": {
     "iopub.execute_input": "2025-03-07T10:17:52.218901Z",
     "iopub.status.busy": "2025-03-07T10:17:52.218508Z",
     "iopub.status.idle": "2025-03-07T10:17:54.305694Z",
     "shell.execute_reply": "2025-03-07T10:17:54.304673Z"
    },
    "papermill": {
     "duration": 2.101706,
     "end_time": "2025-03-07T10:17:54.308309",
     "exception": false,
     "start_time": "2025-03-07T10:17:52.206603",
     "status": "completed"
    },
    "tags": []
   },
   "outputs": [],
   "source": [
    "from imblearn.over_sampling import SMOTE\n",
    "\n",
    "\n",
    "\n",
    "X = df_train_2.drop('rainfall', axis=1)\n",
    "y = df_train_2['rainfall']\n",
    "\n",
    "smote = SMOTE(random_state=42)\n",
    "X_resampled, y_resampled = smote.fit_resample(X, y)"
   ]
  },
  {
   "cell_type": "code",
   "execution_count": 14,
   "id": "296fac2f",
   "metadata": {
    "execution": {
     "iopub.execute_input": "2025-03-07T10:17:54.331329Z",
     "iopub.status.busy": "2025-03-07T10:17:54.330206Z",
     "iopub.status.idle": "2025-03-07T10:17:54.336281Z",
     "shell.execute_reply": "2025-03-07T10:17:54.335190Z"
    },
    "papermill": {
     "duration": 0.019725,
     "end_time": "2025-03-07T10:17:54.338492",
     "exception": false,
     "start_time": "2025-03-07T10:17:54.318767",
     "status": "completed"
    },
    "tags": []
   },
   "outputs": [
    {
     "name": "stdout",
     "output_type": "stream",
     "text": [
      "(2190, 11)\n",
      "(2190,)\n",
      "(3300, 11)\n",
      "(3300,)\n"
     ]
    }
   ],
   "source": [
    "print(X.shape)\n",
    "print(y.shape)\n",
    "print(X_resampled.shape)\n",
    "print(y_resampled.shape)"
   ]
  },
  {
   "cell_type": "markdown",
   "id": "e5a3a3b0",
   "metadata": {
    "papermill": {
     "duration": 0.00988,
     "end_time": "2025-03-07T10:17:54.358684",
     "exception": false,
     "start_time": "2025-03-07T10:17:54.348804",
     "status": "completed"
    },
    "tags": []
   },
   "source": [
    "# Randomforest Model"
   ]
  },
  {
   "cell_type": "code",
   "execution_count": 15,
   "id": "f485fbba",
   "metadata": {
    "execution": {
     "iopub.execute_input": "2025-03-07T10:17:54.381780Z",
     "iopub.status.busy": "2025-03-07T10:17:54.381004Z",
     "iopub.status.idle": "2025-03-07T10:17:54.837284Z",
     "shell.execute_reply": "2025-03-07T10:17:54.836129Z"
    },
    "papermill": {
     "duration": 0.470653,
     "end_time": "2025-03-07T10:17:54.839709",
     "exception": false,
     "start_time": "2025-03-07T10:17:54.369056",
     "status": "completed"
    },
    "tags": []
   },
   "outputs": [
    {
     "name": "stdout",
     "output_type": "stream",
     "text": [
      "              precision    recall  f1-score   support\n",
      "\n",
      "           0       0.78      0.60      0.68       119\n",
      "           1       0.86      0.94      0.90       319\n",
      "\n",
      "    accuracy                           0.84       438\n",
      "   macro avg       0.82      0.77      0.79       438\n",
      "weighted avg       0.84      0.84      0.84       438\n",
      "\n"
     ]
    }
   ],
   "source": [
    "from sklearn.model_selection import train_test_split\n",
    "from sklearn.metrics import classification_report\n",
    "\n",
    "X_train, X_test, y_train, y_test = train_test_split(X, y, test_size=0.2, random_state=42)\n",
    "\n",
    "# Train your model (e.g., a Random Forest classifier)\n",
    "from sklearn.ensemble import RandomForestClassifier\n",
    "\n",
    "clf = RandomForestClassifier(random_state=42)\n",
    "clf.fit(X_train, y_train)\n",
    "\n",
    "# Evaluate the model\n",
    "y_pred = clf.predict(X_test)\n",
    "print(classification_report(y_test, y_pred))"
   ]
  },
  {
   "cell_type": "code",
   "execution_count": 16,
   "id": "c375b2a9",
   "metadata": {
    "execution": {
     "iopub.execute_input": "2025-03-07T10:17:54.862615Z",
     "iopub.status.busy": "2025-03-07T10:17:54.862242Z",
     "iopub.status.idle": "2025-03-07T10:17:55.425321Z",
     "shell.execute_reply": "2025-03-07T10:17:55.424191Z"
    },
    "papermill": {
     "duration": 0.577327,
     "end_time": "2025-03-07T10:17:55.427716",
     "exception": false,
     "start_time": "2025-03-07T10:17:54.850389",
     "status": "completed"
    },
    "tags": []
   },
   "outputs": [
    {
     "data": {
      "image/png": "[encoded data removed]",
      "text/plain": [
       "<Figure size 640x480 with 2 Axes>"
      ]
     },
     "metadata": {},
     "output_type": "display_data"
    }
   ],
   "source": [
    "from sklearn.metrics import confusion_matrix\n",
    "import seaborn as sns\n",
    "\n",
    "\n",
    "cm = confusion_matrix(y_test,y_pred)\n",
    "\n",
    "#Plot the confusion matrix.\n",
    "\n",
    "sns.heatmap(cm,\n",
    "            annot=True,\n",
    "            fmt='g',\n",
    "            # xticklabels=['Dog','Not Dog'],\n",
    "            # yticklabels=['Dog','Not Dog']\n",
    "           )\n",
    "plt.ylabel('Prediction',fontsize=13)\n",
    "plt.xlabel('Actual',fontsize=13)\n",
    "plt.title('Confusion Matrix',fontsize=17)\n",
    "plt.show()"
   ]
  },
  {
   "cell_type": "code",
   "execution_count": 17,
   "id": "7af54735",
   "metadata": {
    "execution": {
     "iopub.execute_input": "2025-03-07T10:17:55.451436Z",
     "iopub.status.busy": "2025-03-07T10:17:55.450618Z",
     "iopub.status.idle": "2025-03-07T10:17:55.468526Z",
     "shell.execute_reply": "2025-03-07T10:17:55.467415Z"
    },
    "papermill": {
     "duration": 0.03197,
     "end_time": "2025-03-07T10:17:55.470531",
     "exception": false,
     "start_time": "2025-03-07T10:17:55.438561",
     "status": "completed"
    },
    "tags": []
   },
   "outputs": [
    {
     "data": {
      "text/html": [
       "<div>\n",
       "<style scoped>\n",
       "    .dataframe tbody tr th:only-of-type {\n",
       "        vertical-align: middle;\n",
       "    }\n",
       "\n",
       "    .dataframe tbody tr th {\n",
       "        vertical-align: top;\n",
       "    }\n",
       "\n",
       "    .dataframe thead th {\n",
       "        text-align: right;\n",
       "    }\n",
       "</style>\n",
       "<table border=\"1\" class=\"dataframe\">\n",
       "  <thead>\n",
       "    <tr style=\"text-align: right;\">\n",
       "      <th></th>\n",
       "      <th>id</th>\n",
       "      <th>day</th>\n",
       "      <th>pressure</th>\n",
       "      <th>maxtemp</th>\n",
       "      <th>temparature</th>\n",
       "      <th>mintemp</th>\n",
       "      <th>dewpoint</th>\n",
       "      <th>humidity</th>\n",
       "      <th>cloud</th>\n",
       "      <th>sunshine</th>\n",
       "      <th>winddirection</th>\n",
       "      <th>windspeed</th>\n",
       "    </tr>\n",
       "  </thead>\n",
       "  <tbody>\n",
       "    <tr>\n",
       "      <th>0</th>\n",
       "      <td>2190</td>\n",
       "      <td>1</td>\n",
       "      <td>1019.5</td>\n",
       "      <td>17.5</td>\n",
       "      <td>15.8</td>\n",
       "      <td>12.7</td>\n",
       "      <td>14.9</td>\n",
       "      <td>96.0</td>\n",
       "      <td>99.0</td>\n",
       "      <td>0.0</td>\n",
       "      <td>50.0</td>\n",
       "      <td>24.3</td>\n",
       "    </tr>\n",
       "    <tr>\n",
       "      <th>1</th>\n",
       "      <td>2191</td>\n",
       "      <td>2</td>\n",
       "      <td>1016.5</td>\n",
       "      <td>17.5</td>\n",
       "      <td>16.5</td>\n",
       "      <td>15.8</td>\n",
       "      <td>15.1</td>\n",
       "      <td>97.0</td>\n",
       "      <td>99.0</td>\n",
       "      <td>0.0</td>\n",
       "      <td>50.0</td>\n",
       "      <td>35.3</td>\n",
       "    </tr>\n",
       "    <tr>\n",
       "      <th>2</th>\n",
       "      <td>2192</td>\n",
       "      <td>3</td>\n",
       "      <td>1023.9</td>\n",
       "      <td>11.2</td>\n",
       "      <td>10.4</td>\n",
       "      <td>9.4</td>\n",
       "      <td>8.9</td>\n",
       "      <td>86.0</td>\n",
       "      <td>96.0</td>\n",
       "      <td>0.0</td>\n",
       "      <td>40.0</td>\n",
       "      <td>16.9</td>\n",
       "    </tr>\n",
       "    <tr>\n",
       "      <th>3</th>\n",
       "      <td>2193</td>\n",
       "      <td>4</td>\n",
       "      <td>1022.9</td>\n",
       "      <td>20.6</td>\n",
       "      <td>17.3</td>\n",
       "      <td>15.2</td>\n",
       "      <td>9.5</td>\n",
       "      <td>75.0</td>\n",
       "      <td>45.0</td>\n",
       "      <td>7.1</td>\n",
       "      <td>20.0</td>\n",
       "      <td>50.6</td>\n",
       "    </tr>\n",
       "    <tr>\n",
       "      <th>4</th>\n",
       "      <td>2194</td>\n",
       "      <td>5</td>\n",
       "      <td>1022.2</td>\n",
       "      <td>16.1</td>\n",
       "      <td>13.8</td>\n",
       "      <td>6.4</td>\n",
       "      <td>4.3</td>\n",
       "      <td>68.0</td>\n",
       "      <td>49.0</td>\n",
       "      <td>9.2</td>\n",
       "      <td>20.0</td>\n",
       "      <td>19.4</td>\n",
       "    </tr>\n",
       "  </tbody>\n",
       "</table>\n",
       "</div>"
      ],
      "text/plain": [
       "     id  day  pressure  maxtemp  temparature  mintemp  dewpoint  humidity  \\\n",
       "0  2190    1    1019.5     17.5         15.8     12.7      14.9      96.0   \n",
       "1  2191    2    1016.5     17.5         16.5     15.8      15.1      97.0   \n",
       "2  2192    3    1023.9     11.2         10.4      9.4       8.9      86.0   \n",
       "3  2193    4    1022.9     20.6         17.3     15.2       9.5      75.0   \n",
       "4  2194    5    1022.2     16.1         13.8      6.4       4.3      68.0   \n",
       "\n",
       "   cloud  sunshine  winddirection  windspeed  \n",
       "0   99.0       0.0           50.0       24.3  \n",
       "1   99.0       0.0           50.0       35.3  \n",
       "2   96.0       0.0           40.0       16.9  \n",
       "3   45.0       7.1           20.0       50.6  \n",
       "4   49.0       9.2           20.0       19.4  "
      ]
     },
     "execution_count": 17,
     "metadata": {},
     "output_type": "execute_result"
    }
   ],
   "source": [
    "df_test.head()"
   ]
  },
  {
   "cell_type": "code",
   "execution_count": 18,
   "id": "c0899bb9",
   "metadata": {
    "execution": {
     "iopub.execute_input": "2025-03-07T10:17:55.495170Z",
     "iopub.status.busy": "2025-03-07T10:17:55.494300Z",
     "iopub.status.idle": "2025-03-07T10:17:55.500359Z",
     "shell.execute_reply": "2025-03-07T10:17:55.499212Z"
    },
    "papermill": {
     "duration": 0.021004,
     "end_time": "2025-03-07T10:17:55.502567",
     "exception": false,
     "start_time": "2025-03-07T10:17:55.481563",
     "status": "completed"
    },
    "tags": []
   },
   "outputs": [],
   "source": [
    "df_test_2= df_test.drop(columns=[\"id\"])"
   ]
  },
  {
   "cell_type": "code",
   "execution_count": 19,
   "id": "c7d02858",
   "metadata": {
    "execution": {
     "iopub.execute_input": "2025-03-07T10:17:55.526267Z",
     "iopub.status.busy": "2025-03-07T10:17:55.525891Z",
     "iopub.status.idle": "2025-03-07T10:17:55.534312Z",
     "shell.execute_reply": "2025-03-07T10:17:55.533304Z"
    },
    "papermill": {
     "duration": 0.022847,
     "end_time": "2025-03-07T10:17:55.536541",
     "exception": false,
     "start_time": "2025-03-07T10:17:55.513694",
     "status": "completed"
    },
    "tags": []
   },
   "outputs": [
    {
     "data": {
      "text/plain": [
       "day              0\n",
       "pressure         0\n",
       "maxtemp          0\n",
       "temparature      0\n",
       "mintemp          0\n",
       "dewpoint         0\n",
       "humidity         0\n",
       "cloud            0\n",
       "sunshine         0\n",
       "winddirection    1\n",
       "windspeed        0\n",
       "dtype: int64"
      ]
     },
     "execution_count": 19,
     "metadata": {},
     "output_type": "execute_result"
    }
   ],
   "source": [
    "df_test_2.isna().sum()"
   ]
  },
  {
   "cell_type": "code",
   "execution_count": 20,
   "id": "0117ff45",
   "metadata": {
    "execution": {
     "iopub.execute_input": "2025-03-07T10:17:55.560347Z",
     "iopub.status.busy": "2025-03-07T10:17:55.559962Z",
     "iopub.status.idle": "2025-03-07T10:17:55.575946Z",
     "shell.execute_reply": "2025-03-07T10:17:55.574842Z"
    },
    "papermill": {
     "duration": 0.03035,
     "end_time": "2025-03-07T10:17:55.578028",
     "exception": false,
     "start_time": "2025-03-07T10:17:55.547678",
     "status": "completed"
    },
    "tags": []
   },
   "outputs": [
    {
     "data": {
      "text/html": [
       "<div>\n",
       "<style scoped>\n",
       "    .dataframe tbody tr th:only-of-type {\n",
       "        vertical-align: middle;\n",
       "    }\n",
       "\n",
       "    .dataframe tbody tr th {\n",
       "        vertical-align: top;\n",
       "    }\n",
       "\n",
       "    .dataframe thead th {\n",
       "        text-align: right;\n",
       "    }\n",
       "</style>\n",
       "<table border=\"1\" class=\"dataframe\">\n",
       "  <thead>\n",
       "    <tr style=\"text-align: right;\">\n",
       "      <th></th>\n",
       "      <th>day</th>\n",
       "      <th>pressure</th>\n",
       "      <th>maxtemp</th>\n",
       "      <th>temparature</th>\n",
       "      <th>mintemp</th>\n",
       "      <th>dewpoint</th>\n",
       "      <th>humidity</th>\n",
       "      <th>cloud</th>\n",
       "      <th>sunshine</th>\n",
       "      <th>winddirection</th>\n",
       "      <th>windspeed</th>\n",
       "    </tr>\n",
       "  </thead>\n",
       "  <tbody>\n",
       "    <tr>\n",
       "      <th>517</th>\n",
       "      <td>153</td>\n",
       "      <td>1007.8</td>\n",
       "      <td>32.9</td>\n",
       "      <td>30.6</td>\n",
       "      <td>28.9</td>\n",
       "      <td>22.0</td>\n",
       "      <td>65.0</td>\n",
       "      <td>75.0</td>\n",
       "      <td>8.2</td>\n",
       "      <td>NaN</td>\n",
       "      <td>17.2</td>\n",
       "    </tr>\n",
       "  </tbody>\n",
       "</table>\n",
       "</div>"
      ],
      "text/plain": [
       "     day  pressure  maxtemp  temparature  mintemp  dewpoint  humidity  cloud  \\\n",
       "517  153    1007.8     32.9         30.6     28.9      22.0      65.0   75.0   \n",
       "\n",
       "     sunshine  winddirection  windspeed  \n",
       "517       8.2            NaN       17.2  "
      ]
     },
     "execution_count": 20,
     "metadata": {},
     "output_type": "execute_result"
    }
   ],
   "source": [
    "df_test_2[df_test_2[\"winddirection\"].isna()]"
   ]
  },
  {
   "cell_type": "code",
   "execution_count": 21,
   "id": "676b5ee2",
   "metadata": {
    "execution": {
     "iopub.execute_input": "2025-03-07T10:17:55.662145Z",
     "iopub.status.busy": "2025-03-07T10:17:55.661685Z",
     "iopub.status.idle": "2025-03-07T10:17:55.670994Z",
     "shell.execute_reply": "2025-03-07T10:17:55.669871Z"
    },
    "papermill": {
     "duration": 0.083975,
     "end_time": "2025-03-07T10:17:55.673316",
     "exception": false,
     "start_time": "2025-03-07T10:17:55.589341",
     "status": "completed"
    },
    "tags": []
   },
   "outputs": [
    {
     "data": {
      "text/plain": [
       "70.0"
      ]
     },
     "execution_count": 21,
     "metadata": {},
     "output_type": "execute_result"
    }
   ],
   "source": [
    "df_test_2[\"winddirection\"].mode().values[0]"
   ]
  },
  {
   "cell_type": "code",
   "execution_count": 22,
   "id": "2de6a39b",
   "metadata": {
    "execution": {
     "iopub.execute_input": "2025-03-07T10:17:55.698576Z",
     "iopub.status.busy": "2025-03-07T10:17:55.698217Z",
     "iopub.status.idle": "2025-03-07T10:17:55.704645Z",
     "shell.execute_reply": "2025-03-07T10:17:55.703522Z"
    },
    "papermill": {
     "duration": 0.02182,
     "end_time": "2025-03-07T10:17:55.706762",
     "exception": false,
     "start_time": "2025-03-07T10:17:55.684942",
     "status": "completed"
    },
    "tags": []
   },
   "outputs": [],
   "source": [
    "wind_mode= df_test_2[\"winddirection\"].mode().values[0]\n",
    "df_test_2[\"winddirection\"] = df_test_2[\"winddirection\"].fillna(value=wind_mode)"
   ]
  },
  {
   "cell_type": "code",
   "execution_count": 23,
   "id": "067ab2d0",
   "metadata": {
    "execution": {
     "iopub.execute_input": "2025-03-07T10:17:55.732089Z",
     "iopub.status.busy": "2025-03-07T10:17:55.731191Z",
     "iopub.status.idle": "2025-03-07T10:17:55.751684Z",
     "shell.execute_reply": "2025-03-07T10:17:55.750554Z"
    },
    "papermill": {
     "duration": 0.035822,
     "end_time": "2025-03-07T10:17:55.754203",
     "exception": false,
     "start_time": "2025-03-07T10:17:55.718381",
     "status": "completed"
    },
    "tags": []
   },
   "outputs": [],
   "source": [
    "df_test_pred = clf.predict(df_test_2)"
   ]
  },
  {
   "cell_type": "code",
   "execution_count": 24,
   "id": "704ab839",
   "metadata": {
    "execution": {
     "iopub.execute_input": "2025-03-07T10:17:55.779376Z",
     "iopub.status.busy": "2025-03-07T10:17:55.778433Z",
     "iopub.status.idle": "2025-03-07T10:17:55.786746Z",
     "shell.execute_reply": "2025-03-07T10:17:55.785598Z"
    },
    "papermill": {
     "duration": 0.023213,
     "end_time": "2025-03-07T10:17:55.788868",
     "exception": false,
     "start_time": "2025-03-07T10:17:55.765655",
     "status": "completed"
    },
    "tags": []
   },
   "outputs": [
    {
     "data": {
      "text/plain": [
       "array([1, 1, 1, 0, 0, 1, 1, 1, 1, 1, 1, 0, 1, 1, 0, 0, 1, 1, 0, 0, 0, 0,\n",
       "       1, 1, 1, 0, 0, 1, 1, 0, 1, 1, 1, 1, 1, 1, 0, 1, 1, 1, 1, 1, 0, 1,\n",
       "       1, 0, 0, 1, 0, 1, 1, 1, 1, 1, 1, 1, 1, 1, 1, 1, 1, 1, 1, 1, 0, 0,\n",
       "       0, 1, 1, 0, 1, 1, 1, 1, 1, 1, 1, 1, 0, 1, 1, 1, 0, 1, 1, 1, 1, 1,\n",
       "       1, 1, 1, 1, 1, 1, 1, 1, 1, 1, 1, 1, 1, 1, 1, 1, 1, 1, 1, 1, 1, 1,\n",
       "       1, 1, 1, 1, 1, 1, 1, 1, 1, 1, 1, 1, 1, 0, 1, 1, 1, 1, 1, 1, 1, 1,\n",
       "       1, 1, 1, 1, 1, 1, 1, 1, 1, 1, 0, 1, 1, 1, 1, 0, 1, 1, 1, 1, 1, 0,\n",
       "       1, 1, 1, 1, 1, 1, 1, 1, 0, 0, 0, 0, 1, 1, 1, 0, 1, 1, 1, 1, 1, 1,\n",
       "       1, 1, 1, 1, 1, 1, 0, 1, 1, 1, 0, 1, 1, 1, 1, 1, 1, 0, 1, 0, 0, 1,\n",
       "       1, 0, 0, 1, 0, 1, 1, 0, 1, 1, 1, 0, 1, 1, 1, 1, 1, 1, 1, 1, 0, 1,\n",
       "       1, 1, 1, 1, 1, 0, 1, 1, 1, 1, 0, 0, 1, 1, 1, 0, 0, 0, 1, 0, 1, 1,\n",
       "       1, 0, 1, 1, 1, 0, 1, 1, 1, 1, 1, 0, 1, 1, 1, 1, 1, 0, 1, 1, 1, 1,\n",
       "       1, 0, 0, 1, 1, 1, 0, 1, 1, 0, 1, 1, 1, 0, 0, 1, 1, 0, 1, 0, 0, 0,\n",
       "       1, 1, 1, 1, 1, 1, 1, 1, 1, 1, 1, 1, 1, 1, 1, 0, 1, 1, 1, 1, 1, 1,\n",
       "       1, 1, 0, 1, 0, 1, 1, 1, 1, 1, 1, 0, 1, 1, 1, 1, 1, 1, 1, 1, 1, 1,\n",
       "       1, 1, 1, 1, 0, 1, 0, 1, 1, 1, 1, 1, 1, 1, 1, 0, 1, 1, 1, 1, 1, 1,\n",
       "       1, 1, 1, 1, 1, 1, 1, 1, 0, 1, 1, 1, 1, 1, 1, 0, 1, 1, 1, 1, 1, 1,\n",
       "       1, 1, 1, 1, 1, 1, 0, 0, 1, 0, 0, 1, 1, 1, 1, 1, 1, 0, 1, 1, 0, 1,\n",
       "       1, 0, 1, 0, 1, 1, 1, 1, 1, 1, 1, 0, 1, 0, 1, 1, 1, 0, 1, 1, 1, 1,\n",
       "       1, 1, 1, 0, 1, 0, 1, 1, 1, 1, 1, 1, 1, 1, 1, 1, 1, 1, 1, 0, 1, 1,\n",
       "       1, 1, 1, 1, 0, 1, 1, 1, 1, 1, 1, 1, 1, 1, 1, 1, 1, 1, 1, 1, 1, 1,\n",
       "       1, 1, 1, 1, 1, 1, 1, 1, 1, 1, 1, 1, 1, 1, 1, 1, 1, 1, 1, 1, 1, 1,\n",
       "       1, 1, 1, 1, 1, 1, 1, 1, 1, 1, 1, 1, 1, 1, 1, 1, 1, 1, 1, 1, 1, 1,\n",
       "       1, 1, 0, 0, 0, 1, 1, 1, 0, 0, 1, 1, 1, 0, 0, 0, 1, 1, 1, 1, 0, 1,\n",
       "       0, 1, 0, 1, 0, 1, 0, 1, 0, 0, 1, 1, 0, 1, 1, 1, 1, 1, 1, 0, 1, 0,\n",
       "       0, 0, 0, 1, 1, 0, 0, 0, 1, 0, 0, 0, 0, 0, 0, 1, 1, 0, 1, 0, 0, 0,\n",
       "       1, 0, 0, 1, 1, 0, 0, 1, 1, 1, 1, 0, 0, 1, 0, 1, 1, 1, 1, 1, 1, 0,\n",
       "       1, 1, 1, 1, 1, 1, 1, 1, 1, 1, 0, 0, 1, 1, 1, 1, 1, 0, 1, 1, 1, 1,\n",
       "       0, 0, 1, 1, 0, 1, 1, 1, 1, 1, 1, 0, 0, 1, 0, 1, 0, 1, 1, 1, 0, 1,\n",
       "       0, 1, 0, 1, 1, 1, 0, 1, 0, 1, 1, 1, 0, 0, 0, 1, 0, 1, 1, 1, 1, 1,\n",
       "       1, 1, 1, 1, 1, 1, 1, 1, 1, 1, 1, 1, 1, 1, 1, 1, 1, 1, 1, 0, 1, 1,\n",
       "       1, 1, 1, 1, 0, 1, 1, 1, 1, 1, 1, 1, 0, 1, 1, 1, 1, 0, 1, 1, 1, 0,\n",
       "       0, 1, 1, 0, 0, 1, 0, 1, 0, 0, 1, 1, 1, 1, 1, 1, 1, 1, 1, 1, 1, 1,\n",
       "       1, 1, 1, 1])"
      ]
     },
     "execution_count": 24,
     "metadata": {},
     "output_type": "execute_result"
    }
   ],
   "source": [
    "df_test_pred"
   ]
  },
  {
   "cell_type": "code",
   "execution_count": 25,
   "id": "ecfabf8c",
   "metadata": {
    "execution": {
     "iopub.execute_input": "2025-03-07T10:17:55.814615Z",
     "iopub.status.busy": "2025-03-07T10:17:55.813869Z",
     "iopub.status.idle": "2025-03-07T10:17:55.821979Z",
     "shell.execute_reply": "2025-03-07T10:17:55.820886Z"
    },
    "papermill": {
     "duration": 0.023524,
     "end_time": "2025-03-07T10:17:55.824287",
     "exception": false,
     "start_time": "2025-03-07T10:17:55.800763",
     "status": "completed"
    },
    "tags": []
   },
   "outputs": [
    {
     "data": {
      "text/plain": [
       "0      2190\n",
       "1      2191\n",
       "2      2192\n",
       "3      2193\n",
       "4      2194\n",
       "       ... \n",
       "725    2915\n",
       "726    2916\n",
       "727    2917\n",
       "728    2918\n",
       "729    2919\n",
       "Name: id, Length: 730, dtype: int64"
      ]
     },
     "execution_count": 25,
     "metadata": {},
     "output_type": "execute_result"
    }
   ],
   "source": [
    "df_test[\"id\"]"
   ]
  },
  {
   "cell_type": "code",
   "execution_count": 26,
   "id": "9e2c6e0a",
   "metadata": {
    "execution": {
     "iopub.execute_input": "2025-03-07T10:17:55.851026Z",
     "iopub.status.busy": "2025-03-07T10:17:55.850650Z",
     "iopub.status.idle": "2025-03-07T10:17:55.857180Z",
     "shell.execute_reply": "2025-03-07T10:17:55.855524Z"
    },
    "papermill": {
     "duration": 0.023101,
     "end_time": "2025-03-07T10:17:55.859466",
     "exception": false,
     "start_time": "2025-03-07T10:17:55.836365",
     "status": "completed"
    },
    "tags": []
   },
   "outputs": [],
   "source": [
    "# Creating a DataFrame from the Series\n",
    "df_test_predictions = pd.DataFrame({'id': df_test[\"id\"], 'Rainfall': df_test_pred})"
   ]
  },
  {
   "cell_type": "code",
   "execution_count": 27,
   "id": "0eac436a",
   "metadata": {
    "execution": {
     "iopub.execute_input": "2025-03-07T10:17:55.886054Z",
     "iopub.status.busy": "2025-03-07T10:17:55.885657Z",
     "iopub.status.idle": "2025-03-07T10:17:55.897383Z",
     "shell.execute_reply": "2025-03-07T10:17:55.896217Z"
    },
    "papermill": {
     "duration": 0.028222,
     "end_time": "2025-03-07T10:17:55.899820",
     "exception": false,
     "start_time": "2025-03-07T10:17:55.871598",
     "status": "completed"
    },
    "tags": []
   },
   "outputs": [
    {
     "data": {
      "text/html": [
       "<div>\n",
       "<style scoped>\n",
       "    .dataframe tbody tr th:only-of-type {\n",
       "        vertical-align: middle;\n",
       "    }\n",
       "\n",
       "    .dataframe tbody tr th {\n",
       "        vertical-align: top;\n",
       "    }\n",
       "\n",
       "    .dataframe thead th {\n",
       "        text-align: right;\n",
       "    }\n",
       "</style>\n",
       "<table border=\"1\" class=\"dataframe\">\n",
       "  <thead>\n",
       "    <tr style=\"text-align: right;\">\n",
       "      <th></th>\n",
       "      <th>id</th>\n",
       "      <th>Rainfall</th>\n",
       "    </tr>\n",
       "  </thead>\n",
       "  <tbody>\n",
       "    <tr>\n",
       "      <th>0</th>\n",
       "      <td>2190</td>\n",
       "      <td>1</td>\n",
       "    </tr>\n",
       "    <tr>\n",
       "      <th>1</th>\n",
       "      <td>2191</td>\n",
       "      <td>1</td>\n",
       "    </tr>\n",
       "    <tr>\n",
       "      <th>2</th>\n",
       "      <td>2192</td>\n",
       "      <td>1</td>\n",
       "    </tr>\n",
       "    <tr>\n",
       "      <th>3</th>\n",
       "      <td>2193</td>\n",
       "      <td>0</td>\n",
       "    </tr>\n",
       "    <tr>\n",
       "      <th>4</th>\n",
       "      <td>2194</td>\n",
       "      <td>0</td>\n",
       "    </tr>\n",
       "    <tr>\n",
       "      <th>...</th>\n",
       "      <td>...</td>\n",
       "      <td>...</td>\n",
       "    </tr>\n",
       "    <tr>\n",
       "      <th>725</th>\n",
       "      <td>2915</td>\n",
       "      <td>1</td>\n",
       "    </tr>\n",
       "    <tr>\n",
       "      <th>726</th>\n",
       "      <td>2916</td>\n",
       "      <td>1</td>\n",
       "    </tr>\n",
       "    <tr>\n",
       "      <th>727</th>\n",
       "      <td>2917</td>\n",
       "      <td>1</td>\n",
       "    </tr>\n",
       "    <tr>\n",
       "      <th>728</th>\n",
       "      <td>2918</td>\n",
       "      <td>1</td>\n",
       "    </tr>\n",
       "    <tr>\n",
       "      <th>729</th>\n",
       "      <td>2919</td>\n",
       "      <td>1</td>\n",
       "    </tr>\n",
       "  </tbody>\n",
       "</table>\n",
       "<p>730 rows × 2 columns</p>\n",
       "</div>"
      ],
      "text/plain": [
       "       id  Rainfall\n",
       "0    2190         1\n",
       "1    2191         1\n",
       "2    2192         1\n",
       "3    2193         0\n",
       "4    2194         0\n",
       "..    ...       ...\n",
       "725  2915         1\n",
       "726  2916         1\n",
       "727  2917         1\n",
       "728  2918         1\n",
       "729  2919         1\n",
       "\n",
       "[730 rows x 2 columns]"
      ]
     },
     "execution_count": 27,
     "metadata": {},
     "output_type": "execute_result"
    }
   ],
   "source": [
    "df_test_predictions"
   ]
  },
  {
   "cell_type": "markdown",
   "id": "eacd7289",
   "metadata": {
    "papermill": {
     "duration": 0.012106,
     "end_time": "2025-03-07T10:17:55.924805",
     "exception": false,
     "start_time": "2025-03-07T10:17:55.912699",
     "status": "completed"
    },
    "tags": []
   },
   "source": [
    "# Hyperparameter Tunning"
   ]
  },
  {
   "cell_type": "code",
   "execution_count": 28,
   "id": "9075a264",
   "metadata": {
    "execution": {
     "iopub.execute_input": "2025-03-07T10:17:55.954736Z",
     "iopub.status.busy": "2025-03-07T10:17:55.953952Z",
     "iopub.status.idle": "2025-03-07T10:19:31.943084Z",
     "shell.execute_reply": "2025-03-07T10:19:31.941884Z"
    },
    "papermill": {
     "duration": 96.022783,
     "end_time": "2025-03-07T10:19:31.960257",
     "exception": false,
     "start_time": "2025-03-07T10:17:55.937474",
     "status": "completed"
    },
    "tags": []
   },
   "outputs": [
    {
     "name": "stderr",
     "output_type": "stream",
     "text": [
      "[I 2025-03-07 10:17:56,149] A new study created in memory with name: no-name-ab941faf-bf02-47ce-8458-64f414c3f633\n",
      "[I 2025-03-07 10:17:57,293] Trial 0 finished with value: 0.8726711415674625 and parameters: {'n_estimators': 268, 'max_depth': 5, 'min_samples_split': 6, 'min_samples_leaf': 9, 'max_features': 'log2'}. Best is trial 0 with value: 0.8726711415674625.\n",
      "[I 2025-03-07 10:17:58,053] Trial 1 finished with value: 0.874178579257477 and parameters: {'n_estimators': 163, 'max_depth': 6, 'min_samples_split': 6, 'min_samples_leaf': 8, 'max_features': 'log2'}. Best is trial 1 with value: 0.874178579257477.\n",
      "[I 2025-03-07 10:17:58,989] Trial 2 finished with value: 0.9060580179846235 and parameters: {'n_estimators': 152, 'max_depth': 19, 'min_samples_split': 5, 'min_samples_leaf': 4, 'max_features': 'sqrt'}. Best is trial 2 with value: 0.9060580179846235.\n",
      "[I 2025-03-07 10:18:01,205] Trial 3 finished with value: 0.8832891185759403 and parameters: {'n_estimators': 438, 'max_depth': 7, 'min_samples_split': 5, 'min_samples_leaf': 5, 'max_features': 'sqrt'}. Best is trial 2 with value: 0.9060580179846235.\n",
      "[I 2025-03-07 10:18:02,379] Trial 4 finished with value: 0.8847976995134187 and parameters: {'n_estimators': 211, 'max_depth': 11, 'min_samples_split': 7, 'min_samples_leaf': 10, 'max_features': 'log2'}. Best is trial 2 with value: 0.9060580179846235.\n",
      "[I 2025-03-07 10:18:04,457] Trial 5 finished with value: 0.8954437432956166 and parameters: {'n_estimators': 338, 'max_depth': 20, 'min_samples_split': 2, 'min_samples_leaf': 5, 'max_features': 'log2'}. Best is trial 2 with value: 0.9060580179846235.\n",
      "[I 2025-03-07 10:18:05,617] Trial 6 finished with value: 0.9045461119474146 and parameters: {'n_estimators': 180, 'max_depth': 15, 'min_samples_split': 2, 'min_samples_leaf': 2, 'max_features': 'sqrt'}. Best is trial 2 with value: 0.9060580179846235.\n",
      "[I 2025-03-07 10:18:06,394] Trial 7 finished with value: 0.886343543546302 and parameters: {'n_estimators': 139, 'max_depth': 20, 'min_samples_split': 4, 'min_samples_leaf': 10, 'max_features': 'log2'}. Best is trial 2 with value: 0.9060580179846235.\n",
      "[I 2025-03-07 10:18:07,225] Trial 8 finished with value: 0.8954495048174088 and parameters: {'n_estimators': 140, 'max_depth': 10, 'min_samples_split': 4, 'min_samples_leaf': 3, 'max_features': 'sqrt'}. Best is trial 2 with value: 0.9060580179846235.\n",
      "[I 2025-03-07 10:18:08,546] Trial 9 finished with value: 0.8969555022092336 and parameters: {'n_estimators': 204, 'max_depth': 16, 'min_samples_split': 9, 'min_samples_leaf': 1, 'max_features': 'log2'}. Best is trial 2 with value: 0.9060580179846235.\n",
      "[I 2025-03-07 10:18:08,977] Trial 10 finished with value: 0.8878540697985141 and parameters: {'n_estimators': 67, 'max_depth': 16, 'min_samples_split': 10, 'min_samples_leaf': 7, 'max_features': 'sqrt'}. Best is trial 2 with value: 0.9060580179846235.\n",
      "[I 2025-03-07 10:18:09,437] Trial 11 finished with value: 0.9015140210620457 and parameters: {'n_estimators': 59, 'max_depth': 16, 'min_samples_split': 2, 'min_samples_leaf': 2, 'max_features': 'sqrt'}. Best is trial 2 with value: 0.9060580179846235.\n",
      "[I 2025-03-07 10:18:11,346] Trial 12 finished with value: 0.9015104030888634 and parameters: {'n_estimators': 298, 'max_depth': 14, 'min_samples_split': 3, 'min_samples_leaf': 3, 'max_features': 'sqrt'}. Best is trial 2 with value: 0.9060580179846235.\n",
      "[I 2025-03-07 10:18:13,756] Trial 13 finished with value: 0.9 and parameters: {'n_estimators': 386, 'max_depth': 18, 'min_samples_split': 8, 'min_samples_leaf': 4, 'max_features': 'sqrt'}. Best is trial 2 with value: 0.9060580179846235.\n",
      "[I 2025-03-07 10:18:15,311] Trial 14 finished with value: 0.9106066762795209 and parameters: {'n_estimators': 237, 'max_depth': 13, 'min_samples_split': 4, 'min_samples_leaf': 1, 'max_features': 'sqrt'}. Best is trial 14 with value: 0.9106066762795209.\n",
      "[I 2025-03-07 10:18:18,225] Trial 15 finished with value: 0.8954360600625977 and parameters: {'n_estimators': 498, 'max_depth': 9, 'min_samples_split': 5, 'min_samples_leaf': 1, 'max_features': 'sqrt'}. Best is trial 14 with value: 0.9106066762795209.\n",
      "[I 2025-03-07 10:18:19,115] Trial 16 finished with value: 0.8544813046485288 and parameters: {'n_estimators': 263, 'max_depth': 3, 'min_samples_split': 4, 'min_samples_leaf': 6, 'max_features': 'sqrt'}. Best is trial 14 with value: 0.9106066762795209.\n",
      "[I 2025-03-07 10:18:20,577] Trial 17 finished with value: 0.8984799539531363 and parameters: {'n_estimators': 235, 'max_depth': 13, 'min_samples_split': 7, 'min_samples_leaf': 4, 'max_features': 'sqrt'}. Best is trial 14 with value: 0.9106066762795209.\n",
      "[I 2025-03-07 10:18:21,325] Trial 18 finished with value: 0.895453345368974 and parameters: {'n_estimators': 115, 'max_depth': 12, 'min_samples_split': 5, 'min_samples_leaf': 3, 'max_features': 'sqrt'}. Best is trial 14 with value: 0.9106066762795209.\n",
      "[I 2025-03-07 10:18:23,230] Trial 19 finished with value: 0.8908850408850408 and parameters: {'n_estimators': 317, 'max_depth': 18, 'min_samples_split': 3, 'min_samples_leaf': 6, 'max_features': 'sqrt'}. Best is trial 14 with value: 0.9106066762795209.\n",
      "[I 2025-03-07 10:18:23,934] Trial 20 finished with value: 0.9030303030303031 and parameters: {'n_estimators': 103, 'max_depth': 18, 'min_samples_split': 6, 'min_samples_leaf': 1, 'max_features': 'sqrt'}. Best is trial 14 with value: 0.9106066762795209.\n",
      "[I 2025-03-07 10:18:25,126] Trial 21 finished with value: 0.9075763941078142 and parameters: {'n_estimators': 182, 'max_depth': 14, 'min_samples_split': 3, 'min_samples_leaf': 2, 'max_features': 'sqrt'}. Best is trial 14 with value: 0.9106066762795209.\n",
      "[I 2025-03-07 10:18:26,564] Trial 22 finished with value: 0.8999862227324915 and parameters: {'n_estimators': 222, 'max_depth': 13, 'min_samples_split': 3, 'min_samples_leaf': 2, 'max_features': 'sqrt'}. Best is trial 14 with value: 0.9106066762795209.\n",
      "[I 2025-03-07 10:18:27,543] Trial 23 finished with value: 0.8878540697985141 and parameters: {'n_estimators': 169, 'max_depth': 9, 'min_samples_split': 4, 'min_samples_leaf': 4, 'max_features': 'sqrt'}. Best is trial 14 with value: 0.9106066762795209.\n",
      "[I 2025-03-07 10:18:28,203] Trial 24 finished with value: 0.909091743892798 and parameters: {'n_estimators': 98, 'max_depth': 14, 'min_samples_split': 3, 'min_samples_leaf': 2, 'max_features': 'sqrt'}. Best is trial 14 with value: 0.9106066762795209.\n",
      "[I 2025-03-07 10:18:28,828] Trial 25 finished with value: 0.909091743892798 and parameters: {'n_estimators': 92, 'max_depth': 14, 'min_samples_split': 3, 'min_samples_leaf': 2, 'max_features': 'sqrt'}. Best is trial 14 with value: 0.9106066762795209.\n",
      "[I 2025-03-07 10:18:29,512] Trial 26 finished with value: 0.9045461119474146 and parameters: {'n_estimators': 104, 'max_depth': 11, 'min_samples_split': 3, 'min_samples_leaf': 1, 'max_features': 'sqrt'}. Best is trial 14 with value: 0.9106066762795209.\n",
      "[I 2025-03-07 10:18:30,087] Trial 27 finished with value: 0.9030231784061548 and parameters: {'n_estimators': 88, 'max_depth': 13, 'min_samples_split': 2, 'min_samples_leaf': 3, 'max_features': 'sqrt'}. Best is trial 14 with value: 0.9106066762795209.\n",
      "[I 2025-03-07 10:18:32,501] Trial 28 finished with value: 0.9106066762795209 and parameters: {'n_estimators': 370, 'max_depth': 15, 'min_samples_split': 4, 'min_samples_leaf': 2, 'max_features': 'sqrt'}. Best is trial 14 with value: 0.9106066762795209.\n",
      "[I 2025-03-07 10:18:34,939] Trial 29 finished with value: 0.9106050345024724 and parameters: {'n_estimators': 365, 'max_depth': 17, 'min_samples_split': 4, 'min_samples_leaf': 1, 'max_features': 'log2'}. Best is trial 14 with value: 0.9106066762795209.\n",
      "[I 2025-03-07 10:18:37,396] Trial 30 finished with value: 0.9121187911957341 and parameters: {'n_estimators': 371, 'max_depth': 17, 'min_samples_split': 4, 'min_samples_leaf': 1, 'max_features': 'log2'}. Best is trial 30 with value: 0.9121187911957341.\n",
      "[I 2025-03-07 10:18:39,866] Trial 31 finished with value: 0.9121187911957341 and parameters: {'n_estimators': 371, 'max_depth': 17, 'min_samples_split': 4, 'min_samples_leaf': 1, 'max_features': 'log2'}. Best is trial 30 with value: 0.9121187911957341.\n",
      "[I 2025-03-07 10:18:42,701] Trial 32 finished with value: 0.9136369584286133 and parameters: {'n_estimators': 416, 'max_depth': 17, 'min_samples_split': 5, 'min_samples_leaf': 1, 'max_features': 'log2'}. Best is trial 32 with value: 0.9136369584286133.\n",
      "[I 2025-03-07 10:18:45,444] Trial 33 finished with value: 0.9136369584286133 and parameters: {'n_estimators': 417, 'max_depth': 17, 'min_samples_split': 5, 'min_samples_leaf': 1, 'max_features': 'log2'}. Best is trial 32 with value: 0.9136369584286133.\n",
      "[I 2025-03-07 10:18:47,852] Trial 34 finished with value: 0.886333102353551 and parameters: {'n_estimators': 423, 'max_depth': 19, 'min_samples_split': 5, 'min_samples_leaf': 8, 'max_features': 'log2'}. Best is trial 32 with value: 0.9136369584286133.\n",
      "[I 2025-03-07 10:18:50,801] Trial 35 finished with value: 0.9090909090909091 and parameters: {'n_estimators': 450, 'max_depth': 17, 'min_samples_split': 7, 'min_samples_leaf': 1, 'max_features': 'log2'}. Best is trial 32 with value: 0.9136369584286133.\n",
      "[I 2025-03-07 10:18:53,346] Trial 36 finished with value: 0.9045408522245907 and parameters: {'n_estimators': 402, 'max_depth': 19, 'min_samples_split': 6, 'min_samples_leaf': 3, 'max_features': 'log2'}. Best is trial 32 with value: 0.9136369584286133.\n",
      "[I 2025-03-07 10:18:56,512] Trial 37 finished with value: 0.9121220190963715 and parameters: {'n_estimators': 479, 'max_depth': 17, 'min_samples_split': 5, 'min_samples_leaf': 1, 'max_features': 'log2'}. Best is trial 32 with value: 0.9136369584286133.\n",
      "[I 2025-03-07 10:18:59,573] Trial 38 finished with value: 0.9075763941195046 and parameters: {'n_estimators': 479, 'max_depth': 20, 'min_samples_split': 6, 'min_samples_leaf': 2, 'max_features': 'log2'}. Best is trial 32 with value: 0.9136369584286133.\n",
      "[I 2025-03-07 10:19:02,508] Trial 39 finished with value: 0.9030303030303031 and parameters: {'n_estimators': 443, 'max_depth': 15, 'min_samples_split': 6, 'min_samples_leaf': 1, 'max_features': 'log2'}. Best is trial 32 with value: 0.9136369584286133.\n",
      "[I 2025-03-07 10:19:05,105] Trial 40 finished with value: 0.889364219624123 and parameters: {'n_estimators': 462, 'max_depth': 18, 'min_samples_split': 5, 'min_samples_leaf': 9, 'max_features': 'log2'}. Best is trial 32 with value: 0.9136369584286133.\n",
      "[I 2025-03-07 10:19:07,821] Trial 41 finished with value: 0.9136369584286133 and parameters: {'n_estimators': 412, 'max_depth': 17, 'min_samples_split': 5, 'min_samples_leaf': 1, 'max_features': 'log2'}. Best is trial 32 with value: 0.9136369584286133.\n",
      "[I 2025-03-07 10:19:10,629] Trial 42 finished with value: 0.9106066762682137 and parameters: {'n_estimators': 420, 'max_depth': 16, 'min_samples_split': 5, 'min_samples_leaf': 1, 'max_features': 'log2'}. Best is trial 32 with value: 0.9136369584286133.\n",
      "[I 2025-03-07 10:19:12,975] Trial 43 finished with value: 0.9090884046852421 and parameters: {'n_estimators': 347, 'max_depth': 17, 'min_samples_split': 5, 'min_samples_leaf': 2, 'max_features': 'log2'}. Best is trial 32 with value: 0.9136369584286133.\n",
      "[I 2025-03-07 10:19:15,524] Trial 44 finished with value: 0.9060580179846235 and parameters: {'n_estimators': 403, 'max_depth': 19, 'min_samples_split': 5, 'min_samples_leaf': 3, 'max_features': 'log2'}. Best is trial 32 with value: 0.9136369584286133.\n",
      "[I 2025-03-07 10:19:18,611] Trial 45 finished with value: 0.9075746966305421 and parameters: {'n_estimators': 473, 'max_depth': 16, 'min_samples_split': 7, 'min_samples_leaf': 1, 'max_features': 'log2'}. Best is trial 32 with value: 0.9136369584286133.\n",
      "[I 2025-03-07 10:19:21,381] Trial 46 finished with value: 0.9075763941078142 and parameters: {'n_estimators': 430, 'max_depth': 20, 'min_samples_split': 6, 'min_samples_leaf': 2, 'max_features': 'log2'}. Best is trial 32 with value: 0.9136369584286133.\n",
      "[I 2025-03-07 10:19:24,676] Trial 47 finished with value: 0.9106066762682137 and parameters: {'n_estimators': 499, 'max_depth': 15, 'min_samples_split': 5, 'min_samples_leaf': 1, 'max_features': 'log2'}. Best is trial 32 with value: 0.9136369584286133.\n",
      "[I 2025-03-07 10:19:26,569] Trial 48 finished with value: 0.8756856464738358 and parameters: {'n_estimators': 402, 'max_depth': 6, 'min_samples_split': 6, 'min_samples_leaf': 5, 'max_features': 'log2'}. Best is trial 32 with value: 0.9136369584286133.\n",
      "[I 2025-03-07 10:19:28,756] Trial 49 finished with value: 0.9045461119594882 and parameters: {'n_estimators': 347, 'max_depth': 17, 'min_samples_split': 5, 'min_samples_leaf': 3, 'max_features': 'log2'}. Best is trial 32 with value: 0.9136369584286133.\n"
     ]
    },
    {
     "name": "stdout",
     "output_type": "stream",
     "text": [
      "Number of finished trials:  50\n",
      "Best trial:\n",
      "  Value:  0.9136369584286133\n",
      "  Params: \n",
      "    n_estimators: 416\n",
      "    max_depth: 17\n",
      "    min_samples_split: 5\n",
      "    min_samples_leaf: 1\n",
      "    max_features: log2\n"
     ]
    },
    {
     "data": {
      "text/html": [
       "<style>#sk-container-id-1 {color: black;background-color: white;}#sk-container-id-1 pre{padding: 0;}#sk-container-id-1 div.sk-toggleable {background-color: white;}#sk-container-id-1 label.sk-toggleable__label {cursor: pointer;display: block;width: 100%;margin-bottom: 0;padding: 0.3em;box-sizing: border-box;text-align: center;}#sk-container-id-1 label.sk-toggleable__label-arrow:before {content: \"▸\";float: left;margin-right: 0.25em;color: #696969;}#sk-container-id-1 label.sk-toggleable__label-arrow:hover:before {color: black;}#sk-container-id-1 div.sk-estimator:hover label.sk-toggleable__label-arrow:before {color: black;}#sk-container-id-1 div.sk-toggleable__content {max-height: 0;max-width: 0;overflow: hidden;text-align: left;background-color: #f0f8ff;}#sk-container-id-1 div.sk-toggleable__content pre {margin: 0.2em;color: black;border-radius: 0.25em;background-color: #f0f8ff;}#sk-container-id-1 input.sk-toggleable__control:checked~div.sk-toggleable__content {max-height: 200px;max-width: 100%;overflow: auto;}#sk-container-id-1 input.sk-toggleable__control:checked~label.sk-toggleable__label-arrow:before {content: \"▾\";}#sk-container-id-1 div.sk-estimator input.sk-toggleable__control:checked~label.sk-toggleable__label {background-color: #d4ebff;}#sk-container-id-1 div.sk-label input.sk-toggleable__control:checked~label.sk-toggleable__label {background-color: #d4ebff;}#sk-container-id-1 input.sk-hidden--visually {border: 0;clip: rect(1px 1px 1px 1px);clip: rect(1px, 1px, 1px, 1px);height: 1px;margin: -1px;overflow: hidden;padding: 0;position: absolute;width: 1px;}#sk-container-id-1 div.sk-estimator {font-family: monospace;background-color: #f0f8ff;border: 1px dotted black;border-radius: 0.25em;box-sizing: border-box;margin-bottom: 0.5em;}#sk-container-id-1 div.sk-estimator:hover {background-color: #d4ebff;}#sk-container-id-1 div.sk-parallel-item::after {content: \"\";width: 100%;border-bottom: 1px solid gray;flex-grow: 1;}#sk-container-id-1 div.sk-label:hover label.sk-toggleable__label {background-color: #d4ebff;}#sk-container-id-1 div.sk-serial::before {content: \"\";position: absolute;border-left: 1px solid gray;box-sizing: border-box;top: 0;bottom: 0;left: 50%;z-index: 0;}#sk-container-id-1 div.sk-serial {display: flex;flex-direction: column;align-items: center;background-color: white;padding-right: 0.2em;padding-left: 0.2em;position: relative;}#sk-container-id-1 div.sk-item {position: relative;z-index: 1;}#sk-container-id-1 div.sk-parallel {display: flex;align-items: stretch;justify-content: center;background-color: white;position: relative;}#sk-container-id-1 div.sk-item::before, #sk-container-id-1 div.sk-parallel-item::before {content: \"\";position: absolute;border-left: 1px solid gray;box-sizing: border-box;top: 0;bottom: 0;left: 50%;z-index: -1;}#sk-container-id-1 div.sk-parallel-item {display: flex;flex-direction: column;z-index: 1;position: relative;background-color: white;}#sk-container-id-1 div.sk-parallel-item:first-child::after {align-self: flex-end;width: 50%;}#sk-container-id-1 div.sk-parallel-item:last-child::after {align-self: flex-start;width: 50%;}#sk-container-id-1 div.sk-parallel-item:only-child::after {width: 0;}#sk-container-id-1 div.sk-dashed-wrapped {border: 1px dashed gray;margin: 0 0.4em 0.5em 0.4em;box-sizing: border-box;padding-bottom: 0.4em;background-color: white;}#sk-container-id-1 div.sk-label label {font-family: monospace;font-weight: bold;display: inline-block;line-height: 1.2em;}#sk-container-id-1 div.sk-label-container {text-align: center;}#sk-container-id-1 div.sk-container {/* jupyter's `normalize.less` sets `[hidden] { display: none; }` but bootstrap.min.css set `[hidden] { display: none !important; }` so we also need the `!important` here to be able to override the default hidden behavior on the sphinx rendered scikit-learn.org. See: https://github.com/scikit-learn/scikit-learn/issues/21755 */display: inline-block !important;position: relative;}#sk-container-id-1 div.sk-text-repr-fallback {display: none;}</style><div id=\"sk-container-id-1\" class=\"sk-top-container\"><div class=\"sk-text-repr-fallback\"><pre>RandomForestClassifier(max_depth=17, max_features=&#x27;log2&#x27;, min_samples_split=5,\n",
       "                       n_estimators=416, random_state=42)</pre><b>In a Jupyter environment, please rerun this cell to show the HTML representation or trust the notebook. <br />On GitHub, the HTML representation is unable to render, please try loading this page with nbviewer.org.</b></div><div class=\"sk-container\" hidden><div class=\"sk-item\"><div class=\"sk-estimator sk-toggleable\"><input class=\"sk-toggleable__control sk-hidden--visually\" id=\"sk-estimator-id-1\" type=\"checkbox\" checked><label for=\"sk-estimator-id-1\" class=\"sk-toggleable__label sk-toggleable__label-arrow\">RandomForestClassifier</label><div class=\"sk-toggleable__content\"><pre>RandomForestClassifier(max_depth=17, max_features=&#x27;log2&#x27;, min_samples_split=5,\n",
       "                       n_estimators=416, random_state=42)</pre></div></div></div></div></div>"
      ],
      "text/plain": [
       "RandomForestClassifier(max_depth=17, max_features='log2', min_samples_split=5,\n",
       "                       n_estimators=416, random_state=42)"
      ]
     },
     "execution_count": 28,
     "metadata": {},
     "output_type": "execute_result"
    }
   ],
   "source": [
    "import optuna\n",
    "from sklearn.model_selection import train_test_split\n",
    "from sklearn.ensemble import RandomForestClassifier\n",
    "from sklearn.metrics import classification_report\n",
    "\n",
    "# Assuming X_resampled and y_resampled are your resampled data\n",
    "\n",
    "X_train, X_test, y_train, y_test = train_test_split(\n",
    "    X_resampled, y_resampled, test_size=0.2, random_state=42\n",
    ")\n",
    "\n",
    "def objective(trial):\n",
    "    \"\"\"Objective function for Optuna.\"\"\"\n",
    "    n_estimators = trial.suggest_int(\"n_estimators\", 50, 500)\n",
    "    max_depth = trial.suggest_int(\"max_depth\", 3, 20)\n",
    "    min_samples_split = trial.suggest_int(\"min_samples_split\", 2, 10)\n",
    "    min_samples_leaf = trial.suggest_int(\"min_samples_leaf\", 1, 10)\n",
    "    max_features = trial.suggest_categorical(\"max_features\", [\"sqrt\", \"log2\"]) #or suggest_float for a percentage\n",
    "\n",
    "    clf = RandomForestClassifier(\n",
    "        n_estimators=n_estimators,\n",
    "        max_depth=max_depth,\n",
    "        min_samples_split=min_samples_split,\n",
    "        min_samples_leaf=min_samples_leaf,\n",
    "        max_features=max_features,\n",
    "        random_state=42,\n",
    "    )\n",
    "\n",
    "    clf.fit(X_train, y_train)\n",
    "    y_pred = clf.predict(X_test)\n",
    "    report = classification_report(y_test, y_pred, output_dict=True)\n",
    "    return report[\"weighted avg\"][\"f1-score\"]  # Optimize for F1-score\n",
    "\n",
    "study = optuna.create_study(direction=\"maximize\")  # Maximize F1-score\n",
    "study.optimize(objective, n_trials=50)  # Adjust n_trials as needed\n",
    "\n",
    "print(\"Number of finished trials: \", len(study.trials))\n",
    "print(\"Best trial:\")\n",
    "trial = study.best_trial\n",
    "\n",
    "print(\"  Value: \", trial.value)\n",
    "print(\"  Params: \")\n",
    "for key, value in trial.params.items():\n",
    "    print(f\"    {key}: {value}\")\n",
    "\n",
    "# Train the final model with the best hyperparameters\n",
    "best_clf = RandomForestClassifier(\n",
    "    n_estimators=trial.params[\"n_estimators\"],\n",
    "    max_depth=trial.params[\"max_depth\"],\n",
    "    min_samples_split=trial.params[\"min_samples_split\"],\n",
    "    min_samples_leaf=trial.params[\"min_samples_leaf\"],\n",
    "    max_features=trial.params[\"max_features\"],\n",
    "    random_state=42,\n",
    ")\n",
    "\n",
    "best_clf.fit(X_resampled, y_resampled)\n",
    "# best_y_pred = best_clf.predict(X_test)\n",
    "# print(\"\\nClassification Report (Best Model):\")\n",
    "# print(classification_report(y_test, best_y_pred))"
   ]
  },
  {
   "cell_type": "markdown",
   "id": "2f0a15a6",
   "metadata": {
    "papermill": {
     "duration": 0.015562,
     "end_time": "2025-03-07T10:19:31.991279",
     "exception": false,
     "start_time": "2025-03-07T10:19:31.975717",
     "status": "completed"
    },
    "tags": []
   },
   "source": [
    "# Xgboost Model"
   ]
  },
  {
   "cell_type": "code",
   "execution_count": 29,
   "id": "d44f6c25",
   "metadata": {
    "execution": {
     "iopub.execute_input": "2025-03-07T10:19:32.025044Z",
     "iopub.status.busy": "2025-03-07T10:19:32.024628Z",
     "iopub.status.idle": "2025-03-07T10:19:49.529931Z",
     "shell.execute_reply": "2025-03-07T10:19:49.528875Z"
    },
    "papermill": {
     "duration": 17.524651,
     "end_time": "2025-03-07T10:19:49.532052",
     "exception": false,
     "start_time": "2025-03-07T10:19:32.007401",
     "status": "completed"
    },
    "tags": []
   },
   "outputs": [
    {
     "name": "stderr",
     "output_type": "stream",
     "text": [
      "[I 2025-03-07 10:19:32,241] A new study created in memory with name: no-name-95ca4846-94a4-4f82-b5e6-9ed53625f67e\n",
      "[I 2025-03-07 10:19:32,924] Trial 0 finished with value: 0.9015104035249081 and parameters: {'n_estimators': 386, 'max_depth': 16, 'learning_rate': 0.02394432497436589, 'subsample': 0.5653418706116515, 'colsample_bytree': 0.9055698860530891, 'min_child_weight': 5, 'gamma': 0.3627979141264437}. Best is trial 0 with value: 0.9015104035249081.\n",
      "[I 2025-03-07 10:19:33,028] Trial 1 finished with value: 0.8939393939393939 and parameters: {'n_estimators': 195, 'max_depth': 7, 'learning_rate': 0.1581503273659025, 'subsample': 0.9472605455654117, 'colsample_bytree': 0.7054559380394873, 'min_child_weight': 9, 'gamma': 2.3983847297511924}. Best is trial 0 with value: 0.9015104035249081.\n",
      "[I 2025-03-07 10:19:33,109] Trial 2 finished with value: 0.8909090909090909 and parameters: {'n_estimators': 142, 'max_depth': 14, 'learning_rate': 0.24484241015612726, 'subsample': 0.8417754401707309, 'colsample_bytree': 0.8073455969073152, 'min_child_weight': 5, 'gamma': 3.7565262631203433}. Best is trial 0 with value: 0.9015104035249081.\n",
      "[I 2025-03-07 10:19:33,366] Trial 3 finished with value: 0.8999972451537663 and parameters: {'n_estimators': 170, 'max_depth': 16, 'learning_rate': 0.048564923310309316, 'subsample': 0.6195292004925337, 'colsample_bytree': 0.7633851905627107, 'min_child_weight': 3, 'gamma': 1.274142894185128}. Best is trial 0 with value: 0.9015104035249081.\n",
      "[I 2025-03-07 10:19:33,760] Trial 4 finished with value: 0.8939247838330406 and parameters: {'n_estimators': 494, 'max_depth': 15, 'learning_rate': 0.11530837951266365, 'subsample': 0.690662153405289, 'colsample_bytree': 0.8737948992368537, 'min_child_weight': 8, 'gamma': 0.7353604066911501}. Best is trial 0 with value: 0.9015104035249081.\n",
      "[I 2025-03-07 10:19:33,967] Trial 5 finished with value: 0.8848495422642109 and parameters: {'n_estimators': 467, 'max_depth': 9, 'learning_rate': 0.08939434676364219, 'subsample': 0.5450007623406681, 'colsample_bytree': 0.9456055759506505, 'min_child_weight': 4, 'gamma': 4.698327843147453}. Best is trial 0 with value: 0.9015104035249081.\n",
      "[I 2025-03-07 10:19:34,219] Trial 6 finished with value: 0.8893926697381899 and parameters: {'n_estimators': 184, 'max_depth': 15, 'learning_rate': 0.014361096954832904, 'subsample': 0.7437908144703653, 'colsample_bytree': 0.6009541704596143, 'min_child_weight': 3, 'gamma': 2.663325256571996}. Best is trial 0 with value: 0.9015104035249081.\n",
      "[I 2025-03-07 10:19:34,367] Trial 7 finished with value: 0.8954360631183781 and parameters: {'n_estimators': 205, 'max_depth': 15, 'learning_rate': 0.10598360300543717, 'subsample': 0.5403448719023736, 'colsample_bytree': 0.5124717906665344, 'min_child_weight': 7, 'gamma': 2.0267557067293795}. Best is trial 0 with value: 0.9015104035249081.\n",
      "[I 2025-03-07 10:19:34,459] Trial 8 finished with value: 0.8969555042949539 and parameters: {'n_estimators': 115, 'max_depth': 9, 'learning_rate': 0.29186639360937355, 'subsample': 0.9751478520855186, 'colsample_bytree': 0.9305972176752875, 'min_child_weight': 8, 'gamma': 1.1728622763995378}. Best is trial 0 with value: 0.9015104035249081.\n",
      "[I 2025-03-07 10:19:34,579] Trial 9 finished with value: 0.8833341368246177 and parameters: {'n_estimators': 293, 'max_depth': 4, 'learning_rate': 0.23499607846430864, 'subsample': 0.572811567161441, 'colsample_bytree': 0.508242490543056, 'min_child_weight': 3, 'gamma': 4.419042564275854}. Best is trial 0 with value: 0.9015104035249081.\n",
      "[I 2025-03-07 10:19:34,982] Trial 10 finished with value: 0.8969365758619492 and parameters: {'n_estimators': 356, 'max_depth': 20, 'learning_rate': 0.15555402393743573, 'subsample': 0.675441845922536, 'colsample_bytree': 0.8497777068880745, 'min_child_weight': 6, 'gamma': 0.030020445296192744}. Best is trial 0 with value: 0.9015104035249081.\n",
      "[I 2025-03-07 10:19:35,169] Trial 11 finished with value: 0.8939364719181233 and parameters: {'n_estimators': 59, 'max_depth': 20, 'learning_rate': 0.027204261808302377, 'subsample': 0.6251396886480427, 'colsample_bytree': 0.7188295524664355, 'min_child_weight': 1, 'gamma': 1.260718628262707}. Best is trial 0 with value: 0.9015104035249081.\n",
      "[I 2025-03-07 10:19:35,970] Trial 12 finished with value: 0.9120929617646035 and parameters: {'n_estimators': 412, 'max_depth': 18, 'learning_rate': 0.049652066309046415, 'subsample': 0.5004715080399769, 'colsample_bytree': 0.77452148975391, 'min_child_weight': 1, 'gamma': 0.007359901727969742}. Best is trial 12 with value: 0.9120929617646035.\n",
      "[I 2025-03-07 10:19:36,700] Trial 13 finished with value: 0.9120824648602427 and parameters: {'n_estimators': 398, 'max_depth': 18, 'learning_rate': 0.06508502727666338, 'subsample': 0.5065075707487716, 'colsample_bytree': 0.9843784972089322, 'min_child_weight': 1, 'gamma': 0.17699456394914254}. Best is trial 12 with value: 0.9120929617646035.\n",
      "[I 2025-03-07 10:19:37,467] Trial 14 finished with value: 0.9121018420493091 and parameters: {'n_estimators': 409, 'max_depth': 19, 'learning_rate': 0.06806635105775016, 'subsample': 0.5047778682695409, 'colsample_bytree': 0.9932784149845989, 'min_child_weight': 1, 'gamma': 0.010861829454342827}. Best is trial 14 with value: 0.9121018420493091.\n",
      "[I 2025-03-07 10:19:37,669] Trial 15 finished with value: 0.8939364719181233 and parameters: {'n_estimators': 305, 'max_depth': 18, 'learning_rate': 0.07430483923544326, 'subsample': 0.8339698113631625, 'colsample_bytree': 0.6339976321150085, 'min_child_weight': 1, 'gamma': 3.248301982759262}. Best is trial 14 with value: 0.9121018420493091.\n",
      "[I 2025-03-07 10:19:37,946] Trial 16 finished with value: 0.8939247838330406 and parameters: {'n_estimators': 440, 'max_depth': 12, 'learning_rate': 0.1260382849642051, 'subsample': 0.6129283042232108, 'colsample_bytree': 0.6469077577164992, 'min_child_weight': 2, 'gamma': 1.6402169579862664}. Best is trial 14 with value: 0.9121018420493091.\n",
      "[I 2025-03-07 10:19:38,430] Trial 17 finished with value: 0.9044970072494525 and parameters: {'n_estimators': 351, 'max_depth': 18, 'learning_rate': 0.05504953802637914, 'subsample': 0.502586856187177, 'colsample_bytree': 0.8074066757076896, 'min_child_weight': 2, 'gamma': 0.679117093871569}. Best is trial 14 with value: 0.9121018420493091.\n",
      "[I 2025-03-07 10:19:38,707] Trial 18 finished with value: 0.9166657101294233 and parameters: {'n_estimators': 419, 'max_depth': 12, 'learning_rate': 0.1921112088017452, 'subsample': 0.8295972465109427, 'colsample_bytree': 0.9875260721710855, 'min_child_weight': 2, 'gamma': 0.7333071868137027}. Best is trial 18 with value: 0.9166657101294233.\n",
      "[I 2025-03-07 10:19:38,973] Trial 19 finished with value: 0.8984799544025975 and parameters: {'n_estimators': 256, 'max_depth': 12, 'learning_rate': 0.19074464294778914, 'subsample': 0.856706306952085, 'colsample_bytree': 0.9768448142130778, 'min_child_weight': 10, 'gamma': 0.633753162518386}. Best is trial 18 with value: 0.9166657101294233.\n",
      "[I 2025-03-07 10:19:39,205] Trial 20 finished with value: 0.8969668586432743 and parameters: {'n_estimators': 438, 'max_depth': 3, 'learning_rate': 0.18129130002907273, 'subsample': 0.7859268452784826, 'colsample_bytree': 0.9913467273882102, 'min_child_weight': 4, 'gamma': 2.049384944854179}. Best is trial 18 with value: 0.9166657101294233.\n",
      "[I 2025-03-07 10:19:39,556] Trial 21 finished with value: 0.9166519343697218 and parameters: {'n_estimators': 396, 'max_depth': 10, 'learning_rate': 0.2163705605174992, 'subsample': 0.9133587023744986, 'colsample_bytree': 0.8894615248332122, 'min_child_weight': 2, 'gamma': 0.10900103135061587}. Best is trial 18 with value: 0.9166657101294233.\n",
      "[I 2025-03-07 10:19:39,764] Trial 22 finished with value: 0.9121187911957341 and parameters: {'n_estimators': 333, 'max_depth': 8, 'learning_rate': 0.22471671005877555, 'subsample': 0.9213056086234122, 'colsample_bytree': 0.8921370677185693, 'min_child_weight': 2, 'gamma': 0.9541447718705782}. Best is trial 18 with value: 0.9166657101294233.\n",
      "[I 2025-03-07 10:19:39,973] Trial 23 finished with value: 0.9060537048415392 and parameters: {'n_estimators': 335, 'max_depth': 9, 'learning_rate': 0.22478092608613884, 'subsample': 0.9134238508034794, 'colsample_bytree': 0.8802885084596521, 'min_child_weight': 2, 'gamma': 0.9614847727873641}. Best is trial 18 with value: 0.9166657101294233.\n",
      "[I 2025-03-07 10:19:40,141] Trial 24 finished with value: 0.9030303030303031 and parameters: {'n_estimators': 250, 'max_depth': 7, 'learning_rate': 0.2704303410896529, 'subsample': 0.8923217653688588, 'colsample_bytree': 0.9361592314362364, 'min_child_weight': 4, 'gamma': 1.6679308119529543}. Best is trial 18 with value: 0.9166657101294233.\n",
      "[I 2025-03-07 10:19:40,352] Trial 25 finished with value: 0.8984855476266155 and parameters: {'n_estimators': 321, 'max_depth': 11, 'learning_rate': 0.2053865685975762, 'subsample': 0.9943321149879156, 'colsample_bytree': 0.8419048482549323, 'min_child_weight': 2, 'gamma': 0.6093751800829798}. Best is trial 18 with value: 0.9166657101294233.\n",
      "[I 2025-03-07 10:19:40,569] Trial 26 finished with value: 0.9060580181747501 and parameters: {'n_estimators': 357, 'max_depth': 6, 'learning_rate': 0.21394686562888995, 'subsample': 0.792955974064347, 'colsample_bytree': 0.90198865828677, 'min_child_weight': 3, 'gamma': 1.5754117755306665}. Best is trial 18 with value: 0.9166657101294233.\n",
      "[I 2025-03-07 10:19:40,882] Trial 27 finished with value: 0.9030089291578581 and parameters: {'n_estimators': 449, 'max_depth': 11, 'learning_rate': 0.2541700664636917, 'subsample': 0.897202035789221, 'colsample_bytree': 0.9487721684713778, 'min_child_weight': 6, 'gamma': 0.4356255631565261}. Best is trial 18 with value: 0.9166657101294233.\n",
      "[I 2025-03-07 10:19:41,117] Trial 28 finished with value: 0.8999972451537663 and parameters: {'n_estimators': 373, 'max_depth': 10, 'learning_rate': 0.17625670804404514, 'subsample': 0.9387830557864045, 'colsample_bytree': 0.8328541225856573, 'min_child_weight': 4, 'gamma': 0.9812843818912012}. Best is trial 18 with value: 0.9166657101294233.\n",
      "[I 2025-03-07 10:19:41,338] Trial 29 finished with value: 0.8848495422642109 and parameters: {'n_estimators': 488, 'max_depth': 5, 'learning_rate': 0.2682530933219043, 'subsample': 0.8690766171595211, 'colsample_bytree': 0.904676931699674, 'min_child_weight': 2, 'gamma': 2.9683924093712832}. Best is trial 18 with value: 0.9166657101294233.\n",
      "[I 2025-03-07 10:19:41,695] Trial 30 finished with value: 0.9060304074035419 and parameters: {'n_estimators': 386, 'max_depth': 13, 'learning_rate': 0.2001317602653402, 'subsample': 0.8005365519424198, 'colsample_bytree': 0.8740444533674626, 'min_child_weight': 5, 'gamma': 0.3657596200843347}. Best is trial 18 with value: 0.9166657101294233.\n",
      "[I 2025-03-07 10:19:42,103] Trial 31 finished with value: 0.9166442795836691 and parameters: {'n_estimators': 415, 'max_depth': 8, 'learning_rate': 0.13988307529286792, 'subsample': 0.74302069020033, 'colsample_bytree': 0.9606564527661325, 'min_child_weight': 1, 'gamma': 0.24045182312687682}. Best is trial 18 with value: 0.9166657101294233.\n",
      "[I 2025-03-07 10:19:42,479] Trial 32 finished with value: 0.9059751430440374 and parameters: {'n_estimators': 419, 'max_depth': 7, 'learning_rate': 0.1380847866228888, 'subsample': 0.7419787196179153, 'colsample_bytree': 0.9644574335111343, 'min_child_weight': 2, 'gamma': 0.9118114066371048}. Best is trial 18 with value: 0.9166657101294233.\n",
      "[I 2025-03-07 10:19:42,784] Trial 33 finished with value: 0.9212012679902589 and parameters: {'n_estimators': 381, 'max_depth': 8, 'learning_rate': 0.17722049697345188, 'subsample': 0.939085990616243, 'colsample_bytree': 0.914151272443623, 'min_child_weight': 3, 'gamma': 0.34325828862434005}. Best is trial 33 with value: 0.9212012679902589.\n",
      "[I 2025-03-07 10:19:43,149] Trial 34 finished with value: 0.9030089291578581 and parameters: {'n_estimators': 463, 'max_depth': 10, 'learning_rate': 0.1684264777516518, 'subsample': 0.8237527593102456, 'colsample_bytree': 0.9242772078905379, 'min_child_weight': 3, 'gamma': 0.38225341192812523}. Best is trial 33 with value: 0.9212012679902589.\n",
      "[I 2025-03-07 10:19:43,492] Trial 35 finished with value: 0.9105902568693378 and parameters: {'n_estimators': 381, 'max_depth': 13, 'learning_rate': 0.14109556873561413, 'subsample': 0.9659039540232346, 'colsample_bytree': 0.9660055392953145, 'min_child_weight': 1, 'gamma': 0.2564340069957497}. Best is trial 33 with value: 0.9212012679902589.\n",
      "[I 2025-03-07 10:19:45,504] Trial 36 finished with value: 0.904528579368954 and parameters: {'n_estimators': 422, 'max_depth': 8, 'learning_rate': 0.1633124564316451, 'subsample': 0.7025299588236944, 'colsample_bytree': 0.9206466199327629, 'min_child_weight': 3, 'gamma': 0.4794105501545488}. Best is trial 33 with value: 0.9212012679902589.\n",
      "[I 2025-03-07 10:19:45,711] Trial 37 finished with value: 0.8924230075535821 and parameters: {'n_estimators': 473, 'max_depth': 10, 'learning_rate': 0.19311095217799987, 'subsample': 0.8767742194294872, 'colsample_bytree': 0.807498163812609, 'min_child_weight': 5, 'gamma': 3.594778689825331}. Best is trial 33 with value: 0.9212012679902589.\n",
      "[I 2025-03-07 10:19:46,005] Trial 38 finished with value: 0.9045355929727162 and parameters: {'n_estimators': 499, 'max_depth': 6, 'learning_rate': 0.14479426846661062, 'subsample': 0.7664344821035953, 'colsample_bytree': 0.9991484925874519, 'min_child_weight': 4, 'gamma': 1.4279775579232448}. Best is trial 33 with value: 0.9212012679902589.\n",
      "[I 2025-03-07 10:19:46,366] Trial 39 finished with value: 0.92119475494076 and parameters: {'n_estimators': 377, 'max_depth': 8, 'learning_rate': 0.09903381370958553, 'subsample': 0.7228947926968937, 'colsample_bytree': 0.9490706545559752, 'min_child_weight': 3, 'gamma': 0.7477353298344651}. Best is trial 33 with value: 0.9212012679902589.\n",
      "[I 2025-03-07 10:19:46,567] Trial 40 finished with value: 0.9075746966305421 and parameters: {'n_estimators': 269, 'max_depth': 13, 'learning_rate': 0.09931508534128611, 'subsample': 0.9477663515773975, 'colsample_bytree': 0.7817771093328576, 'min_child_weight': 3, 'gamma': 1.8833823588318122}. Best is trial 33 with value: 0.9212012679902589.\n",
      "[I 2025-03-07 10:19:46,902] Trial 41 finished with value: 0.9044970072494525 and parameters: {'n_estimators': 374, 'max_depth': 8, 'learning_rate': 0.12176533048487205, 'subsample': 0.719112876756102, 'colsample_bytree': 0.955837290837768, 'min_child_weight': 2, 'gamma': 0.7811145507302338}. Best is trial 33 with value: 0.9212012679902589.\n",
      "[I 2025-03-07 10:19:47,456] Trial 42 finished with value: 0.902974179605538 and parameters: {'n_estimators': 436, 'max_depth': 9, 'learning_rate': 0.08569206758135303, 'subsample': 0.6595965571088269, 'colsample_bytree': 0.9175935538909269, 'min_child_weight': 3, 'gamma': 0.26814099879458975}. Best is trial 33 with value: 0.9212012679902589.\n",
      "[I 2025-03-07 10:19:47,718] Trial 43 finished with value: 0.8999779581940414 and parameters: {'n_estimators': 387, 'max_depth': 6, 'learning_rate': 0.17901080228321473, 'subsample': 0.7275764825308316, 'colsample_bytree': 0.8652952167694951, 'min_child_weight': 1, 'gamma': 1.176385675220362}. Best is trial 33 with value: 0.9212012679902589.\n",
      "[I 2025-03-07 10:19:47,929] Trial 44 finished with value: 0.8954533454350946 and parameters: {'n_estimators': 297, 'max_depth': 8, 'learning_rate': 0.1134058860178611, 'subsample': 0.7767095963032313, 'colsample_bytree': 0.9424018394663177, 'min_child_weight': 2, 'gamma': 2.4772754681153626}. Best is trial 33 with value: 0.9212012679902589.\n",
      "[I 2025-03-07 10:19:48,257] Trial 45 finished with value: 0.9045408526472184 and parameters: {'n_estimators': 459, 'max_depth': 11, 'learning_rate': 0.15734549198862804, 'subsample': 0.7576320350686436, 'colsample_bytree': 0.7364229416567831, 'min_child_weight': 3, 'gamma': 0.576103204446908}. Best is trial 33 with value: 0.9212012679902589.\n",
      "[I 2025-03-07 10:19:48,457] Trial 46 finished with value: 0.8878787878787879 and parameters: {'n_estimators': 397, 'max_depth': 7, 'learning_rate': 0.13164056412268824, 'subsample': 0.8059021400763879, 'colsample_bytree': 0.9658329628776519, 'min_child_weight': 4, 'gamma': 4.374353888790857}. Best is trial 33 with value: 0.9212012679902589.\n",
      "[I 2025-03-07 10:19:48,754] Trial 47 finished with value: 0.9166442795836691 and parameters: {'n_estimators': 222, 'max_depth': 10, 'learning_rate': 0.24564486064160163, 'subsample': 0.6621646534972891, 'colsample_bytree': 0.9359080425382591, 'min_child_weight': 1, 'gamma': 0.16503779672581348}. Best is trial 33 with value: 0.9212012679902589.\n",
      "[I 2025-03-07 10:19:48,993] Trial 48 finished with value: 0.9060537048415392 and parameters: {'n_estimators': 361, 'max_depth': 14, 'learning_rate': 0.21115103104230262, 'subsample': 0.8494244725872796, 'colsample_bytree': 0.5584054721614836, 'min_child_weight': 5, 'gamma': 0.7904827612487973}. Best is trial 33 with value: 0.9212012679902589.\n",
      "[I 2025-03-07 10:19:49,260] Trial 49 finished with value: 0.912114756142085 and parameters: {'n_estimators': 424, 'max_depth': 5, 'learning_rate': 0.09198365205517771, 'subsample': 0.8198682921885317, 'colsample_bytree': 0.6933830643120134, 'min_child_weight': 1, 'gamma': 1.3667293141960544}. Best is trial 33 with value: 0.9212012679902589.\n"
     ]
    },
    {
     "name": "stdout",
     "output_type": "stream",
     "text": [
      "Number of finished trials:  50\n",
      "Best trial:\n",
      "  Value:  0.9212012679902589\n",
      "  Params: \n",
      "    n_estimators: 381\n",
      "    max_depth: 8\n",
      "    learning_rate: 0.17722049697345188\n",
      "    subsample: 0.939085990616243\n",
      "    colsample_bytree: 0.914151272443623\n",
      "    min_child_weight: 3\n",
      "    gamma: 0.34325828862434005\n"
     ]
    },
    {
     "data": {
      "text/html": [
       "<style>#sk-container-id-2 {color: black;background-color: white;}#sk-container-id-2 pre{padding: 0;}#sk-container-id-2 div.sk-toggleable {background-color: white;}#sk-container-id-2 label.sk-toggleable__label {cursor: pointer;display: block;width: 100%;margin-bottom: 0;padding: 0.3em;box-sizing: border-box;text-align: center;}#sk-container-id-2 label.sk-toggleable__label-arrow:before {content: \"▸\";float: left;margin-right: 0.25em;color: #696969;}#sk-container-id-2 label.sk-toggleable__label-arrow:hover:before {color: black;}#sk-container-id-2 div.sk-estimator:hover label.sk-toggleable__label-arrow:before {color: black;}#sk-container-id-2 div.sk-toggleable__content {max-height: 0;max-width: 0;overflow: hidden;text-align: left;background-color: #f0f8ff;}#sk-container-id-2 div.sk-toggleable__content pre {margin: 0.2em;color: black;border-radius: 0.25em;background-color: #f0f8ff;}#sk-container-id-2 input.sk-toggleable__control:checked~div.sk-toggleable__content {max-height: 200px;max-width: 100%;overflow: auto;}#sk-container-id-2 input.sk-toggleable__control:checked~label.sk-toggleable__label-arrow:before {content: \"▾\";}#sk-container-id-2 div.sk-estimator input.sk-toggleable__control:checked~label.sk-toggleable__label {background-color: #d4ebff;}#sk-container-id-2 div.sk-label input.sk-toggleable__control:checked~label.sk-toggleable__label {background-color: #d4ebff;}#sk-container-id-2 input.sk-hidden--visually {border: 0;clip: rect(1px 1px 1px 1px);clip: rect(1px, 1px, 1px, 1px);height: 1px;margin: -1px;overflow: hidden;padding: 0;position: absolute;width: 1px;}#sk-container-id-2 div.sk-estimator {font-family: monospace;background-color: #f0f8ff;border: 1px dotted black;border-radius: 0.25em;box-sizing: border-box;margin-bottom: 0.5em;}#sk-container-id-2 div.sk-estimator:hover {background-color: #d4ebff;}#sk-container-id-2 div.sk-parallel-item::after {content: \"\";width: 100%;border-bottom: 1px solid gray;flex-grow: 1;}#sk-container-id-2 div.sk-label:hover label.sk-toggleable__label {background-color: #d4ebff;}#sk-container-id-2 div.sk-serial::before {content: \"\";position: absolute;border-left: 1px solid gray;box-sizing: border-box;top: 0;bottom: 0;left: 50%;z-index: 0;}#sk-container-id-2 div.sk-serial {display: flex;flex-direction: column;align-items: center;background-color: white;padding-right: 0.2em;padding-left: 0.2em;position: relative;}#sk-container-id-2 div.sk-item {position: relative;z-index: 1;}#sk-container-id-2 div.sk-parallel {display: flex;align-items: stretch;justify-content: center;background-color: white;position: relative;}#sk-container-id-2 div.sk-item::before, #sk-container-id-2 div.sk-parallel-item::before {content: \"\";position: absolute;border-left: 1px solid gray;box-sizing: border-box;top: 0;bottom: 0;left: 50%;z-index: -1;}#sk-container-id-2 div.sk-parallel-item {display: flex;flex-direction: column;z-index: 1;position: relative;background-color: white;}#sk-container-id-2 div.sk-parallel-item:first-child::after {align-self: flex-end;width: 50%;}#sk-container-id-2 div.sk-parallel-item:last-child::after {align-self: flex-start;width: 50%;}#sk-container-id-2 div.sk-parallel-item:only-child::after {width: 0;}#sk-container-id-2 div.sk-dashed-wrapped {border: 1px dashed gray;margin: 0 0.4em 0.5em 0.4em;box-sizing: border-box;padding-bottom: 0.4em;background-color: white;}#sk-container-id-2 div.sk-label label {font-family: monospace;font-weight: bold;display: inline-block;line-height: 1.2em;}#sk-container-id-2 div.sk-label-container {text-align: center;}#sk-container-id-2 div.sk-container {/* jupyter's `normalize.less` sets `[hidden] { display: none; }` but bootstrap.min.css set `[hidden] { display: none !important; }` so we also need the `!important` here to be able to override the default hidden behavior on the sphinx rendered scikit-learn.org. See: https://github.com/scikit-learn/scikit-learn/issues/21755 */display: inline-block !important;position: relative;}#sk-container-id-2 div.sk-text-repr-fallback {display: none;}</style><div id=\"sk-container-id-2\" class=\"sk-top-container\"><div class=\"sk-text-repr-fallback\"><pre>XGBClassifier(base_score=None, booster=None, callbacks=None,\n",
       "              colsample_bylevel=None, colsample_bynode=None,\n",
       "              colsample_bytree=0.914151272443623, device=None,\n",
       "              early_stopping_rounds=None, enable_categorical=False,\n",
       "              eval_metric=&#x27;logloss&#x27;, feature_types=None,\n",
       "              gamma=0.34325828862434005, grow_policy=None, importance_type=None,\n",
       "              interaction_constraints=None, learning_rate=0.17722049697345188,\n",
       "              max_bin=None, max_cat_threshold=None, max_cat_to_onehot=None,\n",
       "              max_delta_step=None, max_depth=8, max_leaves=None,\n",
       "              min_child_weight=3, missing=nan, monotone_constraints=None,\n",
       "              multi_strategy=None, n_estimators=381, n_jobs=None,\n",
       "              num_parallel_tree=None, random_state=42, ...)</pre><b>In a Jupyter environment, please rerun this cell to show the HTML representation or trust the notebook. <br />On GitHub, the HTML representation is unable to render, please try loading this page with nbviewer.org.</b></div><div class=\"sk-container\" hidden><div class=\"sk-item\"><div class=\"sk-estimator sk-toggleable\"><input class=\"sk-toggleable__control sk-hidden--visually\" id=\"sk-estimator-id-2\" type=\"checkbox\" checked><label for=\"sk-estimator-id-2\" class=\"sk-toggleable__label sk-toggleable__label-arrow\">XGBClassifier</label><div class=\"sk-toggleable__content\"><pre>XGBClassifier(base_score=None, booster=None, callbacks=None,\n",
       "              colsample_bylevel=None, colsample_bynode=None,\n",
       "              colsample_bytree=0.914151272443623, device=None,\n",
       "              early_stopping_rounds=None, enable_categorical=False,\n",
       "              eval_metric=&#x27;logloss&#x27;, feature_types=None,\n",
       "              gamma=0.34325828862434005, grow_policy=None, importance_type=None,\n",
       "              interaction_constraints=None, learning_rate=0.17722049697345188,\n",
       "              max_bin=None, max_cat_threshold=None, max_cat_to_onehot=None,\n",
       "              max_delta_step=None, max_depth=8, max_leaves=None,\n",
       "              min_child_weight=3, missing=nan, monotone_constraints=None,\n",
       "              multi_strategy=None, n_estimators=381, n_jobs=None,\n",
       "              num_parallel_tree=None, random_state=42, ...)</pre></div></div></div></div></div>"
      ],
      "text/plain": [
       "XGBClassifier(base_score=None, booster=None, callbacks=None,\n",
       "              colsample_bylevel=None, colsample_bynode=None,\n",
       "              colsample_bytree=0.914151272443623, device=None,\n",
       "              early_stopping_rounds=None, enable_categorical=False,\n",
       "              eval_metric='logloss', feature_types=None,\n",
       "              gamma=0.34325828862434005, grow_policy=None, importance_type=None,\n",
       "              interaction_constraints=None, learning_rate=0.17722049697345188,\n",
       "              max_bin=None, max_cat_threshold=None, max_cat_to_onehot=None,\n",
       "              max_delta_step=None, max_depth=8, max_leaves=None,\n",
       "              min_child_weight=3, missing=nan, monotone_constraints=None,\n",
       "              multi_strategy=None, n_estimators=381, n_jobs=None,\n",
       "              num_parallel_tree=None, random_state=42, ...)"
      ]
     },
     "execution_count": 29,
     "metadata": {},
     "output_type": "execute_result"
    }
   ],
   "source": [
    "import optuna\n",
    "from sklearn.model_selection import train_test_split\n",
    "from sklearn.metrics import classification_report\n",
    "from xgboost import XGBClassifier\n",
    "\n",
    "# Assuming X_resampled and y_resampled are your resampled data\n",
    "\n",
    "X_train, X_test, y_train, y_test = train_test_split(\n",
    "    X_resampled, y_resampled, test_size=0.2, random_state=42\n",
    ")\n",
    "\n",
    "def objective(trial):\n",
    "    \"\"\"Objective function for Optuna with XGBoost.\"\"\"\n",
    "    n_estimators = trial.suggest_int(\"n_estimators\", 50, 500)\n",
    "    max_depth = trial.suggest_int(\"max_depth\", 3, 20)\n",
    "    learning_rate = trial.suggest_float(\"learning_rate\", 0.01, 0.3)\n",
    "    subsample = trial.suggest_float(\"subsample\", 0.5, 1.0)\n",
    "    colsample_bytree = trial.suggest_float(\"colsample_bytree\", 0.5, 1.0)\n",
    "    min_child_weight = trial.suggest_int(\"min_child_weight\", 1, 10)\n",
    "    gamma = trial.suggest_float(\"gamma\", 0, 5)\n",
    "\n",
    "    clf = XGBClassifier(\n",
    "        n_estimators=n_estimators,\n",
    "        max_depth=max_depth,\n",
    "        learning_rate=learning_rate,\n",
    "        subsample=subsample,\n",
    "        colsample_bytree=colsample_bytree,\n",
    "        min_child_weight=min_child_weight,\n",
    "        gamma=gamma,\n",
    "        random_state=42,\n",
    "        use_label_encoder=False,\n",
    "        eval_metric='logloss'\n",
    "    )\n",
    "\n",
    "    clf.fit(X_train, y_train)\n",
    "    y_pred = clf.predict(X_test)\n",
    "    report = classification_report(y_test, y_pred, output_dict=True)\n",
    "    return report[\"weighted avg\"][\"f1-score\"]  # Optimize for F1-score\n",
    "\n",
    "study = optuna.create_study(direction=\"maximize\")  # Maximize F1-score\n",
    "study.optimize(objective, n_trials=50)  # Adjust n_trials as needed\n",
    "\n",
    "print(\"Number of finished trials: \", len(study.trials))\n",
    "print(\"Best trial:\")\n",
    "trial = study.best_trial\n",
    "\n",
    "print(\"  Value: \", trial.value)\n",
    "print(\"  Params: \")\n",
    "for key, value in trial.params.items():\n",
    "    print(f\"    {key}: {value}\")\n",
    "\n",
    "# Train the final model with the best hyperparameters\n",
    "best_clf = XGBClassifier(\n",
    "    n_estimators=trial.params[\"n_estimators\"],\n",
    "    max_depth=trial.params[\"max_depth\"],\n",
    "    learning_rate=trial.params[\"learning_rate\"],\n",
    "    subsample=trial.params[\"subsample\"],\n",
    "    colsample_bytree=trial.params[\"colsample_bytree\"],\n",
    "    min_child_weight=trial.params[\"min_child_weight\"],\n",
    "    gamma=trial.params[\"gamma\"],\n",
    "    random_state=42,\n",
    "    use_label_encoder=False,\n",
    "    eval_metric='logloss'\n",
    ")\n",
    "\n",
    "best_clf.fit(X_resampled, y_resampled)"
   ]
  },
  {
   "cell_type": "code",
   "execution_count": 30,
   "id": "bd507bff",
   "metadata": {
    "execution": {
     "iopub.execute_input": "2025-03-07T10:19:49.570197Z",
     "iopub.status.busy": "2025-03-07T10:19:49.569405Z",
     "iopub.status.idle": "2025-03-07T10:19:49.580439Z",
     "shell.execute_reply": "2025-03-07T10:19:49.579634Z"
    },
    "papermill": {
     "duration": 0.032985,
     "end_time": "2025-03-07T10:19:49.583144",
     "exception": false,
     "start_time": "2025-03-07T10:19:49.550159",
     "status": "completed"
    },
    "tags": []
   },
   "outputs": [],
   "source": [
    "df_test_pred = best_clf.predict(df_test_2)\n",
    "df_test_predictions = pd.DataFrame({'id': df_test[\"id\"], 'rainfall': df_test_pred})"
   ]
  },
  {
   "cell_type": "code",
   "execution_count": 31,
   "id": "bcb1b0e3",
   "metadata": {
    "execution": {
     "iopub.execute_input": "2025-03-07T10:19:49.621054Z",
     "iopub.status.busy": "2025-03-07T10:19:49.620655Z",
     "iopub.status.idle": "2025-03-07T10:19:49.632349Z",
     "shell.execute_reply": "2025-03-07T10:19:49.631207Z"
    },
    "papermill": {
     "duration": 0.033357,
     "end_time": "2025-03-07T10:19:49.634588",
     "exception": false,
     "start_time": "2025-03-07T10:19:49.601231",
     "status": "completed"
    },
    "tags": []
   },
   "outputs": [
    {
     "data": {
      "text/html": [
       "<div>\n",
       "<style scoped>\n",
       "    .dataframe tbody tr th:only-of-type {\n",
       "        vertical-align: middle;\n",
       "    }\n",
       "\n",
       "    .dataframe tbody tr th {\n",
       "        vertical-align: top;\n",
       "    }\n",
       "\n",
       "    .dataframe thead th {\n",
       "        text-align: right;\n",
       "    }\n",
       "</style>\n",
       "<table border=\"1\" class=\"dataframe\">\n",
       "  <thead>\n",
       "    <tr style=\"text-align: right;\">\n",
       "      <th></th>\n",
       "      <th>id</th>\n",
       "      <th>rainfall</th>\n",
       "    </tr>\n",
       "  </thead>\n",
       "  <tbody>\n",
       "    <tr>\n",
       "      <th>0</th>\n",
       "      <td>2190</td>\n",
       "      <td>1</td>\n",
       "    </tr>\n",
       "    <tr>\n",
       "      <th>1</th>\n",
       "      <td>2191</td>\n",
       "      <td>1</td>\n",
       "    </tr>\n",
       "    <tr>\n",
       "      <th>2</th>\n",
       "      <td>2192</td>\n",
       "      <td>1</td>\n",
       "    </tr>\n",
       "    <tr>\n",
       "      <th>3</th>\n",
       "      <td>2193</td>\n",
       "      <td>0</td>\n",
       "    </tr>\n",
       "    <tr>\n",
       "      <th>4</th>\n",
       "      <td>2194</td>\n",
       "      <td>0</td>\n",
       "    </tr>\n",
       "    <tr>\n",
       "      <th>...</th>\n",
       "      <td>...</td>\n",
       "      <td>...</td>\n",
       "    </tr>\n",
       "    <tr>\n",
       "      <th>725</th>\n",
       "      <td>2915</td>\n",
       "      <td>1</td>\n",
       "    </tr>\n",
       "    <tr>\n",
       "      <th>726</th>\n",
       "      <td>2916</td>\n",
       "      <td>1</td>\n",
       "    </tr>\n",
       "    <tr>\n",
       "      <th>727</th>\n",
       "      <td>2917</td>\n",
       "      <td>1</td>\n",
       "    </tr>\n",
       "    <tr>\n",
       "      <th>728</th>\n",
       "      <td>2918</td>\n",
       "      <td>1</td>\n",
       "    </tr>\n",
       "    <tr>\n",
       "      <th>729</th>\n",
       "      <td>2919</td>\n",
       "      <td>1</td>\n",
       "    </tr>\n",
       "  </tbody>\n",
       "</table>\n",
       "<p>730 rows × 2 columns</p>\n",
       "</div>"
      ],
      "text/plain": [
       "       id  rainfall\n",
       "0    2190         1\n",
       "1    2191         1\n",
       "2    2192         1\n",
       "3    2193         0\n",
       "4    2194         0\n",
       "..    ...       ...\n",
       "725  2915         1\n",
       "726  2916         1\n",
       "727  2917         1\n",
       "728  2918         1\n",
       "729  2919         1\n",
       "\n",
       "[730 rows x 2 columns]"
      ]
     },
     "execution_count": 31,
     "metadata": {},
     "output_type": "execute_result"
    }
   ],
   "source": [
    "df_test_predictions"
   ]
  },
  {
   "cell_type": "code",
   "execution_count": 32,
   "id": "1d13da80",
   "metadata": {
    "execution": {
     "iopub.execute_input": "2025-03-07T10:19:49.673234Z",
     "iopub.status.busy": "2025-03-07T10:19:49.672810Z",
     "iopub.status.idle": "2025-03-07T10:19:49.681740Z",
     "shell.execute_reply": "2025-03-07T10:19:49.680547Z"
    },
    "papermill": {
     "duration": 0.031397,
     "end_time": "2025-03-07T10:19:49.684548",
     "exception": false,
     "start_time": "2025-03-07T10:19:49.653151",
     "status": "completed"
    },
    "tags": []
   },
   "outputs": [],
   "source": [
    "df_test_predictions.to_csv(\"submission.csv\",index=False)"
   ]
  },
  {
   "cell_type": "code",
   "execution_count": 33,
   "id": "798ecf55",
   "metadata": {
    "execution": {
     "iopub.execute_input": "2025-03-07T10:19:49.723649Z",
     "iopub.status.busy": "2025-03-07T10:19:49.723270Z",
     "iopub.status.idle": "2025-03-07T10:19:49.979428Z",
     "shell.execute_reply": "2025-03-07T10:19:49.978194Z"
    },
    "papermill": {
     "duration": 0.278219,
     "end_time": "2025-03-07T10:19:49.981616",
     "exception": false,
     "start_time": "2025-03-07T10:19:49.703397",
     "status": "completed"
    },
    "tags": []
   },
   "outputs": [
    {
     "name": "stdout",
     "output_type": "stream",
     "text": [
      "\n",
      "Feature Importances:\n",
      "          Feature  Importance\n",
      "7           cloud    0.441473\n",
      "6        humidity    0.097195\n",
      "5        dewpoint    0.065547\n",
      "8        sunshine    0.056689\n",
      "4         mintemp    0.051709\n",
      "9   winddirection    0.051152\n",
      "0             day    0.049001\n",
      "1        pressure    0.047868\n",
      "2         maxtemp    0.047601\n",
      "10      windspeed    0.046875\n",
      "3     temparature    0.044892\n"
     ]
    },
    {
     "data": {
      "image/png": "[encoded data removed]",
      "text/plain": [
       "<Figure size 1000x600 with 1 Axes>"
      ]
     },
     "metadata": {},
     "output_type": "display_data"
    }
   ],
   "source": [
    "feature_importances = best_clf.feature_importances_\n",
    "\n",
    "# Create a DataFrame for feature importances\n",
    "feature_importance_df = pd.DataFrame(\n",
    "    {\"Feature\": X_resampled.columns, \"Importance\": feature_importances}\n",
    ")\n",
    "\n",
    "# Sort the DataFrame by importance\n",
    "feature_importance_df = feature_importance_df.sort_values(\n",
    "    by=\"Importance\", ascending=False\n",
    ")\n",
    "\n",
    "# Print or visualize feature importances\n",
    "print(\"\\nFeature Importances:\")\n",
    "print(feature_importance_df)\n",
    "\n",
    "# Visualize feature importances (optional)\n",
    "plt.figure(figsize=(10, 6))\n",
    "sns.barplot(x=\"Importance\", y=\"Feature\", data=feature_importance_df)\n",
    "plt.title(\"Random Forest Feature Importances\")\n",
    "plt.show()"
   ]
  },
  {
   "cell_type": "markdown",
   "id": "8a7cd62d",
   "metadata": {
    "papermill": {
     "duration": 0.018778,
     "end_time": "2025-03-07T10:19:50.019436",
     "exception": false,
     "start_time": "2025-03-07T10:19:50.000658",
     "status": "completed"
    },
    "tags": []
   },
   "source": [
    "# New Features"
   ]
  },
  {
   "cell_type": "code",
   "execution_count": 34,
   "id": "b6c7bcdd",
   "metadata": {
    "execution": {
     "iopub.execute_input": "2025-03-07T10:19:50.059686Z",
     "iopub.status.busy": "2025-03-07T10:19:50.059323Z",
     "iopub.status.idle": "2025-03-07T10:19:50.100551Z",
     "shell.execute_reply": "2025-03-07T10:19:50.099474Z"
    },
    "papermill": {
     "duration": 0.064263,
     "end_time": "2025-03-07T10:19:50.103131",
     "exception": false,
     "start_time": "2025-03-07T10:19:50.038868",
     "status": "completed"
    },
    "tags": []
   },
   "outputs": [],
   "source": [
    "def preprocess_weather_data(data):\n",
    "    # Feature Engineering\n",
    "    data[\"dew_humidity\"] = data[\"dewpoint\"] * data[\"humidity\"] # ***\n",
    "    data[\"cloud_windspeed\"] = data[\"cloud\"] * data[\"windspeed\"] # ***\n",
    "    data[\"cloud_to_humidity\"] = data[\"cloud\"] / data[\"humidity\"]\n",
    "    data[\"temp_to_sunshine\"] = data[\"sunshine\"] / data[\"temparature\"] # ***\n",
    "\n",
    "    \n",
    "    #data[\"temp_range\"] = data[\"maxtemp\"] - data[\"mintemp\"]\n",
    "    #data[\"temp_from_dewpoint\"] = data[\"temparature\"] - data[\"dewpoint\"] # **?\n",
    "    #data[\"wind_speeddirection\"] = data[\"windspeed\"] * data[\"winddirection\"]\n",
    "    #data['avg_temp'] = (data['maxtemp'] + data['mintemp']) / 2\n",
    "    #data['cloud_persistence'] = data['cloud'] * data['sunshine']  # If both are low, it means the cloud cover persists.\n",
    "    #data['pressure_temp_ratio'] = data['pressure'] / (data['temparature'] + 1)  # Avoid division by zero.\n",
    "    #data['dew_temp_diff'] = data['temparature'] - data['dewpoint']\n",
    "    #data['dew_humidity_ratio'] = data['dewpoint'] / (data['humidity'] + 1)\n",
    "    #data['cloud_humidity_plus'] = data['cloud'] + data[\"humidity\"] \n",
    "    #data['cloud_humidity_sunshine_plus'] = data['cloud'] + data[\"humidity\"] + data['sunshine']\n",
    "    #data['cloud_sunshine_*'] = data['cloud'] * data['sunshine']\n",
    "    data['wind_temp_interaction'] = data['windspeed'] * data['temparature']\n",
    "    #data['sunshine_wind_interaction'] = data['sunshine'] + data['windspeed'] # *\n",
    "    #data['cloud_humidity_ratio'] = data['cloud'] + (data['humidity'])  # Avoid division by zero\n",
    "    #data['pressure_temp_ratio'] = data['pressure'] / (data['temparature'] + 1)  # Avoid division by zero\n",
    "    #data['cloud_wind_ratio'] = data['cloud'] / (data['windspeed'] + 1)  # Avoid division by zero\n",
    "\n",
    "\n",
    "    #data['cloud_coverage_rate'] = data['cloud'] / 100  # Normalize to 0-1 range \n",
    "    #data['cloud_sun_interaction'] = data['cloud'] * (1 - data['sunshine'])\n",
    "\n",
    "    \n",
    "    #data['weather_severity'] = (data['cloud'] * data['humidity']) / (data['pressure'] * (data['sunshine'] + 1))\n",
    "    data['cloud_sun_ratio'] = data['cloud'] / (data['sunshine'] + 1) # ***\n",
    "    #data[\"cloud_sunshine_+\"] = data[\"cloud\"] + data[\"sunshine\"]\n",
    "    #data[\"cloud_sunshine_-\"] = data[\"cloud\"] - data[\"sunshine\"]\n",
    "    data[\"dew_humidity/sun\"] = data[\"dewpoint\"] * data[\"humidity\"] / (data['sunshine'] + 1)\n",
    "    data[\"dew_humidity_+\"] = data[\"dewpoint\"] * data[\"humidity\"]\n",
    "    \n",
    "\n",
    "    data['humidity_sunshine_*'] = data[\"humidity\"] * data['sunshine']\n",
    "\n",
    "    data[\"cloud_humidity/pressure\"] = (data[\"cloud\"] * data[\"humidity\"]) / data[\"pressure\"]\n",
    "    \n",
    "\n",
    "    # Extract temporal features\n",
    "    data['month'] = ((data['day'] - 1) // 30 + 1).clip(upper=12)\n",
    "    data['season'] = data['month'].apply(lambda x: 1 if 3 <= x <= 5  # Spring\n",
    "                                         else 2 if 6 <= x <= 8  # Summer\n",
    "                                         else 3 if 9 <= x <= 11  # Autumn\n",
    "                                         else 0)  # Winter\n",
    "    # Seasonal trends\n",
    "    #data['season_temp_trend'] = data['temparature'] * data['season']\n",
    "    data['season_cloud_trend'] = data['cloud'] * data['season']\n",
    "    \n",
    "\n",
    "    # Seasonal deviation from mean values\n",
    "    data['season_cloud_deviation'] = data['cloud'] - data.groupby('season')['cloud'].transform('mean')\n",
    "    data['season_temperature'] = data['temparature'] * data['season']  # Interaction of temper\n",
    "\n",
    "\n",
    "\n",
    "    \n",
    "    data = data.drop(columns=[\"month\"])\n",
    "    #data['season_temp_trend'] = data['avg_temp'] * data['season']\n",
    "    #data['season_dewpoint_trend'] = data['dewpoint'] * data['season']\n",
    "    #data[\"dew_humidity_with_season\"] = data['humidity'] * data['season']\n",
    "    \n",
    "    data = data.drop(columns=[\"maxtemp\", \"winddirection\",\"humidity\",\"temparature\",\"pressure\",\"day\",\"season\"])\n",
    "\n",
    "    return data\n",
    "\n",
    "# Apply to train and test datasets\n",
    "df_train_3 = preprocess_weather_data(df_train_2)\n",
    "df_test_3 = preprocess_weather_data(df_test_2)"
   ]
  },
  {
   "cell_type": "code",
   "execution_count": 35,
   "id": "2c3e558c",
   "metadata": {
    "execution": {
     "iopub.execute_input": "2025-03-07T10:19:50.143515Z",
     "iopub.status.busy": "2025-03-07T10:19:50.143137Z",
     "iopub.status.idle": "2025-03-07T10:19:50.162219Z",
     "shell.execute_reply": "2025-03-07T10:19:50.161147Z"
    },
    "papermill": {
     "duration": 0.042518,
     "end_time": "2025-03-07T10:19:50.164787",
     "exception": false,
     "start_time": "2025-03-07T10:19:50.122269",
     "status": "completed"
    },
    "tags": []
   },
   "outputs": [],
   "source": [
    "def new_temp_col(data):\n",
    "    # data=data.copy()\n",
    "    data['temp_range']=data['maxtemp']-data['mintemp']\n",
    "    data['temp_variability'] =data[['maxtemp', 'mintemp']].std(axis=1)\n",
    "    data['temp_dev_from_min']=data['temparature']-data['mintemp']\n",
    "    data['temp_dev_from_max']=data['maxtemp'] - data['temparature']\n",
    "    data['temp_avg'] = data[['maxtemp', 'temparature', 'mintemp']].mean(axis=1)\n",
    "    return data\n",
    "\n",
    "df_train_3 = new_temp_col(df_train_2)\n",
    "df_test_3  = new_temp_col(df_test_2)"
   ]
  },
  {
   "cell_type": "code",
   "execution_count": 36,
   "id": "f2c7cbaf",
   "metadata": {
    "execution": {
     "iopub.execute_input": "2025-03-07T10:19:50.204386Z",
     "iopub.status.busy": "2025-03-07T10:19:50.203992Z",
     "iopub.status.idle": "2025-03-07T10:19:50.231076Z",
     "shell.execute_reply": "2025-03-07T10:19:50.230061Z"
    },
    "papermill": {
     "duration": 0.049442,
     "end_time": "2025-03-07T10:19:50.233279",
     "exception": false,
     "start_time": "2025-03-07T10:19:50.183837",
     "status": "completed"
    },
    "tags": []
   },
   "outputs": [
    {
     "data": {
      "text/html": [
       "<div>\n",
       "<style scoped>\n",
       "    .dataframe tbody tr th:only-of-type {\n",
       "        vertical-align: middle;\n",
       "    }\n",
       "\n",
       "    .dataframe tbody tr th {\n",
       "        vertical-align: top;\n",
       "    }\n",
       "\n",
       "    .dataframe thead th {\n",
       "        text-align: right;\n",
       "    }\n",
       "</style>\n",
       "<table border=\"1\" class=\"dataframe\">\n",
       "  <thead>\n",
       "    <tr style=\"text-align: right;\">\n",
       "      <th></th>\n",
       "      <th>day</th>\n",
       "      <th>pressure</th>\n",
       "      <th>maxtemp</th>\n",
       "      <th>temparature</th>\n",
       "      <th>mintemp</th>\n",
       "      <th>dewpoint</th>\n",
       "      <th>humidity</th>\n",
       "      <th>cloud</th>\n",
       "      <th>sunshine</th>\n",
       "      <th>winddirection</th>\n",
       "      <th>...</th>\n",
       "      <th>month</th>\n",
       "      <th>season</th>\n",
       "      <th>season_cloud_trend</th>\n",
       "      <th>season_cloud_deviation</th>\n",
       "      <th>season_temperature</th>\n",
       "      <th>temp_range</th>\n",
       "      <th>temp_variability</th>\n",
       "      <th>temp_dev_from_min</th>\n",
       "      <th>temp_dev_from_max</th>\n",
       "      <th>temp_avg</th>\n",
       "    </tr>\n",
       "  </thead>\n",
       "  <tbody>\n",
       "    <tr>\n",
       "      <th>0</th>\n",
       "      <td>1</td>\n",
       "      <td>1017.4</td>\n",
       "      <td>21.2</td>\n",
       "      <td>20.6</td>\n",
       "      <td>19.9</td>\n",
       "      <td>19.4</td>\n",
       "      <td>87.0</td>\n",
       "      <td>88.0</td>\n",
       "      <td>1.1</td>\n",
       "      <td>60.0</td>\n",
       "      <td>...</td>\n",
       "      <td>1</td>\n",
       "      <td>0</td>\n",
       "      <td>0.0</td>\n",
       "      <td>7.875657</td>\n",
       "      <td>0.0</td>\n",
       "      <td>1.3</td>\n",
       "      <td>0.919239</td>\n",
       "      <td>0.7</td>\n",
       "      <td>0.6</td>\n",
       "      <td>20.566667</td>\n",
       "    </tr>\n",
       "    <tr>\n",
       "      <th>1</th>\n",
       "      <td>2</td>\n",
       "      <td>1019.5</td>\n",
       "      <td>16.2</td>\n",
       "      <td>16.9</td>\n",
       "      <td>15.8</td>\n",
       "      <td>15.4</td>\n",
       "      <td>95.0</td>\n",
       "      <td>91.0</td>\n",
       "      <td>0.0</td>\n",
       "      <td>50.0</td>\n",
       "      <td>...</td>\n",
       "      <td>1</td>\n",
       "      <td>0</td>\n",
       "      <td>0.0</td>\n",
       "      <td>10.875657</td>\n",
       "      <td>0.0</td>\n",
       "      <td>0.4</td>\n",
       "      <td>0.282843</td>\n",
       "      <td>1.1</td>\n",
       "      <td>-0.7</td>\n",
       "      <td>16.300000</td>\n",
       "    </tr>\n",
       "    <tr>\n",
       "      <th>2</th>\n",
       "      <td>3</td>\n",
       "      <td>1024.1</td>\n",
       "      <td>19.4</td>\n",
       "      <td>16.1</td>\n",
       "      <td>14.6</td>\n",
       "      <td>9.3</td>\n",
       "      <td>75.0</td>\n",
       "      <td>47.0</td>\n",
       "      <td>8.3</td>\n",
       "      <td>70.0</td>\n",
       "      <td>...</td>\n",
       "      <td>1</td>\n",
       "      <td>0</td>\n",
       "      <td>0.0</td>\n",
       "      <td>-33.124343</td>\n",
       "      <td>0.0</td>\n",
       "      <td>4.8</td>\n",
       "      <td>3.394113</td>\n",
       "      <td>1.5</td>\n",
       "      <td>3.3</td>\n",
       "      <td>16.700000</td>\n",
       "    </tr>\n",
       "    <tr>\n",
       "      <th>3</th>\n",
       "      <td>4</td>\n",
       "      <td>1013.4</td>\n",
       "      <td>18.1</td>\n",
       "      <td>17.8</td>\n",
       "      <td>16.9</td>\n",
       "      <td>16.8</td>\n",
       "      <td>95.0</td>\n",
       "      <td>95.0</td>\n",
       "      <td>0.0</td>\n",
       "      <td>60.0</td>\n",
       "      <td>...</td>\n",
       "      <td>1</td>\n",
       "      <td>0</td>\n",
       "      <td>0.0</td>\n",
       "      <td>14.875657</td>\n",
       "      <td>0.0</td>\n",
       "      <td>1.2</td>\n",
       "      <td>0.848528</td>\n",
       "      <td>0.9</td>\n",
       "      <td>0.3</td>\n",
       "      <td>17.600000</td>\n",
       "    </tr>\n",
       "    <tr>\n",
       "      <th>4</th>\n",
       "      <td>5</td>\n",
       "      <td>1021.8</td>\n",
       "      <td>21.3</td>\n",
       "      <td>18.4</td>\n",
       "      <td>15.2</td>\n",
       "      <td>9.6</td>\n",
       "      <td>52.0</td>\n",
       "      <td>45.0</td>\n",
       "      <td>3.6</td>\n",
       "      <td>40.0</td>\n",
       "      <td>...</td>\n",
       "      <td>1</td>\n",
       "      <td>0</td>\n",
       "      <td>0.0</td>\n",
       "      <td>-35.124343</td>\n",
       "      <td>0.0</td>\n",
       "      <td>6.1</td>\n",
       "      <td>4.313351</td>\n",
       "      <td>3.2</td>\n",
       "      <td>2.9</td>\n",
       "      <td>18.300000</td>\n",
       "    </tr>\n",
       "  </tbody>\n",
       "</table>\n",
       "<p>5 rows × 32 columns</p>\n",
       "</div>"
      ],
      "text/plain": [
       "   day  pressure  maxtemp  temparature  mintemp  dewpoint  humidity  cloud  \\\n",
       "0    1    1017.4     21.2         20.6     19.9      19.4      87.0   88.0   \n",
       "1    2    1019.5     16.2         16.9     15.8      15.4      95.0   91.0   \n",
       "2    3    1024.1     19.4         16.1     14.6       9.3      75.0   47.0   \n",
       "3    4    1013.4     18.1         17.8     16.9      16.8      95.0   95.0   \n",
       "4    5    1021.8     21.3         18.4     15.2       9.6      52.0   45.0   \n",
       "\n",
       "   sunshine  winddirection  ...  month  season  season_cloud_trend  \\\n",
       "0       1.1           60.0  ...      1       0                 0.0   \n",
       "1       0.0           50.0  ...      1       0                 0.0   \n",
       "2       8.3           70.0  ...      1       0                 0.0   \n",
       "3       0.0           60.0  ...      1       0                 0.0   \n",
       "4       3.6           40.0  ...      1       0                 0.0   \n",
       "\n",
       "   season_cloud_deviation  season_temperature  temp_range  temp_variability  \\\n",
       "0                7.875657                 0.0         1.3          0.919239   \n",
       "1               10.875657                 0.0         0.4          0.282843   \n",
       "2              -33.124343                 0.0         4.8          3.394113   \n",
       "3               14.875657                 0.0         1.2          0.848528   \n",
       "4              -35.124343                 0.0         6.1          4.313351   \n",
       "\n",
       "   temp_dev_from_min  temp_dev_from_max   temp_avg  \n",
       "0                0.7                0.6  20.566667  \n",
       "1                1.1               -0.7  16.300000  \n",
       "2                1.5                3.3  16.700000  \n",
       "3                0.9                0.3  17.600000  \n",
       "4                3.2                2.9  18.300000  \n",
       "\n",
       "[5 rows x 32 columns]"
      ]
     },
     "execution_count": 36,
     "metadata": {},
     "output_type": "execute_result"
    }
   ],
   "source": [
    "df_train_3.head()"
   ]
  },
  {
   "cell_type": "code",
   "execution_count": 37,
   "id": "a52505ae",
   "metadata": {
    "execution": {
     "iopub.execute_input": "2025-03-07T10:19:50.274137Z",
     "iopub.status.busy": "2025-03-07T10:19:50.273142Z",
     "iopub.status.idle": "2025-03-07T10:19:50.300683Z",
     "shell.execute_reply": "2025-03-07T10:19:50.299477Z"
    },
    "papermill": {
     "duration": 0.050488,
     "end_time": "2025-03-07T10:19:50.303094",
     "exception": false,
     "start_time": "2025-03-07T10:19:50.252606",
     "status": "completed"
    },
    "tags": []
   },
   "outputs": [
    {
     "data": {
      "text/html": [
       "<div>\n",
       "<style scoped>\n",
       "    .dataframe tbody tr th:only-of-type {\n",
       "        vertical-align: middle;\n",
       "    }\n",
       "\n",
       "    .dataframe tbody tr th {\n",
       "        vertical-align: top;\n",
       "    }\n",
       "\n",
       "    .dataframe thead th {\n",
       "        text-align: right;\n",
       "    }\n",
       "</style>\n",
       "<table border=\"1\" class=\"dataframe\">\n",
       "  <thead>\n",
       "    <tr style=\"text-align: right;\">\n",
       "      <th></th>\n",
       "      <th>day</th>\n",
       "      <th>pressure</th>\n",
       "      <th>maxtemp</th>\n",
       "      <th>temparature</th>\n",
       "      <th>mintemp</th>\n",
       "      <th>dewpoint</th>\n",
       "      <th>humidity</th>\n",
       "      <th>cloud</th>\n",
       "      <th>sunshine</th>\n",
       "      <th>winddirection</th>\n",
       "      <th>...</th>\n",
       "      <th>month</th>\n",
       "      <th>season</th>\n",
       "      <th>season_cloud_trend</th>\n",
       "      <th>season_cloud_deviation</th>\n",
       "      <th>season_temperature</th>\n",
       "      <th>temp_range</th>\n",
       "      <th>temp_variability</th>\n",
       "      <th>temp_dev_from_min</th>\n",
       "      <th>temp_dev_from_max</th>\n",
       "      <th>temp_avg</th>\n",
       "    </tr>\n",
       "  </thead>\n",
       "  <tbody>\n",
       "    <tr>\n",
       "      <th>0</th>\n",
       "      <td>1</td>\n",
       "      <td>1019.5</td>\n",
       "      <td>17.5</td>\n",
       "      <td>15.8</td>\n",
       "      <td>12.7</td>\n",
       "      <td>14.9</td>\n",
       "      <td>96.0</td>\n",
       "      <td>99.0</td>\n",
       "      <td>0.0</td>\n",
       "      <td>50.0</td>\n",
       "      <td>...</td>\n",
       "      <td>1</td>\n",
       "      <td>0</td>\n",
       "      <td>0.0</td>\n",
       "      <td>18.8</td>\n",
       "      <td>0.0</td>\n",
       "      <td>4.8</td>\n",
       "      <td>3.394113</td>\n",
       "      <td>3.1</td>\n",
       "      <td>1.7</td>\n",
       "      <td>15.333333</td>\n",
       "    </tr>\n",
       "    <tr>\n",
       "      <th>1</th>\n",
       "      <td>2</td>\n",
       "      <td>1016.5</td>\n",
       "      <td>17.5</td>\n",
       "      <td>16.5</td>\n",
       "      <td>15.8</td>\n",
       "      <td>15.1</td>\n",
       "      <td>97.0</td>\n",
       "      <td>99.0</td>\n",
       "      <td>0.0</td>\n",
       "      <td>50.0</td>\n",
       "      <td>...</td>\n",
       "      <td>1</td>\n",
       "      <td>0</td>\n",
       "      <td>0.0</td>\n",
       "      <td>18.8</td>\n",
       "      <td>0.0</td>\n",
       "      <td>1.7</td>\n",
       "      <td>1.202082</td>\n",
       "      <td>0.7</td>\n",
       "      <td>1.0</td>\n",
       "      <td>16.600000</td>\n",
       "    </tr>\n",
       "    <tr>\n",
       "      <th>2</th>\n",
       "      <td>3</td>\n",
       "      <td>1023.9</td>\n",
       "      <td>11.2</td>\n",
       "      <td>10.4</td>\n",
       "      <td>9.4</td>\n",
       "      <td>8.9</td>\n",
       "      <td>86.0</td>\n",
       "      <td>96.0</td>\n",
       "      <td>0.0</td>\n",
       "      <td>40.0</td>\n",
       "      <td>...</td>\n",
       "      <td>1</td>\n",
       "      <td>0</td>\n",
       "      <td>0.0</td>\n",
       "      <td>15.8</td>\n",
       "      <td>0.0</td>\n",
       "      <td>1.8</td>\n",
       "      <td>1.272792</td>\n",
       "      <td>1.0</td>\n",
       "      <td>0.8</td>\n",
       "      <td>10.333333</td>\n",
       "    </tr>\n",
       "    <tr>\n",
       "      <th>3</th>\n",
       "      <td>4</td>\n",
       "      <td>1022.9</td>\n",
       "      <td>20.6</td>\n",
       "      <td>17.3</td>\n",
       "      <td>15.2</td>\n",
       "      <td>9.5</td>\n",
       "      <td>75.0</td>\n",
       "      <td>45.0</td>\n",
       "      <td>7.1</td>\n",
       "      <td>20.0</td>\n",
       "      <td>...</td>\n",
       "      <td>1</td>\n",
       "      <td>0</td>\n",
       "      <td>0.0</td>\n",
       "      <td>-35.2</td>\n",
       "      <td>0.0</td>\n",
       "      <td>5.4</td>\n",
       "      <td>3.818377</td>\n",
       "      <td>2.1</td>\n",
       "      <td>3.3</td>\n",
       "      <td>17.700000</td>\n",
       "    </tr>\n",
       "    <tr>\n",
       "      <th>4</th>\n",
       "      <td>5</td>\n",
       "      <td>1022.2</td>\n",
       "      <td>16.1</td>\n",
       "      <td>13.8</td>\n",
       "      <td>6.4</td>\n",
       "      <td>4.3</td>\n",
       "      <td>68.0</td>\n",
       "      <td>49.0</td>\n",
       "      <td>9.2</td>\n",
       "      <td>20.0</td>\n",
       "      <td>...</td>\n",
       "      <td>1</td>\n",
       "      <td>0</td>\n",
       "      <td>0.0</td>\n",
       "      <td>-31.2</td>\n",
       "      <td>0.0</td>\n",
       "      <td>9.7</td>\n",
       "      <td>6.858936</td>\n",
       "      <td>7.4</td>\n",
       "      <td>2.3</td>\n",
       "      <td>12.100000</td>\n",
       "    </tr>\n",
       "  </tbody>\n",
       "</table>\n",
       "<p>5 rows × 31 columns</p>\n",
       "</div>"
      ],
      "text/plain": [
       "   day  pressure  maxtemp  temparature  mintemp  dewpoint  humidity  cloud  \\\n",
       "0    1    1019.5     17.5         15.8     12.7      14.9      96.0   99.0   \n",
       "1    2    1016.5     17.5         16.5     15.8      15.1      97.0   99.0   \n",
       "2    3    1023.9     11.2         10.4      9.4       8.9      86.0   96.0   \n",
       "3    4    1022.9     20.6         17.3     15.2       9.5      75.0   45.0   \n",
       "4    5    1022.2     16.1         13.8      6.4       4.3      68.0   49.0   \n",
       "\n",
       "   sunshine  winddirection  ...  month  season  season_cloud_trend  \\\n",
       "0       0.0           50.0  ...      1       0                 0.0   \n",
       "1       0.0           50.0  ...      1       0                 0.0   \n",
       "2       0.0           40.0  ...      1       0                 0.0   \n",
       "3       7.1           20.0  ...      1       0                 0.0   \n",
       "4       9.2           20.0  ...      1       0                 0.0   \n",
       "\n",
       "   season_cloud_deviation  season_temperature  temp_range  temp_variability  \\\n",
       "0                    18.8                 0.0         4.8          3.394113   \n",
       "1                    18.8                 0.0         1.7          1.202082   \n",
       "2                    15.8                 0.0         1.8          1.272792   \n",
       "3                   -35.2                 0.0         5.4          3.818377   \n",
       "4                   -31.2                 0.0         9.7          6.858936   \n",
       "\n",
       "   temp_dev_from_min  temp_dev_from_max   temp_avg  \n",
       "0                3.1                1.7  15.333333  \n",
       "1                0.7                1.0  16.600000  \n",
       "2                1.0                0.8  10.333333  \n",
       "3                2.1                3.3  17.700000  \n",
       "4                7.4                2.3  12.100000  \n",
       "\n",
       "[5 rows x 31 columns]"
      ]
     },
     "execution_count": 37,
     "metadata": {},
     "output_type": "execute_result"
    }
   ],
   "source": [
    "df_test_3.head()"
   ]
  },
  {
   "cell_type": "code",
   "execution_count": 38,
   "id": "aceabb4c",
   "metadata": {
    "execution": {
     "iopub.execute_input": "2025-03-07T10:19:50.343785Z",
     "iopub.status.busy": "2025-03-07T10:19:50.343404Z",
     "iopub.status.idle": "2025-03-07T10:19:50.414352Z",
     "shell.execute_reply": "2025-03-07T10:19:50.413174Z"
    },
    "papermill": {
     "duration": 0.094386,
     "end_time": "2025-03-07T10:19:50.417012",
     "exception": false,
     "start_time": "2025-03-07T10:19:50.322626",
     "status": "completed"
    },
    "tags": []
   },
   "outputs": [],
   "source": [
    "from imblearn.over_sampling import SMOTE\n",
    "\n",
    "\n",
    "\n",
    "X = df_train_3.drop('rainfall', axis=1)\n",
    "y = df_train_3['rainfall']\n",
    "\n",
    "smote = SMOTE(random_state=42)\n",
    "X_resampled, y_resampled = smote.fit_resample(X, y)"
   ]
  },
  {
   "cell_type": "code",
   "execution_count": 39,
   "id": "794ae062",
   "metadata": {
    "execution": {
     "iopub.execute_input": "2025-03-07T10:19:50.459468Z",
     "iopub.status.busy": "2025-03-07T10:19:50.459083Z",
     "iopub.status.idle": "2025-03-07T10:22:11.658834Z",
     "shell.execute_reply": "2025-03-07T10:22:11.657789Z"
    },
    "papermill": {
     "duration": 141.223492,
     "end_time": "2025-03-07T10:22:11.661010",
     "exception": false,
     "start_time": "2025-03-07T10:19:50.437518",
     "status": "completed"
    },
    "tags": []
   },
   "outputs": [
    {
     "name": "stderr",
     "output_type": "stream",
     "text": [
      "[I 2025-03-07 10:19:50,472] A new study created in memory with name: no-name-da8fa7e4-1f3a-4c13-b5d7-d4554ac3795a\n",
      "[I 2025-03-07 10:19:52,362] Trial 0 finished with value: 0.8695783806310653 and parameters: {'n_estimators': 227, 'max_depth': 10, 'min_samples_split': 7, 'min_samples_leaf': 7, 'max_features': 'sqrt'}. Best is trial 0 with value: 0.8695783806310653.\n",
      "[I 2025-03-07 10:19:53,231] Trial 1 finished with value: 0.8725868416037236 and parameters: {'n_estimators': 119, 'max_depth': 20, 'min_samples_split': 4, 'min_samples_leaf': 9, 'max_features': 'log2'}. Best is trial 1 with value: 0.8725868416037236.\n",
      "[I 2025-03-07 10:19:56,770] Trial 2 finished with value: 0.874090639134607 and parameters: {'n_estimators': 437, 'max_depth': 8, 'min_samples_split': 9, 'min_samples_leaf': 5, 'max_features': 'sqrt'}. Best is trial 2 with value: 0.874090639134607.\n",
      "[I 2025-03-07 10:19:58,434] Trial 3 finished with value: 0.8680494155499384 and parameters: {'n_estimators': 280, 'max_depth': 6, 'min_samples_split': 10, 'min_samples_leaf': 1, 'max_features': 'log2'}. Best is trial 2 with value: 0.874090639134607.\n",
      "[I 2025-03-07 10:20:01,451] Trial 4 finished with value: 0.8710566786318266 and parameters: {'n_estimators': 361, 'max_depth': 20, 'min_samples_split': 3, 'min_samples_leaf': 8, 'max_features': 'sqrt'}. Best is trial 2 with value: 0.874090639134607.\n",
      "[I 2025-03-07 10:20:02,572] Trial 5 finished with value: 0.8710827623189055 and parameters: {'n_estimators': 128, 'max_depth': 12, 'min_samples_split': 3, 'min_samples_leaf': 7, 'max_features': 'sqrt'}. Best is trial 2 with value: 0.874090639134607.\n",
      "[I 2025-03-07 10:20:05,121] Trial 6 finished with value: 0.8620080977715773 and parameters: {'n_estimators': 483, 'max_depth': 5, 'min_samples_split': 9, 'min_samples_leaf': 9, 'max_features': 'log2'}. Best is trial 2 with value: 0.874090639134607.\n",
      "[I 2025-03-07 10:20:08,195] Trial 7 finished with value: 0.8771720430714041 and parameters: {'n_estimators': 432, 'max_depth': 10, 'min_samples_split': 8, 'min_samples_leaf': 7, 'max_features': 'log2'}. Best is trial 7 with value: 0.8771720430714041.\n",
      "[I 2025-03-07 10:20:11,087] Trial 8 finished with value: 0.8710827623189055 and parameters: {'n_estimators': 377, 'max_depth': 7, 'min_samples_split': 4, 'min_samples_leaf': 2, 'max_features': 'sqrt'}. Best is trial 7 with value: 0.8771720430714041.\n",
      "[I 2025-03-07 10:20:11,493] Trial 9 finished with value: 0.8695783806310653 and parameters: {'n_estimators': 50, 'max_depth': 8, 'min_samples_split': 9, 'min_samples_leaf': 8, 'max_features': 'sqrt'}. Best is trial 7 with value: 0.8771720430714041.\n",
      "[I 2025-03-07 10:20:13,939] Trial 10 finished with value: 0.8802246512139238 and parameters: {'n_estimators': 306, 'max_depth': 15, 'min_samples_split': 6, 'min_samples_leaf': 4, 'max_features': 'log2'}. Best is trial 10 with value: 0.8802246512139238.\n",
      "[I 2025-03-07 10:20:16,275] Trial 11 finished with value: 0.8817312834224598 and parameters: {'n_estimators': 294, 'max_depth': 15, 'min_samples_split': 7, 'min_samples_leaf': 4, 'max_features': 'log2'}. Best is trial 11 with value: 0.8817312834224598.\n",
      "[I 2025-03-07 10:20:18,361] Trial 12 finished with value: 0.8817312834224598 and parameters: {'n_estimators': 267, 'max_depth': 15, 'min_samples_split': 6, 'min_samples_leaf': 4, 'max_features': 'log2'}. Best is trial 11 with value: 0.8817312834224598.\n",
      "[I 2025-03-07 10:20:20,051] Trial 13 finished with value: 0.881710624293292 and parameters: {'n_estimators': 210, 'max_depth': 16, 'min_samples_split': 6, 'min_samples_leaf': 3, 'max_features': 'log2'}. Best is trial 11 with value: 0.8817312834224598.\n",
      "[I 2025-03-07 10:20:21,578] Trial 14 finished with value: 0.880158560140168 and parameters: {'n_estimators': 196, 'max_depth': 15, 'min_samples_split': 5, 'min_samples_leaf': 5, 'max_features': 'log2'}. Best is trial 11 with value: 0.8817312834224598.\n",
      "[I 2025-03-07 10:20:24,178] Trial 15 finished with value: 0.8832376211913345 and parameters: {'n_estimators': 323, 'max_depth': 17, 'min_samples_split': 7, 'min_samples_leaf': 3, 'max_features': 'log2'}. Best is trial 15 with value: 0.8832376211913345.\n",
      "[I 2025-03-07 10:20:26,971] Trial 16 finished with value: 0.8877963458110518 and parameters: {'n_estimators': 341, 'max_depth': 18, 'min_samples_split': 7, 'min_samples_leaf': 2, 'max_features': 'log2'}. Best is trial 16 with value: 0.8877963458110518.\n",
      "[I 2025-03-07 10:20:29,946] Trial 17 finished with value: 0.8923359883712306 and parameters: {'n_estimators': 353, 'max_depth': 18, 'min_samples_split': 7, 'min_samples_leaf': 1, 'max_features': 'log2'}. Best is trial 17 with value: 0.8923359883712306.\n",
      "[I 2025-03-07 10:20:33,036] Trial 18 finished with value: 0.8908288770053476 and parameters: {'n_estimators': 367, 'max_depth': 18, 'min_samples_split': 8, 'min_samples_leaf': 1, 'max_features': 'log2'}. Best is trial 17 with value: 0.8923359883712306.\n",
      "[I 2025-03-07 10:20:36,323] Trial 19 finished with value: 0.8832569385249637 and parameters: {'n_estimators': 401, 'max_depth': 13, 'min_samples_split': 8, 'min_samples_leaf': 1, 'max_features': 'log2'}. Best is trial 17 with value: 0.8923359883712306.\n",
      "[I 2025-03-07 10:20:40,365] Trial 20 finished with value: 0.8847638146167559 and parameters: {'n_estimators': 486, 'max_depth': 18, 'min_samples_split': 10, 'min_samples_leaf': 1, 'max_features': 'log2'}. Best is trial 17 with value: 0.8923359883712306.\n",
      "[I 2025-03-07 10:20:43,236] Trial 21 finished with value: 0.8878138760861447 and parameters: {'n_estimators': 350, 'max_depth': 18, 'min_samples_split': 8, 'min_samples_leaf': 2, 'max_features': 'log2'}. Best is trial 17 with value: 0.8923359883712306.\n",
      "[I 2025-03-07 10:20:46,586] Trial 22 finished with value: 0.8893377865758532 and parameters: {'n_estimators': 414, 'max_depth': 19, 'min_samples_split': 8, 'min_samples_leaf': 2, 'max_features': 'log2'}. Best is trial 17 with value: 0.8923359883712306.\n",
      "[I 2025-03-07 10:20:50,038] Trial 23 finished with value: 0.8893031993112653 and parameters: {'n_estimators': 404, 'max_depth': 20, 'min_samples_split': 8, 'min_samples_leaf': 1, 'max_features': 'log2'}. Best is trial 17 with value: 0.8923359883712306.\n",
      "[I 2025-03-07 10:20:53,567] Trial 24 finished with value: 0.8847638146167559 and parameters: {'n_estimators': 444, 'max_depth': 13, 'min_samples_split': 5, 'min_samples_leaf': 3, 'max_features': 'log2'}. Best is trial 17 with value: 0.8923359883712306.\n",
      "[I 2025-03-07 10:20:56,730] Trial 25 finished with value: 0.8832741036485027 and parameters: {'n_estimators': 391, 'max_depth': 19, 'min_samples_split': 9, 'min_samples_leaf': 2, 'max_features': 'log2'}. Best is trial 17 with value: 0.8923359883712306.\n",
      "[I 2025-03-07 10:20:58,812] Trial 26 finished with value: 0.8832161493947731 and parameters: {'n_estimators': 247, 'max_depth': 17, 'min_samples_split': 8, 'min_samples_leaf': 1, 'max_features': 'log2'}. Best is trial 17 with value: 0.8923359883712306.\n",
      "[I 2025-03-07 10:21:00,521] Trial 27 finished with value: 0.8574710338680926 and parameters: {'n_estimators': 423, 'max_depth': 3, 'min_samples_split': 2, 'min_samples_leaf': 3, 'max_features': 'log2'}. Best is trial 17 with value: 0.8923359883712306.\n",
      "[I 2025-03-07 10:21:04,315] Trial 28 finished with value: 0.8847436852088485 and parameters: {'n_estimators': 463, 'max_depth': 17, 'min_samples_split': 7, 'min_samples_leaf': 2, 'max_features': 'log2'}. Best is trial 17 with value: 0.8923359883712306.\n",
      "[I 2025-03-07 10:21:07,296] Trial 29 finished with value: 0.8756204882322061 and parameters: {'n_estimators': 341, 'max_depth': 19, 'min_samples_split': 5, 'min_samples_leaf': 6, 'max_features': 'sqrt'}. Best is trial 17 with value: 0.8923359883712306.\n",
      "[I 2025-03-07 10:21:10,414] Trial 30 finished with value: 0.8908288770053476 and parameters: {'n_estimators': 376, 'max_depth': 13, 'min_samples_split': 7, 'min_samples_leaf': 1, 'max_features': 'log2'}. Best is trial 17 with value: 0.8923359883712306.\n",
      "[I 2025-03-07 10:21:13,368] Trial 31 finished with value: 0.8832569385249637 and parameters: {'n_estimators': 377, 'max_depth': 10, 'min_samples_split': 7, 'min_samples_leaf': 1, 'max_features': 'log2'}. Best is trial 17 with value: 0.8923359883712306.\n",
      "[I 2025-03-07 10:21:16,664] Trial 32 finished with value: 0.8847638146167559 and parameters: {'n_estimators': 407, 'max_depth': 14, 'min_samples_split': 6, 'min_samples_leaf': 2, 'max_features': 'log2'}. Best is trial 17 with value: 0.8923359883712306.\n",
      "[I 2025-03-07 10:21:19,378] Trial 33 finished with value: 0.8832161493947731 and parameters: {'n_estimators': 316, 'max_depth': 19, 'min_samples_split': 8, 'min_samples_leaf': 1, 'max_features': 'log2'}. Best is trial 17 with value: 0.8923359883712306.\n",
      "[I 2025-03-07 10:21:23,164] Trial 34 finished with value: 0.8877963458110518 and parameters: {'n_estimators': 459, 'max_depth': 16, 'min_samples_split': 7, 'min_samples_leaf': 2, 'max_features': 'log2'}. Best is trial 17 with value: 0.8923359883712306.\n",
      "[I 2025-03-07 10:21:26,053] Trial 35 finished with value: 0.8847436852088485 and parameters: {'n_estimators': 363, 'max_depth': 11, 'min_samples_split': 10, 'min_samples_leaf': 1, 'max_features': 'log2'}. Best is trial 17 with value: 0.8923359883712306.\n",
      "[I 2025-03-07 10:21:29,171] Trial 36 finished with value: 0.8847638146167559 and parameters: {'n_estimators': 331, 'max_depth': 20, 'min_samples_split': 9, 'min_samples_leaf': 3, 'max_features': 'sqrt'}. Best is trial 17 with value: 0.8923359883712306.\n",
      "[I 2025-03-07 10:21:31,445] Trial 37 finished with value: 0.8847436852088485 and parameters: {'n_estimators': 271, 'max_depth': 16, 'min_samples_split': 9, 'min_samples_leaf': 1, 'max_features': 'log2'}. Best is trial 17 with value: 0.8923359883712306.\n",
      "[I 2025-03-07 10:21:34,764] Trial 38 finished with value: 0.8756204882322061 and parameters: {'n_estimators': 373, 'max_depth': 12, 'min_samples_split': 7, 'min_samples_leaf': 5, 'max_features': 'sqrt'}. Best is trial 17 with value: 0.8923359883712306.\n",
      "[I 2025-03-07 10:21:38,221] Trial 39 finished with value: 0.8832569385249637 and parameters: {'n_estimators': 420, 'max_depth': 19, 'min_samples_split': 6, 'min_samples_leaf': 2, 'max_features': 'log2'}. Best is trial 17 with value: 0.8923359883712306.\n",
      "[I 2025-03-07 10:21:41,474] Trial 40 finished with value: 0.8847638146167559 and parameters: {'n_estimators': 452, 'max_depth': 9, 'min_samples_split': 8, 'min_samples_leaf': 4, 'max_features': 'log2'}. Best is trial 17 with value: 0.8923359883712306.\n",
      "[I 2025-03-07 10:21:44,796] Trial 41 finished with value: 0.8908288770053476 and parameters: {'n_estimators': 393, 'max_depth': 20, 'min_samples_split': 8, 'min_samples_leaf': 1, 'max_features': 'log2'}. Best is trial 17 with value: 0.8923359883712306.\n",
      "[I 2025-03-07 10:21:48,055] Trial 42 finished with value: 0.8893031993112653 and parameters: {'n_estimators': 388, 'max_depth': 20, 'min_samples_split': 8, 'min_samples_leaf': 1, 'max_features': 'log2'}. Best is trial 17 with value: 0.8923359883712306.\n",
      "[I 2025-03-07 10:21:51,014] Trial 43 finished with value: 0.8862704102513 and parameters: {'n_estimators': 354, 'max_depth': 18, 'min_samples_split': 7, 'min_samples_leaf': 2, 'max_features': 'log2'}. Best is trial 17 with value: 0.8923359883712306.\n",
      "[I 2025-03-07 10:21:54,509] Trial 44 finished with value: 0.8726114415466221 and parameters: {'n_estimators': 498, 'max_depth': 20, 'min_samples_split': 9, 'min_samples_leaf': 10, 'max_features': 'log2'}. Best is trial 17 with value: 0.8923359883712306.\n",
      "[I 2025-03-07 10:21:58,750] Trial 45 finished with value: 0.8877963458110518 and parameters: {'n_estimators': 430, 'max_depth': 17, 'min_samples_split': 9, 'min_samples_leaf': 1, 'max_features': 'sqrt'}. Best is trial 17 with value: 0.8923359883712306.\n",
      "[I 2025-03-07 10:22:00,064] Trial 46 finished with value: 0.8847638146167559 and parameters: {'n_estimators': 157, 'max_depth': 19, 'min_samples_split': 6, 'min_samples_leaf': 2, 'max_features': 'log2'}. Best is trial 17 with value: 0.8923359883712306.\n",
      "[I 2025-03-07 10:22:02,548] Trial 47 finished with value: 0.8817497612799905 and parameters: {'n_estimators': 306, 'max_depth': 14, 'min_samples_split': 8, 'min_samples_leaf': 3, 'max_features': 'log2'}. Best is trial 17 with value: 0.8923359883712306.\n",
      "[I 2025-03-07 10:22:05,035] Trial 48 finished with value: 0.8847436852088485 and parameters: {'n_estimators': 295, 'max_depth': 18, 'min_samples_split': 10, 'min_samples_leaf': 1, 'max_features': 'log2'}. Best is trial 17 with value: 0.8923359883712306.\n",
      "[I 2025-03-07 10:22:08,091] Trial 49 finished with value: 0.8710566786318266 and parameters: {'n_estimators': 365, 'max_depth': 16, 'min_samples_split': 7, 'min_samples_leaf': 8, 'max_features': 'sqrt'}. Best is trial 17 with value: 0.8923359883712306.\n"
     ]
    },
    {
     "name": "stdout",
     "output_type": "stream",
     "text": [
      "Number of finished trials:  50\n",
      "Best trial:\n",
      "  Value:  0.8923359883712306\n",
      "  Params: \n",
      "    n_estimators: 353\n",
      "    max_depth: 18\n",
      "    min_samples_split: 7\n",
      "    min_samples_leaf: 1\n",
      "    max_features: log2\n"
     ]
    },
    {
     "data": {
      "text/html": [
       "<style>#sk-container-id-3 {color: black;background-color: white;}#sk-container-id-3 pre{padding: 0;}#sk-container-id-3 div.sk-toggleable {background-color: white;}#sk-container-id-3 label.sk-toggleable__label {cursor: pointer;display: block;width: 100%;margin-bottom: 0;padding: 0.3em;box-sizing: border-box;text-align: center;}#sk-container-id-3 label.sk-toggleable__label-arrow:before {content: \"▸\";float: left;margin-right: 0.25em;color: #696969;}#sk-container-id-3 label.sk-toggleable__label-arrow:hover:before {color: black;}#sk-container-id-3 div.sk-estimator:hover label.sk-toggleable__label-arrow:before {color: black;}#sk-container-id-3 div.sk-toggleable__content {max-height: 0;max-width: 0;overflow: hidden;text-align: left;background-color: #f0f8ff;}#sk-container-id-3 div.sk-toggleable__content pre {margin: 0.2em;color: black;border-radius: 0.25em;background-color: #f0f8ff;}#sk-container-id-3 input.sk-toggleable__control:checked~div.sk-toggleable__content {max-height: 200px;max-width: 100%;overflow: auto;}#sk-container-id-3 input.sk-toggleable__control:checked~label.sk-toggleable__label-arrow:before {content: \"▾\";}#sk-container-id-3 div.sk-estimator input.sk-toggleable__control:checked~label.sk-toggleable__label {background-color: #d4ebff;}#sk-container-id-3 div.sk-label input.sk-toggleable__control:checked~label.sk-toggleable__label {background-color: #d4ebff;}#sk-container-id-3 input.sk-hidden--visually {border: 0;clip: rect(1px 1px 1px 1px);clip: rect(1px, 1px, 1px, 1px);height: 1px;margin: -1px;overflow: hidden;padding: 0;position: absolute;width: 1px;}#sk-container-id-3 div.sk-estimator {font-family: monospace;background-color: #f0f8ff;border: 1px dotted black;border-radius: 0.25em;box-sizing: border-box;margin-bottom: 0.5em;}#sk-container-id-3 div.sk-estimator:hover {background-color: #d4ebff;}#sk-container-id-3 div.sk-parallel-item::after {content: \"\";width: 100%;border-bottom: 1px solid gray;flex-grow: 1;}#sk-container-id-3 div.sk-label:hover label.sk-toggleable__label {background-color: #d4ebff;}#sk-container-id-3 div.sk-serial::before {content: \"\";position: absolute;border-left: 1px solid gray;box-sizing: border-box;top: 0;bottom: 0;left: 50%;z-index: 0;}#sk-container-id-3 div.sk-serial {display: flex;flex-direction: column;align-items: center;background-color: white;padding-right: 0.2em;padding-left: 0.2em;position: relative;}#sk-container-id-3 div.sk-item {position: relative;z-index: 1;}#sk-container-id-3 div.sk-parallel {display: flex;align-items: stretch;justify-content: center;background-color: white;position: relative;}#sk-container-id-3 div.sk-item::before, #sk-container-id-3 div.sk-parallel-item::before {content: \"\";position: absolute;border-left: 1px solid gray;box-sizing: border-box;top: 0;bottom: 0;left: 50%;z-index: -1;}#sk-container-id-3 div.sk-parallel-item {display: flex;flex-direction: column;z-index: 1;position: relative;background-color: white;}#sk-container-id-3 div.sk-parallel-item:first-child::after {align-self: flex-end;width: 50%;}#sk-container-id-3 div.sk-parallel-item:last-child::after {align-self: flex-start;width: 50%;}#sk-container-id-3 div.sk-parallel-item:only-child::after {width: 0;}#sk-container-id-3 div.sk-dashed-wrapped {border: 1px dashed gray;margin: 0 0.4em 0.5em 0.4em;box-sizing: border-box;padding-bottom: 0.4em;background-color: white;}#sk-container-id-3 div.sk-label label {font-family: monospace;font-weight: bold;display: inline-block;line-height: 1.2em;}#sk-container-id-3 div.sk-label-container {text-align: center;}#sk-container-id-3 div.sk-container {/* jupyter's `normalize.less` sets `[hidden] { display: none; }` but bootstrap.min.css set `[hidden] { display: none !important; }` so we also need the `!important` here to be able to override the default hidden behavior on the sphinx rendered scikit-learn.org. See: https://github.com/scikit-learn/scikit-learn/issues/21755 */display: inline-block !important;position: relative;}#sk-container-id-3 div.sk-text-repr-fallback {display: none;}</style><div id=\"sk-container-id-3\" class=\"sk-top-container\"><div class=\"sk-text-repr-fallback\"><pre>RandomForestClassifier(max_depth=18, max_features=&#x27;log2&#x27;, min_samples_split=7,\n",
       "                       n_estimators=353, random_state=42)</pre><b>In a Jupyter environment, please rerun this cell to show the HTML representation or trust the notebook. <br />On GitHub, the HTML representation is unable to render, please try loading this page with nbviewer.org.</b></div><div class=\"sk-container\" hidden><div class=\"sk-item\"><div class=\"sk-estimator sk-toggleable\"><input class=\"sk-toggleable__control sk-hidden--visually\" id=\"sk-estimator-id-3\" type=\"checkbox\" checked><label for=\"sk-estimator-id-3\" class=\"sk-toggleable__label sk-toggleable__label-arrow\">RandomForestClassifier</label><div class=\"sk-toggleable__content\"><pre>RandomForestClassifier(max_depth=18, max_features=&#x27;log2&#x27;, min_samples_split=7,\n",
       "                       n_estimators=353, random_state=42)</pre></div></div></div></div></div>"
      ],
      "text/plain": [
       "RandomForestClassifier(max_depth=18, max_features='log2', min_samples_split=7,\n",
       "                       n_estimators=353, random_state=42)"
      ]
     },
     "execution_count": 39,
     "metadata": {},
     "output_type": "execute_result"
    }
   ],
   "source": [
    "import optuna\n",
    "from sklearn.model_selection import train_test_split\n",
    "from sklearn.ensemble import RandomForestClassifier\n",
    "from sklearn.metrics import classification_report\n",
    "\n",
    "# Assuming X_resampled and y_resampled are your resampled data\n",
    "\n",
    "X_train, X_test, y_train, y_test = train_test_split(\n",
    "    X_resampled, y_resampled, test_size=0.2, random_state=42\n",
    ")\n",
    "\n",
    "def objective(trial):\n",
    "    \"\"\"Objective function for Optuna.\"\"\"\n",
    "    n_estimators = trial.suggest_int(\"n_estimators\", 50, 500)\n",
    "    max_depth = trial.suggest_int(\"max_depth\", 3, 20)\n",
    "    min_samples_split = trial.suggest_int(\"min_samples_split\", 2, 10)\n",
    "    min_samples_leaf = trial.suggest_int(\"min_samples_leaf\", 1, 10)\n",
    "    max_features = trial.suggest_categorical(\"max_features\", [\"sqrt\", \"log2\"]) #or suggest_float for a percentage\n",
    "\n",
    "    clf = RandomForestClassifier(\n",
    "        n_estimators=n_estimators,\n",
    "        max_depth=max_depth,\n",
    "        min_samples_split=min_samples_split,\n",
    "        min_samples_leaf=min_samples_leaf,\n",
    "        max_features=max_features,\n",
    "        random_state=42,\n",
    "    )\n",
    "\n",
    "    clf.fit(X_train, y_train)\n",
    "    y_pred = clf.predict(X_test)\n",
    "    report = classification_report(y_test, y_pred, output_dict=True)\n",
    "    return report[\"weighted avg\"][\"f1-score\"]  # Optimize for F1-score\n",
    "\n",
    "study = optuna.create_study(direction=\"maximize\")  # Maximize F1-score\n",
    "study.optimize(objective, n_trials=50)  # Adjust n_trials as needed\n",
    "\n",
    "print(\"Number of finished trials: \", len(study.trials))\n",
    "print(\"Best trial:\")\n",
    "trial = study.best_trial\n",
    "\n",
    "print(\"  Value: \", trial.value)\n",
    "print(\"  Params: \")\n",
    "for key, value in trial.params.items():\n",
    "    print(f\"    {key}: {value}\")\n",
    "\n",
    "# Train the final model with the best hyperparameters\n",
    "best_clf = RandomForestClassifier(\n",
    "    n_estimators=trial.params[\"n_estimators\"],\n",
    "    max_depth=trial.params[\"max_depth\"],\n",
    "    min_samples_split=trial.params[\"min_samples_split\"],\n",
    "    min_samples_leaf=trial.params[\"min_samples_leaf\"],\n",
    "    max_features=trial.params[\"max_features\"],\n",
    "    random_state=42,\n",
    ")\n",
    "\n",
    "best_clf.fit(X_resampled, y_resampled)\n",
    "# best_y_pred = best_clf.predict(X_test)\n",
    "# print(\"\\nClassification Report (Best Model):\")\n",
    "# print(classification_report(y_test, best_y_pred))"
   ]
  },
  {
   "cell_type": "code",
   "execution_count": 40,
   "id": "74795e41",
   "metadata": {
    "execution": {
     "iopub.execute_input": "2025-03-07T10:22:11.710334Z",
     "iopub.status.busy": "2025-03-07T10:22:11.709701Z",
     "iopub.status.idle": "2025-03-07T10:22:11.770974Z",
     "shell.execute_reply": "2025-03-07T10:22:11.769966Z"
    },
    "papermill": {
     "duration": 0.088339,
     "end_time": "2025-03-07T10:22:11.773402",
     "exception": false,
     "start_time": "2025-03-07T10:22:11.685063",
     "status": "completed"
    },
    "tags": []
   },
   "outputs": [],
   "source": [
    "df_test_pred = best_clf.predict(df_test_3)\n",
    "df_test_predictions = pd.DataFrame({'id': df_test[\"id\"], 'rainfall': df_test_pred})"
   ]
  },
  {
   "cell_type": "code",
   "execution_count": 41,
   "id": "06dcb032",
   "metadata": {
    "execution": {
     "iopub.execute_input": "2025-03-07T10:22:11.821033Z",
     "iopub.status.busy": "2025-03-07T10:22:11.820616Z",
     "iopub.status.idle": "2025-03-07T10:22:11.832350Z",
     "shell.execute_reply": "2025-03-07T10:22:11.831271Z"
    },
    "papermill": {
     "duration": 0.038317,
     "end_time": "2025-03-07T10:22:11.834564",
     "exception": false,
     "start_time": "2025-03-07T10:22:11.796247",
     "status": "completed"
    },
    "tags": []
   },
   "outputs": [
    {
     "data": {
      "text/html": [
       "<div>\n",
       "<style scoped>\n",
       "    .dataframe tbody tr th:only-of-type {\n",
       "        vertical-align: middle;\n",
       "    }\n",
       "\n",
       "    .dataframe tbody tr th {\n",
       "        vertical-align: top;\n",
       "    }\n",
       "\n",
       "    .dataframe thead th {\n",
       "        text-align: right;\n",
       "    }\n",
       "</style>\n",
       "<table border=\"1\" class=\"dataframe\">\n",
       "  <thead>\n",
       "    <tr style=\"text-align: right;\">\n",
       "      <th></th>\n",
       "      <th>id</th>\n",
       "      <th>rainfall</th>\n",
       "    </tr>\n",
       "  </thead>\n",
       "  <tbody>\n",
       "    <tr>\n",
       "      <th>0</th>\n",
       "      <td>2190</td>\n",
       "      <td>1</td>\n",
       "    </tr>\n",
       "    <tr>\n",
       "      <th>1</th>\n",
       "      <td>2191</td>\n",
       "      <td>1</td>\n",
       "    </tr>\n",
       "    <tr>\n",
       "      <th>2</th>\n",
       "      <td>2192</td>\n",
       "      <td>1</td>\n",
       "    </tr>\n",
       "    <tr>\n",
       "      <th>3</th>\n",
       "      <td>2193</td>\n",
       "      <td>0</td>\n",
       "    </tr>\n",
       "    <tr>\n",
       "      <th>4</th>\n",
       "      <td>2194</td>\n",
       "      <td>0</td>\n",
       "    </tr>\n",
       "    <tr>\n",
       "      <th>...</th>\n",
       "      <td>...</td>\n",
       "      <td>...</td>\n",
       "    </tr>\n",
       "    <tr>\n",
       "      <th>725</th>\n",
       "      <td>2915</td>\n",
       "      <td>1</td>\n",
       "    </tr>\n",
       "    <tr>\n",
       "      <th>726</th>\n",
       "      <td>2916</td>\n",
       "      <td>1</td>\n",
       "    </tr>\n",
       "    <tr>\n",
       "      <th>727</th>\n",
       "      <td>2917</td>\n",
       "      <td>1</td>\n",
       "    </tr>\n",
       "    <tr>\n",
       "      <th>728</th>\n",
       "      <td>2918</td>\n",
       "      <td>1</td>\n",
       "    </tr>\n",
       "    <tr>\n",
       "      <th>729</th>\n",
       "      <td>2919</td>\n",
       "      <td>1</td>\n",
       "    </tr>\n",
       "  </tbody>\n",
       "</table>\n",
       "<p>730 rows × 2 columns</p>\n",
       "</div>"
      ],
      "text/plain": [
       "       id  rainfall\n",
       "0    2190         1\n",
       "1    2191         1\n",
       "2    2192         1\n",
       "3    2193         0\n",
       "4    2194         0\n",
       "..    ...       ...\n",
       "725  2915         1\n",
       "726  2916         1\n",
       "727  2917         1\n",
       "728  2918         1\n",
       "729  2919         1\n",
       "\n",
       "[730 rows x 2 columns]"
      ]
     },
     "execution_count": 41,
     "metadata": {},
     "output_type": "execute_result"
    }
   ],
   "source": [
    "df_test_predictions"
   ]
  },
  {
   "cell_type": "code",
   "execution_count": 42,
   "id": "d1e6f847",
   "metadata": {
    "execution": {
     "iopub.execute_input": "2025-03-07T10:22:11.882871Z",
     "iopub.status.busy": "2025-03-07T10:22:11.882452Z",
     "iopub.status.idle": "2025-03-07T10:22:11.891191Z",
     "shell.execute_reply": "2025-03-07T10:22:11.890055Z"
    },
    "papermill": {
     "duration": 0.036018,
     "end_time": "2025-03-07T10:22:11.893570",
     "exception": false,
     "start_time": "2025-03-07T10:22:11.857552",
     "status": "completed"
    },
    "tags": []
   },
   "outputs": [],
   "source": [
    "df_test_predictions.to_csv(\"submission.csv\",index=False)"
   ]
  },
  {
   "cell_type": "code",
   "execution_count": null,
   "id": "f8591c4d",
   "metadata": {
    "papermill": {
     "duration": 0.024391,
     "end_time": "2025-03-07T10:22:11.940881",
     "exception": false,
     "start_time": "2025-03-07T10:22:11.916490",
     "status": "completed"
    },
    "tags": []
   },
   "outputs": [],
   "source": []
  }
 ],
 "metadata": {
  "kaggle": {
   "accelerator": "none",
   "dataSources": [
    {
     "databundleVersionId": 11251744,
     "sourceId": 91714,
     "sourceType": "competition"
    }
   ],
   "dockerImageVersionId": 30749,
   "isGpuEnabled": false,
   "isInternetEnabled": true,
   "language": "python",
   "sourceType": "notebook"
  },
  "kernelspec": {
   "display_name": "Python 3",
   "language": "python",
   "name": "python3"
  },
  "language_info": {
   "codemirror_mode": {
    "name": "ipython",
    "version": 3
   },
   "file_extension": ".py",
   "mimetype": "text/x-python",
   "name": "python",
   "nbconvert_exporter": "python",
   "pygments_lexer": "ipython3",
   "version": "3.10.13"
  },
  "papermill": {
   "default_parameters": {},
   "duration": 265.94724,
   "end_time": "2025-03-07T10:22:12.788598",
   "environment_variables": {},
   "exception": null,
   "input_path": "__notebook__.ipynb",
   "output_path": "__notebook__.ipynb",
   "parameters": {},
   "start_time": "2025-03-07T10:17:46.841358",
   "version": "2.5.0"
  }
 },
 "nbformat": 4,
 "nbformat_minor": 5
}
