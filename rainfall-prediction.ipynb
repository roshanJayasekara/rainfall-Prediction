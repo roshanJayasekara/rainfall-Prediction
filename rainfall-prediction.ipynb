{
 "cells": [
  {
   "cell_type": "code",
   "execution_count": 1,
   "id": "e919fc4f",
   "metadata": {
    "execution": {
     "iopub.execute_input": "2025-03-07T09:45:52.419997Z",
     "iopub.status.busy": "2025-03-07T09:45:52.419611Z",
     "iopub.status.idle": "2025-03-07T09:45:53.404151Z",
     "shell.execute_reply": "2025-03-07T09:45:53.403015Z"
    },
    "papermill": {
     "duration": 0.995481,
     "end_time": "2025-03-07T09:45:53.406792",
     "exception": false,
     "start_time": "2025-03-07T09:45:52.411311",
     "status": "completed"
    },
    "tags": []
   },
   "outputs": [],
   "source": [
    "import pandas as pd\n",
    "import numpy as np\n",
    "import matplotlib.pyplot as plt"
   ]
  },
  {
   "cell_type": "code",
   "execution_count": 2,
   "id": "3e611d6e",
   "metadata": {
    "execution": {
     "iopub.execute_input": "2025-03-07T09:45:53.422353Z",
     "iopub.status.busy": "2025-03-07T09:45:53.421814Z",
     "iopub.status.idle": "2025-03-07T09:45:53.462505Z",
     "shell.execute_reply": "2025-03-07T09:45:53.461192Z"
    },
    "papermill": {
     "duration": 0.051662,
     "end_time": "2025-03-07T09:45:53.465415",
     "exception": false,
     "start_time": "2025-03-07T09:45:53.413753",
     "status": "completed"
    },
    "tags": []
   },
   "outputs": [],
   "source": [
    "df_train = pd.read_csv(\"/kaggle/input/playground-series-s5e3/train.csv\")\n",
    "df_test = pd.read_csv(\"/kaggle/input/playground-series-s5e3/test.csv\")\n",
    "df_submission = pd.read_csv(\"/kaggle/input/playground-series-s5e3/sample_submission.csv\")"
   ]
  },
  {
   "cell_type": "code",
   "execution_count": 3,
   "id": "b95e43e5",
   "metadata": {
    "execution": {
     "iopub.execute_input": "2025-03-07T09:45:53.480267Z",
     "iopub.status.busy": "2025-03-07T09:45:53.479882Z",
     "iopub.status.idle": "2025-03-07T09:45:53.511589Z",
     "shell.execute_reply": "2025-03-07T09:45:53.510203Z"
    },
    "papermill": {
     "duration": 0.042373,
     "end_time": "2025-03-07T09:45:53.514229",
     "exception": false,
     "start_time": "2025-03-07T09:45:53.471856",
     "status": "completed"
    },
    "tags": []
   },
   "outputs": [
    {
     "data": {
      "text/html": [
       "<div>\n",
       "<style scoped>\n",
       "    .dataframe tbody tr th:only-of-type {\n",
       "        vertical-align: middle;\n",
       "    }\n",
       "\n",
       "    .dataframe tbody tr th {\n",
       "        vertical-align: top;\n",
       "    }\n",
       "\n",
       "    .dataframe thead th {\n",
       "        text-align: right;\n",
       "    }\n",
       "</style>\n",
       "<table border=\"1\" class=\"dataframe\">\n",
       "  <thead>\n",
       "    <tr style=\"text-align: right;\">\n",
       "      <th></th>\n",
       "      <th>id</th>\n",
       "      <th>day</th>\n",
       "      <th>pressure</th>\n",
       "      <th>maxtemp</th>\n",
       "      <th>temparature</th>\n",
       "      <th>mintemp</th>\n",
       "      <th>dewpoint</th>\n",
       "      <th>humidity</th>\n",
       "      <th>cloud</th>\n",
       "      <th>sunshine</th>\n",
       "      <th>winddirection</th>\n",
       "      <th>windspeed</th>\n",
       "      <th>rainfall</th>\n",
       "    </tr>\n",
       "  </thead>\n",
       "  <tbody>\n",
       "    <tr>\n",
       "      <th>0</th>\n",
       "      <td>0</td>\n",
       "      <td>1</td>\n",
       "      <td>1017.4</td>\n",
       "      <td>21.2</td>\n",
       "      <td>20.6</td>\n",
       "      <td>19.9</td>\n",
       "      <td>19.4</td>\n",
       "      <td>87.0</td>\n",
       "      <td>88.0</td>\n",
       "      <td>1.1</td>\n",
       "      <td>60.0</td>\n",
       "      <td>17.2</td>\n",
       "      <td>1</td>\n",
       "    </tr>\n",
       "    <tr>\n",
       "      <th>1</th>\n",
       "      <td>1</td>\n",
       "      <td>2</td>\n",
       "      <td>1019.5</td>\n",
       "      <td>16.2</td>\n",
       "      <td>16.9</td>\n",
       "      <td>15.8</td>\n",
       "      <td>15.4</td>\n",
       "      <td>95.0</td>\n",
       "      <td>91.0</td>\n",
       "      <td>0.0</td>\n",
       "      <td>50.0</td>\n",
       "      <td>21.9</td>\n",
       "      <td>1</td>\n",
       "    </tr>\n",
       "    <tr>\n",
       "      <th>2</th>\n",
       "      <td>2</td>\n",
       "      <td>3</td>\n",
       "      <td>1024.1</td>\n",
       "      <td>19.4</td>\n",
       "      <td>16.1</td>\n",
       "      <td>14.6</td>\n",
       "      <td>9.3</td>\n",
       "      <td>75.0</td>\n",
       "      <td>47.0</td>\n",
       "      <td>8.3</td>\n",
       "      <td>70.0</td>\n",
       "      <td>18.1</td>\n",
       "      <td>1</td>\n",
       "    </tr>\n",
       "    <tr>\n",
       "      <th>3</th>\n",
       "      <td>3</td>\n",
       "      <td>4</td>\n",
       "      <td>1013.4</td>\n",
       "      <td>18.1</td>\n",
       "      <td>17.8</td>\n",
       "      <td>16.9</td>\n",
       "      <td>16.8</td>\n",
       "      <td>95.0</td>\n",
       "      <td>95.0</td>\n",
       "      <td>0.0</td>\n",
       "      <td>60.0</td>\n",
       "      <td>35.6</td>\n",
       "      <td>1</td>\n",
       "    </tr>\n",
       "    <tr>\n",
       "      <th>4</th>\n",
       "      <td>4</td>\n",
       "      <td>5</td>\n",
       "      <td>1021.8</td>\n",
       "      <td>21.3</td>\n",
       "      <td>18.4</td>\n",
       "      <td>15.2</td>\n",
       "      <td>9.6</td>\n",
       "      <td>52.0</td>\n",
       "      <td>45.0</td>\n",
       "      <td>3.6</td>\n",
       "      <td>40.0</td>\n",
       "      <td>24.8</td>\n",
       "      <td>0</td>\n",
       "    </tr>\n",
       "  </tbody>\n",
       "</table>\n",
       "</div>"
      ],
      "text/plain": [
       "   id  day  pressure  maxtemp  temparature  mintemp  dewpoint  humidity  \\\n",
       "0   0    1    1017.4     21.2         20.6     19.9      19.4      87.0   \n",
       "1   1    2    1019.5     16.2         16.9     15.8      15.4      95.0   \n",
       "2   2    3    1024.1     19.4         16.1     14.6       9.3      75.0   \n",
       "3   3    4    1013.4     18.1         17.8     16.9      16.8      95.0   \n",
       "4   4    5    1021.8     21.3         18.4     15.2       9.6      52.0   \n",
       "\n",
       "   cloud  sunshine  winddirection  windspeed  rainfall  \n",
       "0   88.0       1.1           60.0       17.2         1  \n",
       "1   91.0       0.0           50.0       21.9         1  \n",
       "2   47.0       8.3           70.0       18.1         1  \n",
       "3   95.0       0.0           60.0       35.6         1  \n",
       "4   45.0       3.6           40.0       24.8         0  "
      ]
     },
     "execution_count": 3,
     "metadata": {},
     "output_type": "execute_result"
    }
   ],
   "source": [
    "df_train.head()"
   ]
  },
  {
   "cell_type": "code",
   "execution_count": 4,
   "id": "e5384e54",
   "metadata": {
    "execution": {
     "iopub.execute_input": "2025-03-07T09:45:53.529960Z",
     "iopub.status.busy": "2025-03-07T09:45:53.529457Z",
     "iopub.status.idle": "2025-03-07T09:45:53.549183Z",
     "shell.execute_reply": "2025-03-07T09:45:53.547984Z"
    },
    "papermill": {
     "duration": 0.029994,
     "end_time": "2025-03-07T09:45:53.551405",
     "exception": false,
     "start_time": "2025-03-07T09:45:53.521411",
     "status": "completed"
    },
    "tags": []
   },
   "outputs": [
    {
     "data": {
      "text/html": [
       "<div>\n",
       "<style scoped>\n",
       "    .dataframe tbody tr th:only-of-type {\n",
       "        vertical-align: middle;\n",
       "    }\n",
       "\n",
       "    .dataframe tbody tr th {\n",
       "        vertical-align: top;\n",
       "    }\n",
       "\n",
       "    .dataframe thead th {\n",
       "        text-align: right;\n",
       "    }\n",
       "</style>\n",
       "<table border=\"1\" class=\"dataframe\">\n",
       "  <thead>\n",
       "    <tr style=\"text-align: right;\">\n",
       "      <th></th>\n",
       "      <th>id</th>\n",
       "      <th>day</th>\n",
       "      <th>pressure</th>\n",
       "      <th>maxtemp</th>\n",
       "      <th>temparature</th>\n",
       "      <th>mintemp</th>\n",
       "      <th>dewpoint</th>\n",
       "      <th>humidity</th>\n",
       "      <th>cloud</th>\n",
       "      <th>sunshine</th>\n",
       "      <th>winddirection</th>\n",
       "      <th>windspeed</th>\n",
       "    </tr>\n",
       "  </thead>\n",
       "  <tbody>\n",
       "    <tr>\n",
       "      <th>0</th>\n",
       "      <td>2190</td>\n",
       "      <td>1</td>\n",
       "      <td>1019.5</td>\n",
       "      <td>17.5</td>\n",
       "      <td>15.8</td>\n",
       "      <td>12.7</td>\n",
       "      <td>14.9</td>\n",
       "      <td>96.0</td>\n",
       "      <td>99.0</td>\n",
       "      <td>0.0</td>\n",
       "      <td>50.0</td>\n",
       "      <td>24.3</td>\n",
       "    </tr>\n",
       "    <tr>\n",
       "      <th>1</th>\n",
       "      <td>2191</td>\n",
       "      <td>2</td>\n",
       "      <td>1016.5</td>\n",
       "      <td>17.5</td>\n",
       "      <td>16.5</td>\n",
       "      <td>15.8</td>\n",
       "      <td>15.1</td>\n",
       "      <td>97.0</td>\n",
       "      <td>99.0</td>\n",
       "      <td>0.0</td>\n",
       "      <td>50.0</td>\n",
       "      <td>35.3</td>\n",
       "    </tr>\n",
       "    <tr>\n",
       "      <th>2</th>\n",
       "      <td>2192</td>\n",
       "      <td>3</td>\n",
       "      <td>1023.9</td>\n",
       "      <td>11.2</td>\n",
       "      <td>10.4</td>\n",
       "      <td>9.4</td>\n",
       "      <td>8.9</td>\n",
       "      <td>86.0</td>\n",
       "      <td>96.0</td>\n",
       "      <td>0.0</td>\n",
       "      <td>40.0</td>\n",
       "      <td>16.9</td>\n",
       "    </tr>\n",
       "    <tr>\n",
       "      <th>3</th>\n",
       "      <td>2193</td>\n",
       "      <td>4</td>\n",
       "      <td>1022.9</td>\n",
       "      <td>20.6</td>\n",
       "      <td>17.3</td>\n",
       "      <td>15.2</td>\n",
       "      <td>9.5</td>\n",
       "      <td>75.0</td>\n",
       "      <td>45.0</td>\n",
       "      <td>7.1</td>\n",
       "      <td>20.0</td>\n",
       "      <td>50.6</td>\n",
       "    </tr>\n",
       "    <tr>\n",
       "      <th>4</th>\n",
       "      <td>2194</td>\n",
       "      <td>5</td>\n",
       "      <td>1022.2</td>\n",
       "      <td>16.1</td>\n",
       "      <td>13.8</td>\n",
       "      <td>6.4</td>\n",
       "      <td>4.3</td>\n",
       "      <td>68.0</td>\n",
       "      <td>49.0</td>\n",
       "      <td>9.2</td>\n",
       "      <td>20.0</td>\n",
       "      <td>19.4</td>\n",
       "    </tr>\n",
       "  </tbody>\n",
       "</table>\n",
       "</div>"
      ],
      "text/plain": [
       "     id  day  pressure  maxtemp  temparature  mintemp  dewpoint  humidity  \\\n",
       "0  2190    1    1019.5     17.5         15.8     12.7      14.9      96.0   \n",
       "1  2191    2    1016.5     17.5         16.5     15.8      15.1      97.0   \n",
       "2  2192    3    1023.9     11.2         10.4      9.4       8.9      86.0   \n",
       "3  2193    4    1022.9     20.6         17.3     15.2       9.5      75.0   \n",
       "4  2194    5    1022.2     16.1         13.8      6.4       4.3      68.0   \n",
       "\n",
       "   cloud  sunshine  winddirection  windspeed  \n",
       "0   99.0       0.0           50.0       24.3  \n",
       "1   99.0       0.0           50.0       35.3  \n",
       "2   96.0       0.0           40.0       16.9  \n",
       "3   45.0       7.1           20.0       50.6  \n",
       "4   49.0       9.2           20.0       19.4  "
      ]
     },
     "execution_count": 4,
     "metadata": {},
     "output_type": "execute_result"
    }
   ],
   "source": [
    "df_test.head()"
   ]
  },
  {
   "cell_type": "code",
   "execution_count": 5,
   "id": "77372933",
   "metadata": {
    "execution": {
     "iopub.execute_input": "2025-03-07T09:45:53.567293Z",
     "iopub.status.busy": "2025-03-07T09:45:53.566932Z",
     "iopub.status.idle": "2025-03-07T09:45:53.577299Z",
     "shell.execute_reply": "2025-03-07T09:45:53.575727Z"
    },
    "papermill": {
     "duration": 0.021614,
     "end_time": "2025-03-07T09:45:53.579952",
     "exception": false,
     "start_time": "2025-03-07T09:45:53.558338",
     "status": "completed"
    },
    "tags": []
   },
   "outputs": [
    {
     "data": {
      "text/html": [
       "<div>\n",
       "<style scoped>\n",
       "    .dataframe tbody tr th:only-of-type {\n",
       "        vertical-align: middle;\n",
       "    }\n",
       "\n",
       "    .dataframe tbody tr th {\n",
       "        vertical-align: top;\n",
       "    }\n",
       "\n",
       "    .dataframe thead th {\n",
       "        text-align: right;\n",
       "    }\n",
       "</style>\n",
       "<table border=\"1\" class=\"dataframe\">\n",
       "  <thead>\n",
       "    <tr style=\"text-align: right;\">\n",
       "      <th></th>\n",
       "      <th>id</th>\n",
       "      <th>rainfall</th>\n",
       "    </tr>\n",
       "  </thead>\n",
       "  <tbody>\n",
       "    <tr>\n",
       "      <th>0</th>\n",
       "      <td>2190</td>\n",
       "      <td>0</td>\n",
       "    </tr>\n",
       "    <tr>\n",
       "      <th>1</th>\n",
       "      <td>2191</td>\n",
       "      <td>0</td>\n",
       "    </tr>\n",
       "    <tr>\n",
       "      <th>2</th>\n",
       "      <td>2192</td>\n",
       "      <td>0</td>\n",
       "    </tr>\n",
       "    <tr>\n",
       "      <th>3</th>\n",
       "      <td>2193</td>\n",
       "      <td>0</td>\n",
       "    </tr>\n",
       "    <tr>\n",
       "      <th>4</th>\n",
       "      <td>2194</td>\n",
       "      <td>0</td>\n",
       "    </tr>\n",
       "  </tbody>\n",
       "</table>\n",
       "</div>"
      ],
      "text/plain": [
       "     id  rainfall\n",
       "0  2190         0\n",
       "1  2191         0\n",
       "2  2192         0\n",
       "3  2193         0\n",
       "4  2194         0"
      ]
     },
     "execution_count": 5,
     "metadata": {},
     "output_type": "execute_result"
    }
   ],
   "source": [
    "df_submission.head()"
   ]
  },
  {
   "cell_type": "code",
   "execution_count": 6,
   "id": "f2992c15",
   "metadata": {
    "execution": {
     "iopub.execute_input": "2025-03-07T09:45:53.595509Z",
     "iopub.status.busy": "2025-03-07T09:45:53.595105Z",
     "iopub.status.idle": "2025-03-07T09:45:53.619404Z",
     "shell.execute_reply": "2025-03-07T09:45:53.618204Z"
    },
    "papermill": {
     "duration": 0.034759,
     "end_time": "2025-03-07T09:45:53.621798",
     "exception": false,
     "start_time": "2025-03-07T09:45:53.587039",
     "status": "completed"
    },
    "tags": []
   },
   "outputs": [
    {
     "name": "stdout",
     "output_type": "stream",
     "text": [
      "<class 'pandas.core.frame.DataFrame'>\n",
      "RangeIndex: 2190 entries, 0 to 2189\n",
      "Data columns (total 13 columns):\n",
      " #   Column         Non-Null Count  Dtype  \n",
      "---  ------         --------------  -----  \n",
      " 0   id             2190 non-null   int64  \n",
      " 1   day            2190 non-null   int64  \n",
      " 2   pressure       2190 non-null   float64\n",
      " 3   maxtemp        2190 non-null   float64\n",
      " 4   temparature    2190 non-null   float64\n",
      " 5   mintemp        2190 non-null   float64\n",
      " 6   dewpoint       2190 non-null   float64\n",
      " 7   humidity       2190 non-null   float64\n",
      " 8   cloud          2190 non-null   float64\n",
      " 9   sunshine       2190 non-null   float64\n",
      " 10  winddirection  2190 non-null   float64\n",
      " 11  windspeed      2190 non-null   float64\n",
      " 12  rainfall       2190 non-null   int64  \n",
      "dtypes: float64(10), int64(3)\n",
      "memory usage: 222.5 KB\n"
     ]
    }
   ],
   "source": [
    "df_train.info()"
   ]
  },
  {
   "cell_type": "code",
   "execution_count": 7,
   "id": "de52e31d",
   "metadata": {
    "execution": {
     "iopub.execute_input": "2025-03-07T09:45:53.637601Z",
     "iopub.status.busy": "2025-03-07T09:45:53.637265Z",
     "iopub.status.idle": "2025-03-07T09:45:53.656722Z",
     "shell.execute_reply": "2025-03-07T09:45:53.655379Z"
    },
    "papermill": {
     "duration": 0.030418,
     "end_time": "2025-03-07T09:45:53.659491",
     "exception": false,
     "start_time": "2025-03-07T09:45:53.629073",
     "status": "completed"
    },
    "tags": []
   },
   "outputs": [
    {
     "data": {
      "text/html": [
       "<div>\n",
       "<style scoped>\n",
       "    .dataframe tbody tr th:only-of-type {\n",
       "        vertical-align: middle;\n",
       "    }\n",
       "\n",
       "    .dataframe tbody tr th {\n",
       "        vertical-align: top;\n",
       "    }\n",
       "\n",
       "    .dataframe thead th {\n",
       "        text-align: right;\n",
       "    }\n",
       "</style>\n",
       "<table border=\"1\" class=\"dataframe\">\n",
       "  <thead>\n",
       "    <tr style=\"text-align: right;\">\n",
       "      <th></th>\n",
       "      <th>id</th>\n",
       "      <th>day</th>\n",
       "      <th>pressure</th>\n",
       "      <th>maxtemp</th>\n",
       "      <th>temparature</th>\n",
       "      <th>mintemp</th>\n",
       "      <th>dewpoint</th>\n",
       "      <th>humidity</th>\n",
       "      <th>cloud</th>\n",
       "      <th>sunshine</th>\n",
       "      <th>winddirection</th>\n",
       "      <th>windspeed</th>\n",
       "      <th>rainfall</th>\n",
       "    </tr>\n",
       "  </thead>\n",
       "  <tbody>\n",
       "    <tr>\n",
       "      <th>0</th>\n",
       "      <td>0</td>\n",
       "      <td>1</td>\n",
       "      <td>1017.4</td>\n",
       "      <td>21.2</td>\n",
       "      <td>20.6</td>\n",
       "      <td>19.9</td>\n",
       "      <td>19.4</td>\n",
       "      <td>87.0</td>\n",
       "      <td>88.0</td>\n",
       "      <td>1.1</td>\n",
       "      <td>60.0</td>\n",
       "      <td>17.2</td>\n",
       "      <td>1</td>\n",
       "    </tr>\n",
       "  </tbody>\n",
       "</table>\n",
       "</div>"
      ],
      "text/plain": [
       "   id  day  pressure  maxtemp  temparature  mintemp  dewpoint  humidity  \\\n",
       "0   0    1    1017.4     21.2         20.6     19.9      19.4      87.0   \n",
       "\n",
       "   cloud  sunshine  winddirection  windspeed  rainfall  \n",
       "0   88.0       1.1           60.0       17.2         1  "
      ]
     },
     "execution_count": 7,
     "metadata": {},
     "output_type": "execute_result"
    }
   ],
   "source": [
    "df_train[df_train[\"id\"]==0]"
   ]
  },
  {
   "cell_type": "code",
   "execution_count": 8,
   "id": "e7304eb8",
   "metadata": {
    "execution": {
     "iopub.execute_input": "2025-03-07T09:45:53.679329Z",
     "iopub.status.busy": "2025-03-07T09:45:53.678954Z",
     "iopub.status.idle": "2025-03-07T09:45:53.687976Z",
     "shell.execute_reply": "2025-03-07T09:45:53.686828Z"
    },
    "papermill": {
     "duration": 0.020384,
     "end_time": "2025-03-07T09:45:53.690001",
     "exception": false,
     "start_time": "2025-03-07T09:45:53.669617",
     "status": "completed"
    },
    "tags": []
   },
   "outputs": [
    {
     "data": {
      "text/plain": [
       "id               0\n",
       "day              0\n",
       "pressure         0\n",
       "maxtemp          0\n",
       "temparature      0\n",
       "mintemp          0\n",
       "dewpoint         0\n",
       "humidity         0\n",
       "cloud            0\n",
       "sunshine         0\n",
       "winddirection    0\n",
       "windspeed        0\n",
       "rainfall         0\n",
       "dtype: int64"
      ]
     },
     "execution_count": 8,
     "metadata": {},
     "output_type": "execute_result"
    }
   ],
   "source": [
    "df_train.isnull().sum()"
   ]
  },
  {
   "cell_type": "code",
   "execution_count": 9,
   "id": "36e5190f",
   "metadata": {
    "execution": {
     "iopub.execute_input": "2025-03-07T09:45:53.706668Z",
     "iopub.status.busy": "2025-03-07T09:45:53.706018Z",
     "iopub.status.idle": "2025-03-07T09:45:53.989922Z",
     "shell.execute_reply": "2025-03-07T09:45:53.988696Z"
    },
    "papermill": {
     "duration": 0.295021,
     "end_time": "2025-03-07T09:45:53.992361",
     "exception": false,
     "start_time": "2025-03-07T09:45:53.697340",
     "status": "completed"
    },
    "tags": []
   },
   "outputs": [
    {
     "data": {
      "text/plain": [
       "<Axes: xlabel='rainfall'>"
      ]
     },
     "execution_count": 9,
     "metadata": {},
     "output_type": "execute_result"
    },
    {
     "data": {
      "image/png": "[encoded data removed]",
      "text/plain": [
       "<Figure size 640x480 with 1 Axes>"
      ]
     },
     "metadata": {},
     "output_type": "display_data"
    }
   ],
   "source": [
    "df_train[\"rainfall\"].value_counts().plot(kind=\"bar\")"
   ]
  },
  {
   "cell_type": "code",
   "execution_count": 10,
   "id": "82586fcb",
   "metadata": {
    "execution": {
     "iopub.execute_input": "2025-03-07T09:45:54.010681Z",
     "iopub.status.busy": "2025-03-07T09:45:54.010317Z",
     "iopub.status.idle": "2025-03-07T09:45:54.366487Z",
     "shell.execute_reply": "2025-03-07T09:45:54.365237Z"
    },
    "papermill": {
     "duration": 0.369055,
     "end_time": "2025-03-07T09:45:54.369815",
     "exception": false,
     "start_time": "2025-03-07T09:45:54.000760",
     "status": "completed"
    },
    "tags": []
   },
   "outputs": [
    {
     "data": {
      "text/plain": [
       "<Axes: ylabel='Frequency'>"
      ]
     },
     "execution_count": 10,
     "metadata": {},
     "output_type": "execute_result"
    },
    {
     "data": {
      "image/png": "[encoded data removed]",
      "text/plain": [
       "<Figure size 640x480 with 1 Axes>"
      ]
     },
     "metadata": {},
     "output_type": "display_data"
    }
   ],
   "source": [
    "df_train[\"day\"].value_counts().plot(kind=\"hist\")"
   ]
  },
  {
   "cell_type": "code",
   "execution_count": 11,
   "id": "1704b04a",
   "metadata": {
    "execution": {
     "iopub.execute_input": "2025-03-07T09:45:54.397318Z",
     "iopub.status.busy": "2025-03-07T09:45:54.396846Z",
     "iopub.status.idle": "2025-03-07T09:45:54.404620Z",
     "shell.execute_reply": "2025-03-07T09:45:54.402798Z"
    },
    "papermill": {
     "duration": 0.022636,
     "end_time": "2025-03-07T09:45:54.407789",
     "exception": false,
     "start_time": "2025-03-07T09:45:54.385153",
     "status": "completed"
    },
    "tags": []
   },
   "outputs": [],
   "source": [
    "df_train_2= df_train.drop(columns=[\"id\"])"
   ]
  },
  {
   "cell_type": "code",
   "execution_count": 12,
   "id": "186d6e1e",
   "metadata": {
    "execution": {
     "iopub.execute_input": "2025-03-07T09:45:54.430395Z",
     "iopub.status.busy": "2025-03-07T09:45:54.429911Z",
     "iopub.status.idle": "2025-03-07T09:45:54.438215Z",
     "shell.execute_reply": "2025-03-07T09:45:54.436998Z"
    },
    "papermill": {
     "duration": 0.020058,
     "end_time": "2025-03-07T09:45:54.440462",
     "exception": false,
     "start_time": "2025-03-07T09:45:54.420404",
     "status": "completed"
    },
    "tags": []
   },
   "outputs": [
    {
     "data": {
      "text/plain": [
       "Index(['day', 'pressure', 'maxtemp', 'temparature', 'mintemp', 'dewpoint',\n",
       "       'humidity', 'cloud', 'sunshine', 'winddirection', 'windspeed',\n",
       "       'rainfall'],\n",
       "      dtype='object')"
      ]
     },
     "execution_count": 12,
     "metadata": {},
     "output_type": "execute_result"
    }
   ],
   "source": [
    "df_train_2.columns"
   ]
  },
  {
   "cell_type": "code",
   "execution_count": 13,
   "id": "42e35157",
   "metadata": {
    "execution": {
     "iopub.execute_input": "2025-03-07T09:45:54.459230Z",
     "iopub.status.busy": "2025-03-07T09:45:54.458737Z",
     "iopub.status.idle": "2025-03-07T09:45:56.475921Z",
     "shell.execute_reply": "2025-03-07T09:45:56.474683Z"
    },
    "papermill": {
     "duration": 2.029703,
     "end_time": "2025-03-07T09:45:56.478478",
     "exception": false,
     "start_time": "2025-03-07T09:45:54.448775",
     "status": "completed"
    },
    "tags": []
   },
   "outputs": [],
   "source": [
    "from imblearn.over_sampling import SMOTE\n",
    "\n",
    "\n",
    "\n",
    "X = df_train_2.drop('rainfall', axis=1)\n",
    "y = df_train_2['rainfall']\n",
    "\n",
    "smote = SMOTE(random_state=42)\n",
    "X_resampled, y_resampled = smote.fit_resample(X, y)"
   ]
  },
  {
   "cell_type": "code",
   "execution_count": 14,
   "id": "438cfe84",
   "metadata": {
    "execution": {
     "iopub.execute_input": "2025-03-07T09:45:56.497964Z",
     "iopub.status.busy": "2025-03-07T09:45:56.497432Z",
     "iopub.status.idle": "2025-03-07T09:45:56.503971Z",
     "shell.execute_reply": "2025-03-07T09:45:56.502701Z"
    },
    "papermill": {
     "duration": 0.019128,
     "end_time": "2025-03-07T09:45:56.506161",
     "exception": false,
     "start_time": "2025-03-07T09:45:56.487033",
     "status": "completed"
    },
    "tags": []
   },
   "outputs": [
    {
     "name": "stdout",
     "output_type": "stream",
     "text": [
      "(2190, 11)\n",
      "(2190,)\n",
      "(3300, 11)\n",
      "(3300,)\n"
     ]
    }
   ],
   "source": [
    "print(X.shape)\n",
    "print(y.shape)\n",
    "print(X_resampled.shape)\n",
    "print(y_resampled.shape)"
   ]
  },
  {
   "cell_type": "code",
   "execution_count": 15,
   "id": "ce7d6dcd",
   "metadata": {
    "execution": {
     "iopub.execute_input": "2025-03-07T09:45:56.524699Z",
     "iopub.status.busy": "2025-03-07T09:45:56.524307Z",
     "iopub.status.idle": "2025-03-07T09:45:57.218278Z",
     "shell.execute_reply": "2025-03-07T09:45:57.217180Z"
    },
    "papermill": {
     "duration": 0.705931,
     "end_time": "2025-03-07T09:45:57.220750",
     "exception": false,
     "start_time": "2025-03-07T09:45:56.514819",
     "status": "completed"
    },
    "tags": []
   },
   "outputs": [
    {
     "name": "stdout",
     "output_type": "stream",
     "text": [
      "              precision    recall  f1-score   support\n",
      "\n",
      "           0       0.91      0.92      0.92       328\n",
      "           1       0.92      0.91      0.91       332\n",
      "\n",
      "    accuracy                           0.92       660\n",
      "   macro avg       0.92      0.92      0.92       660\n",
      "weighted avg       0.92      0.92      0.92       660\n",
      "\n"
     ]
    }
   ],
   "source": [
    "from sklearn.model_selection import train_test_split\n",
    "from sklearn.metrics import classification_report\n",
    "\n",
    "X_train, X_test, y_train, y_test = train_test_split(X_resampled, y_resampled, test_size=0.2, random_state=42)\n",
    "\n",
    "# Train your model (e.g., a Random Forest classifier)\n",
    "from sklearn.ensemble import RandomForestClassifier\n",
    "\n",
    "clf = RandomForestClassifier(random_state=42)\n",
    "clf.fit(X_train, y_train)\n",
    "\n",
    "# Evaluate the model\n",
    "y_pred = clf.predict(X_test)\n",
    "print(classification_report(y_test, y_pred))"
   ]
  },
  {
   "cell_type": "code",
   "execution_count": 16,
   "id": "7f800f4a",
   "metadata": {
    "execution": {
     "iopub.execute_input": "2025-03-07T09:45:57.239180Z",
     "iopub.status.busy": "2025-03-07T09:45:57.238709Z",
     "iopub.status.idle": "2025-03-07T09:45:57.748683Z",
     "shell.execute_reply": "2025-03-07T09:45:57.747493Z"
    },
    "papermill": {
     "duration": 0.521686,
     "end_time": "2025-03-07T09:45:57.751003",
     "exception": false,
     "start_time": "2025-03-07T09:45:57.229317",
     "status": "completed"
    },
    "tags": []
   },
   "outputs": [
    {
     "data": {
      "image/png": "[encoded data removed]",
      "text/plain": [
       "<Figure size 640x480 with 2 Axes>"
      ]
     },
     "metadata": {},
     "output_type": "display_data"
    }
   ],
   "source": [
    "from sklearn.metrics import confusion_matrix\n",
    "import seaborn as sns\n",
    "\n",
    "\n",
    "cm = confusion_matrix(y_test,y_pred)\n",
    "\n",
    "#Plot the confusion matrix.\n",
    "\n",
    "sns.heatmap(cm,\n",
    "            annot=True,\n",
    "            fmt='g',\n",
    "            # xticklabels=['Dog','Not Dog'],\n",
    "            # yticklabels=['Dog','Not Dog']\n",
    "           )\n",
    "plt.ylabel('Prediction',fontsize=13)\n",
    "plt.xlabel('Actual',fontsize=13)\n",
    "plt.title('Confusion Matrix',fontsize=17)\n",
    "plt.show()"
   ]
  },
  {
   "cell_type": "code",
   "execution_count": 17,
   "id": "97dc2ae8",
   "metadata": {
    "execution": {
     "iopub.execute_input": "2025-03-07T09:45:57.769943Z",
     "iopub.status.busy": "2025-03-07T09:45:57.769560Z",
     "iopub.status.idle": "2025-03-07T09:45:57.787661Z",
     "shell.execute_reply": "2025-03-07T09:45:57.786617Z"
    },
    "papermill": {
     "duration": 0.030412,
     "end_time": "2025-03-07T09:45:57.790044",
     "exception": false,
     "start_time": "2025-03-07T09:45:57.759632",
     "status": "completed"
    },
    "tags": []
   },
   "outputs": [
    {
     "data": {
      "text/html": [
       "<div>\n",
       "<style scoped>\n",
       "    .dataframe tbody tr th:only-of-type {\n",
       "        vertical-align: middle;\n",
       "    }\n",
       "\n",
       "    .dataframe tbody tr th {\n",
       "        vertical-align: top;\n",
       "    }\n",
       "\n",
       "    .dataframe thead th {\n",
       "        text-align: right;\n",
       "    }\n",
       "</style>\n",
       "<table border=\"1\" class=\"dataframe\">\n",
       "  <thead>\n",
       "    <tr style=\"text-align: right;\">\n",
       "      <th></th>\n",
       "      <th>id</th>\n",
       "      <th>day</th>\n",
       "      <th>pressure</th>\n",
       "      <th>maxtemp</th>\n",
       "      <th>temparature</th>\n",
       "      <th>mintemp</th>\n",
       "      <th>dewpoint</th>\n",
       "      <th>humidity</th>\n",
       "      <th>cloud</th>\n",
       "      <th>sunshine</th>\n",
       "      <th>winddirection</th>\n",
       "      <th>windspeed</th>\n",
       "    </tr>\n",
       "  </thead>\n",
       "  <tbody>\n",
       "    <tr>\n",
       "      <th>0</th>\n",
       "      <td>2190</td>\n",
       "      <td>1</td>\n",
       "      <td>1019.5</td>\n",
       "      <td>17.5</td>\n",
       "      <td>15.8</td>\n",
       "      <td>12.7</td>\n",
       "      <td>14.9</td>\n",
       "      <td>96.0</td>\n",
       "      <td>99.0</td>\n",
       "      <td>0.0</td>\n",
       "      <td>50.0</td>\n",
       "      <td>24.3</td>\n",
       "    </tr>\n",
       "    <tr>\n",
       "      <th>1</th>\n",
       "      <td>2191</td>\n",
       "      <td>2</td>\n",
       "      <td>1016.5</td>\n",
       "      <td>17.5</td>\n",
       "      <td>16.5</td>\n",
       "      <td>15.8</td>\n",
       "      <td>15.1</td>\n",
       "      <td>97.0</td>\n",
       "      <td>99.0</td>\n",
       "      <td>0.0</td>\n",
       "      <td>50.0</td>\n",
       "      <td>35.3</td>\n",
       "    </tr>\n",
       "    <tr>\n",
       "      <th>2</th>\n",
       "      <td>2192</td>\n",
       "      <td>3</td>\n",
       "      <td>1023.9</td>\n",
       "      <td>11.2</td>\n",
       "      <td>10.4</td>\n",
       "      <td>9.4</td>\n",
       "      <td>8.9</td>\n",
       "      <td>86.0</td>\n",
       "      <td>96.0</td>\n",
       "      <td>0.0</td>\n",
       "      <td>40.0</td>\n",
       "      <td>16.9</td>\n",
       "    </tr>\n",
       "    <tr>\n",
       "      <th>3</th>\n",
       "      <td>2193</td>\n",
       "      <td>4</td>\n",
       "      <td>1022.9</td>\n",
       "      <td>20.6</td>\n",
       "      <td>17.3</td>\n",
       "      <td>15.2</td>\n",
       "      <td>9.5</td>\n",
       "      <td>75.0</td>\n",
       "      <td>45.0</td>\n",
       "      <td>7.1</td>\n",
       "      <td>20.0</td>\n",
       "      <td>50.6</td>\n",
       "    </tr>\n",
       "    <tr>\n",
       "      <th>4</th>\n",
       "      <td>2194</td>\n",
       "      <td>5</td>\n",
       "      <td>1022.2</td>\n",
       "      <td>16.1</td>\n",
       "      <td>13.8</td>\n",
       "      <td>6.4</td>\n",
       "      <td>4.3</td>\n",
       "      <td>68.0</td>\n",
       "      <td>49.0</td>\n",
       "      <td>9.2</td>\n",
       "      <td>20.0</td>\n",
       "      <td>19.4</td>\n",
       "    </tr>\n",
       "  </tbody>\n",
       "</table>\n",
       "</div>"
      ],
      "text/plain": [
       "     id  day  pressure  maxtemp  temparature  mintemp  dewpoint  humidity  \\\n",
       "0  2190    1    1019.5     17.5         15.8     12.7      14.9      96.0   \n",
       "1  2191    2    1016.5     17.5         16.5     15.8      15.1      97.0   \n",
       "2  2192    3    1023.9     11.2         10.4      9.4       8.9      86.0   \n",
       "3  2193    4    1022.9     20.6         17.3     15.2       9.5      75.0   \n",
       "4  2194    5    1022.2     16.1         13.8      6.4       4.3      68.0   \n",
       "\n",
       "   cloud  sunshine  winddirection  windspeed  \n",
       "0   99.0       0.0           50.0       24.3  \n",
       "1   99.0       0.0           50.0       35.3  \n",
       "2   96.0       0.0           40.0       16.9  \n",
       "3   45.0       7.1           20.0       50.6  \n",
       "4   49.0       9.2           20.0       19.4  "
      ]
     },
     "execution_count": 17,
     "metadata": {},
     "output_type": "execute_result"
    }
   ],
   "source": [
    "df_test.head()"
   ]
  },
  {
   "cell_type": "code",
   "execution_count": 18,
   "id": "b0a0bc7d",
   "metadata": {
    "execution": {
     "iopub.execute_input": "2025-03-07T09:45:57.810460Z",
     "iopub.status.busy": "2025-03-07T09:45:57.809490Z",
     "iopub.status.idle": "2025-03-07T09:45:57.815390Z",
     "shell.execute_reply": "2025-03-07T09:45:57.814315Z"
    },
    "papermill": {
     "duration": 0.017955,
     "end_time": "2025-03-07T09:45:57.817588",
     "exception": false,
     "start_time": "2025-03-07T09:45:57.799633",
     "status": "completed"
    },
    "tags": []
   },
   "outputs": [],
   "source": [
    "df_test_2= df_test.drop(columns=[\"id\"])"
   ]
  },
  {
   "cell_type": "code",
   "execution_count": 19,
   "id": "ed33228b",
   "metadata": {
    "execution": {
     "iopub.execute_input": "2025-03-07T09:45:57.837919Z",
     "iopub.status.busy": "2025-03-07T09:45:57.836846Z",
     "iopub.status.idle": "2025-03-07T09:45:57.845818Z",
     "shell.execute_reply": "2025-03-07T09:45:57.844647Z"
    },
    "papermill": {
     "duration": 0.02167,
     "end_time": "2025-03-07T09:45:57.848192",
     "exception": false,
     "start_time": "2025-03-07T09:45:57.826522",
     "status": "completed"
    },
    "tags": []
   },
   "outputs": [
    {
     "data": {
      "text/plain": [
       "day              0\n",
       "pressure         0\n",
       "maxtemp          0\n",
       "temparature      0\n",
       "mintemp          0\n",
       "dewpoint         0\n",
       "humidity         0\n",
       "cloud            0\n",
       "sunshine         0\n",
       "winddirection    1\n",
       "windspeed        0\n",
       "dtype: int64"
      ]
     },
     "execution_count": 19,
     "metadata": {},
     "output_type": "execute_result"
    }
   ],
   "source": [
    "df_test_2.isna().sum()"
   ]
  },
  {
   "cell_type": "code",
   "execution_count": 20,
   "id": "2e8cba0c",
   "metadata": {
    "execution": {
     "iopub.execute_input": "2025-03-07T09:45:57.867730Z",
     "iopub.status.busy": "2025-03-07T09:45:57.867390Z",
     "iopub.status.idle": "2025-03-07T09:45:57.882905Z",
     "shell.execute_reply": "2025-03-07T09:45:57.881833Z"
    },
    "papermill": {
     "duration": 0.027843,
     "end_time": "2025-03-07T09:45:57.885186",
     "exception": false,
     "start_time": "2025-03-07T09:45:57.857343",
     "status": "completed"
    },
    "tags": []
   },
   "outputs": [
    {
     "data": {
      "text/html": [
       "<div>\n",
       "<style scoped>\n",
       "    .dataframe tbody tr th:only-of-type {\n",
       "        vertical-align: middle;\n",
       "    }\n",
       "\n",
       "    .dataframe tbody tr th {\n",
       "        vertical-align: top;\n",
       "    }\n",
       "\n",
       "    .dataframe thead th {\n",
       "        text-align: right;\n",
       "    }\n",
       "</style>\n",
       "<table border=\"1\" class=\"dataframe\">\n",
       "  <thead>\n",
       "    <tr style=\"text-align: right;\">\n",
       "      <th></th>\n",
       "      <th>day</th>\n",
       "      <th>pressure</th>\n",
       "      <th>maxtemp</th>\n",
       "      <th>temparature</th>\n",
       "      <th>mintemp</th>\n",
       "      <th>dewpoint</th>\n",
       "      <th>humidity</th>\n",
       "      <th>cloud</th>\n",
       "      <th>sunshine</th>\n",
       "      <th>winddirection</th>\n",
       "      <th>windspeed</th>\n",
       "    </tr>\n",
       "  </thead>\n",
       "  <tbody>\n",
       "    <tr>\n",
       "      <th>517</th>\n",
       "      <td>153</td>\n",
       "      <td>1007.8</td>\n",
       "      <td>32.9</td>\n",
       "      <td>30.6</td>\n",
       "      <td>28.9</td>\n",
       "      <td>22.0</td>\n",
       "      <td>65.0</td>\n",
       "      <td>75.0</td>\n",
       "      <td>8.2</td>\n",
       "      <td>NaN</td>\n",
       "      <td>17.2</td>\n",
       "    </tr>\n",
       "  </tbody>\n",
       "</table>\n",
       "</div>"
      ],
      "text/plain": [
       "     day  pressure  maxtemp  temparature  mintemp  dewpoint  humidity  cloud  \\\n",
       "517  153    1007.8     32.9         30.6     28.9      22.0      65.0   75.0   \n",
       "\n",
       "     sunshine  winddirection  windspeed  \n",
       "517       8.2            NaN       17.2  "
      ]
     },
     "execution_count": 20,
     "metadata": {},
     "output_type": "execute_result"
    }
   ],
   "source": [
    "df_test_2[df_test_2[\"winddirection\"].isna()]"
   ]
  },
  {
   "cell_type": "code",
   "execution_count": 21,
   "id": "22520797",
   "metadata": {
    "execution": {
     "iopub.execute_input": "2025-03-07T09:45:57.904808Z",
     "iopub.status.busy": "2025-03-07T09:45:57.904369Z",
     "iopub.status.idle": "2025-03-07T09:45:57.913327Z",
     "shell.execute_reply": "2025-03-07T09:45:57.912208Z"
    },
    "papermill": {
     "duration": 0.021133,
     "end_time": "2025-03-07T09:45:57.915427",
     "exception": false,
     "start_time": "2025-03-07T09:45:57.894294",
     "status": "completed"
    },
    "tags": []
   },
   "outputs": [
    {
     "data": {
      "text/plain": [
       "70.0"
      ]
     },
     "execution_count": 21,
     "metadata": {},
     "output_type": "execute_result"
    }
   ],
   "source": [
    "df_test_2[\"winddirection\"].mode().values[0]"
   ]
  },
  {
   "cell_type": "code",
   "execution_count": 22,
   "id": "cdbe067f",
   "metadata": {
    "execution": {
     "iopub.execute_input": "2025-03-07T09:45:57.935924Z",
     "iopub.status.busy": "2025-03-07T09:45:57.935553Z",
     "iopub.status.idle": "2025-03-07T09:45:57.942207Z",
     "shell.execute_reply": "2025-03-07T09:45:57.941325Z"
    },
    "papermill": {
     "duration": 0.019426,
     "end_time": "2025-03-07T09:45:57.944380",
     "exception": false,
     "start_time": "2025-03-07T09:45:57.924954",
     "status": "completed"
    },
    "tags": []
   },
   "outputs": [],
   "source": [
    "wind_mode= df_test_2[\"winddirection\"].mode().values[0]\n",
    "df_test_2[\"winddirection\"] = df_test_2[\"winddirection\"].fillna(value=wind_mode)"
   ]
  },
  {
   "cell_type": "code",
   "execution_count": 23,
   "id": "f06a8777",
   "metadata": {
    "execution": {
     "iopub.execute_input": "2025-03-07T09:45:57.964797Z",
     "iopub.status.busy": "2025-03-07T09:45:57.964022Z",
     "iopub.status.idle": "2025-03-07T09:45:57.988713Z",
     "shell.execute_reply": "2025-03-07T09:45:57.987548Z"
    },
    "papermill": {
     "duration": 0.037673,
     "end_time": "2025-03-07T09:45:57.991271",
     "exception": false,
     "start_time": "2025-03-07T09:45:57.953598",
     "status": "completed"
    },
    "tags": []
   },
   "outputs": [],
   "source": [
    "df_test_pred = clf.predict(df_test_2)"
   ]
  },
  {
   "cell_type": "code",
   "execution_count": 24,
   "id": "f4e902fb",
   "metadata": {
    "execution": {
     "iopub.execute_input": "2025-03-07T09:45:58.011991Z",
     "iopub.status.busy": "2025-03-07T09:45:58.011649Z",
     "iopub.status.idle": "2025-03-07T09:45:58.020242Z",
     "shell.execute_reply": "2025-03-07T09:45:58.019098Z"
    },
    "papermill": {
     "duration": 0.021551,
     "end_time": "2025-03-07T09:45:58.022391",
     "exception": false,
     "start_time": "2025-03-07T09:45:58.000840",
     "status": "completed"
    },
    "tags": []
   },
   "outputs": [
    {
     "data": {
      "text/plain": [
       "array([1, 1, 1, 0, 0, 1, 1, 1, 1, 1, 1, 0, 1, 1, 0, 0, 1, 1, 0, 0, 0, 0,\n",
       "       1, 1, 1, 0, 0, 1, 1, 0, 1, 1, 1, 1, 1, 1, 0, 1, 1, 1, 1, 1, 0, 1,\n",
       "       1, 0, 0, 1, 0, 1, 1, 1, 1, 1, 1, 1, 1, 1, 1, 1, 1, 1, 1, 1, 0, 0,\n",
       "       0, 1, 1, 0, 1, 1, 1, 1, 1, 1, 1, 1, 0, 1, 1, 1, 0, 1, 1, 1, 1, 1,\n",
       "       1, 1, 1, 1, 1, 1, 1, 1, 1, 1, 1, 1, 1, 1, 0, 1, 1, 1, 1, 1, 1, 1,\n",
       "       1, 0, 1, 1, 1, 1, 1, 1, 1, 1, 0, 1, 1, 0, 1, 0, 1, 1, 1, 1, 1, 1,\n",
       "       1, 1, 1, 1, 1, 1, 1, 1, 1, 1, 0, 1, 1, 1, 1, 0, 1, 0, 1, 1, 1, 0,\n",
       "       1, 1, 1, 1, 1, 1, 1, 1, 0, 0, 0, 0, 1, 1, 1, 0, 1, 0, 1, 1, 1, 1,\n",
       "       1, 1, 1, 1, 1, 1, 0, 1, 0, 0, 0, 1, 1, 1, 1, 1, 1, 0, 1, 0, 0, 0,\n",
       "       1, 0, 0, 1, 0, 1, 1, 0, 1, 1, 1, 0, 1, 0, 1, 1, 1, 1, 1, 1, 0, 1,\n",
       "       0, 1, 1, 1, 1, 0, 1, 1, 1, 0, 0, 0, 1, 1, 1, 0, 0, 0, 1, 0, 1, 1,\n",
       "       1, 0, 1, 1, 1, 0, 1, 1, 1, 1, 1, 0, 1, 1, 1, 1, 1, 0, 1, 1, 1, 1,\n",
       "       1, 0, 0, 1, 1, 0, 0, 1, 0, 0, 1, 1, 0, 0, 0, 0, 0, 0, 1, 0, 0, 0,\n",
       "       1, 1, 1, 0, 1, 1, 1, 1, 1, 1, 1, 1, 1, 1, 1, 0, 1, 1, 1, 1, 1, 0,\n",
       "       1, 0, 0, 1, 0, 1, 1, 1, 1, 1, 1, 0, 1, 1, 1, 1, 1, 1, 1, 1, 1, 1,\n",
       "       1, 1, 1, 0, 0, 1, 0, 1, 1, 1, 1, 1, 0, 1, 1, 0, 1, 1, 1, 1, 0, 0,\n",
       "       0, 1, 1, 1, 1, 1, 1, 1, 0, 1, 1, 1, 1, 1, 1, 0, 1, 1, 1, 1, 1, 1,\n",
       "       1, 1, 1, 1, 1, 1, 0, 0, 1, 0, 0, 1, 1, 1, 0, 1, 1, 0, 1, 1, 0, 1,\n",
       "       1, 0, 1, 0, 1, 1, 1, 1, 1, 1, 0, 0, 1, 0, 1, 1, 1, 0, 1, 1, 1, 1,\n",
       "       1, 1, 1, 0, 1, 0, 1, 1, 1, 1, 1, 1, 1, 1, 1, 1, 1, 1, 0, 0, 1, 1,\n",
       "       1, 1, 1, 1, 0, 1, 1, 1, 1, 0, 1, 1, 1, 1, 1, 1, 1, 1, 1, 1, 1, 1,\n",
       "       1, 1, 1, 1, 1, 1, 1, 1, 1, 1, 1, 1, 1, 1, 1, 1, 1, 1, 1, 1, 1, 1,\n",
       "       1, 0, 1, 1, 1, 0, 1, 1, 1, 1, 1, 1, 1, 1, 1, 1, 1, 1, 1, 1, 1, 1,\n",
       "       1, 1, 0, 0, 0, 1, 1, 1, 0, 0, 1, 0, 1, 0, 0, 0, 1, 1, 1, 1, 0, 1,\n",
       "       0, 1, 0, 1, 0, 1, 0, 1, 0, 1, 1, 1, 0, 1, 1, 1, 1, 1, 1, 0, 1, 0,\n",
       "       0, 0, 0, 1, 1, 0, 0, 0, 1, 0, 0, 0, 0, 0, 0, 1, 1, 0, 1, 0, 0, 0,\n",
       "       1, 0, 0, 1, 1, 0, 0, 1, 1, 1, 1, 0, 0, 1, 0, 1, 1, 1, 1, 1, 1, 0,\n",
       "       1, 1, 1, 1, 1, 1, 1, 0, 1, 1, 0, 0, 0, 1, 0, 1, 1, 0, 1, 1, 1, 1,\n",
       "       0, 0, 1, 1, 0, 1, 1, 1, 1, 1, 0, 0, 0, 1, 0, 1, 0, 1, 1, 0, 0, 1,\n",
       "       0, 1, 0, 1, 1, 0, 0, 1, 0, 1, 1, 1, 0, 0, 0, 1, 0, 1, 1, 1, 1, 1,\n",
       "       1, 1, 1, 1, 1, 1, 1, 1, 1, 1, 1, 1, 1, 1, 1, 0, 1, 1, 1, 0, 0, 1,\n",
       "       1, 1, 1, 1, 0, 1, 1, 1, 1, 1, 1, 1, 0, 1, 1, 0, 1, 0, 1, 1, 1, 0,\n",
       "       0, 0, 1, 0, 0, 1, 0, 1, 0, 0, 1, 1, 1, 1, 1, 1, 1, 1, 1, 1, 1, 1,\n",
       "       1, 1, 1, 1])"
      ]
     },
     "execution_count": 24,
     "metadata": {},
     "output_type": "execute_result"
    }
   ],
   "source": [
    "df_test_pred"
   ]
  },
  {
   "cell_type": "code",
   "execution_count": 25,
   "id": "e34f98ad",
   "metadata": {
    "execution": {
     "iopub.execute_input": "2025-03-07T09:45:58.044495Z",
     "iopub.status.busy": "2025-03-07T09:45:58.043724Z",
     "iopub.status.idle": "2025-03-07T09:45:58.052339Z",
     "shell.execute_reply": "2025-03-07T09:45:58.051180Z"
    },
    "papermill": {
     "duration": 0.022668,
     "end_time": "2025-03-07T09:45:58.054857",
     "exception": false,
     "start_time": "2025-03-07T09:45:58.032189",
     "status": "completed"
    },
    "tags": []
   },
   "outputs": [
    {
     "data": {
      "text/plain": [
       "0      2190\n",
       "1      2191\n",
       "2      2192\n",
       "3      2193\n",
       "4      2194\n",
       "       ... \n",
       "725    2915\n",
       "726    2916\n",
       "727    2917\n",
       "728    2918\n",
       "729    2919\n",
       "Name: id, Length: 730, dtype: int64"
      ]
     },
     "execution_count": 25,
     "metadata": {},
     "output_type": "execute_result"
    }
   ],
   "source": [
    "df_test[\"id\"]"
   ]
  },
  {
   "cell_type": "code",
   "execution_count": 26,
   "id": "bb1549b6",
   "metadata": {
    "execution": {
     "iopub.execute_input": "2025-03-07T09:45:58.077157Z",
     "iopub.status.busy": "2025-03-07T09:45:58.076074Z",
     "iopub.status.idle": "2025-03-07T09:45:58.082075Z",
     "shell.execute_reply": "2025-03-07T09:45:58.080938Z"
    },
    "papermill": {
     "duration": 0.01893,
     "end_time": "2025-03-07T09:45:58.084224",
     "exception": false,
     "start_time": "2025-03-07T09:45:58.065294",
     "status": "completed"
    },
    "tags": []
   },
   "outputs": [],
   "source": [
    "# Creating a DataFrame from the Series\n",
    "df_test_predictions = pd.DataFrame({'id': df_test[\"id\"], 'Rainfall': df_test_pred})"
   ]
  },
  {
   "cell_type": "code",
   "execution_count": 27,
   "id": "160890d5",
   "metadata": {
    "execution": {
     "iopub.execute_input": "2025-03-07T09:45:58.105234Z",
     "iopub.status.busy": "2025-03-07T09:45:58.104790Z",
     "iopub.status.idle": "2025-03-07T09:45:58.115613Z",
     "shell.execute_reply": "2025-03-07T09:45:58.114404Z"
    },
    "papermill": {
     "duration": 0.024194,
     "end_time": "2025-03-07T09:45:58.117790",
     "exception": false,
     "start_time": "2025-03-07T09:45:58.093596",
     "status": "completed"
    },
    "tags": []
   },
   "outputs": [
    {
     "data": {
      "text/html": [
       "<div>\n",
       "<style scoped>\n",
       "    .dataframe tbody tr th:only-of-type {\n",
       "        vertical-align: middle;\n",
       "    }\n",
       "\n",
       "    .dataframe tbody tr th {\n",
       "        vertical-align: top;\n",
       "    }\n",
       "\n",
       "    .dataframe thead th {\n",
       "        text-align: right;\n",
       "    }\n",
       "</style>\n",
       "<table border=\"1\" class=\"dataframe\">\n",
       "  <thead>\n",
       "    <tr style=\"text-align: right;\">\n",
       "      <th></th>\n",
       "      <th>id</th>\n",
       "      <th>Rainfall</th>\n",
       "    </tr>\n",
       "  </thead>\n",
       "  <tbody>\n",
       "    <tr>\n",
       "      <th>0</th>\n",
       "      <td>2190</td>\n",
       "      <td>1</td>\n",
       "    </tr>\n",
       "    <tr>\n",
       "      <th>1</th>\n",
       "      <td>2191</td>\n",
       "      <td>1</td>\n",
       "    </tr>\n",
       "    <tr>\n",
       "      <th>2</th>\n",
       "      <td>2192</td>\n",
       "      <td>1</td>\n",
       "    </tr>\n",
       "    <tr>\n",
       "      <th>3</th>\n",
       "      <td>2193</td>\n",
       "      <td>0</td>\n",
       "    </tr>\n",
       "    <tr>\n",
       "      <th>4</th>\n",
       "      <td>2194</td>\n",
       "      <td>0</td>\n",
       "    </tr>\n",
       "    <tr>\n",
       "      <th>...</th>\n",
       "      <td>...</td>\n",
       "      <td>...</td>\n",
       "    </tr>\n",
       "    <tr>\n",
       "      <th>725</th>\n",
       "      <td>2915</td>\n",
       "      <td>1</td>\n",
       "    </tr>\n",
       "    <tr>\n",
       "      <th>726</th>\n",
       "      <td>2916</td>\n",
       "      <td>1</td>\n",
       "    </tr>\n",
       "    <tr>\n",
       "      <th>727</th>\n",
       "      <td>2917</td>\n",
       "      <td>1</td>\n",
       "    </tr>\n",
       "    <tr>\n",
       "      <th>728</th>\n",
       "      <td>2918</td>\n",
       "      <td>1</td>\n",
       "    </tr>\n",
       "    <tr>\n",
       "      <th>729</th>\n",
       "      <td>2919</td>\n",
       "      <td>1</td>\n",
       "    </tr>\n",
       "  </tbody>\n",
       "</table>\n",
       "<p>730 rows × 2 columns</p>\n",
       "</div>"
      ],
      "text/plain": [
       "       id  Rainfall\n",
       "0    2190         1\n",
       "1    2191         1\n",
       "2    2192         1\n",
       "3    2193         0\n",
       "4    2194         0\n",
       "..    ...       ...\n",
       "725  2915         1\n",
       "726  2916         1\n",
       "727  2917         1\n",
       "728  2918         1\n",
       "729  2919         1\n",
       "\n",
       "[730 rows x 2 columns]"
      ]
     },
     "execution_count": 27,
     "metadata": {},
     "output_type": "execute_result"
    }
   ],
   "source": [
    "df_test_predictions"
   ]
  },
  {
   "cell_type": "code",
   "execution_count": 28,
   "id": "635b8ecc",
   "metadata": {
    "execution": {
     "iopub.execute_input": "2025-03-07T09:45:58.139696Z",
     "iopub.status.busy": "2025-03-07T09:45:58.138744Z",
     "iopub.status.idle": "2025-03-07T09:47:59.647643Z",
     "shell.execute_reply": "2025-03-07T09:47:59.646363Z"
    },
    "papermill": {
     "duration": 121.522104,
     "end_time": "2025-03-07T09:47:59.649965",
     "exception": false,
     "start_time": "2025-03-07T09:45:58.127861",
     "status": "completed"
    },
    "tags": []
   },
   "outputs": [
    {
     "name": "stderr",
     "output_type": "stream",
     "text": [
      "[I 2025-03-07 09:45:58,315] A new study created in memory with name: no-name-8ff9929d-f618-4bca-a250-2e054aa35e7f\n",
      "[I 2025-03-07 09:45:58,996] Trial 0 finished with value: 0.8560060553859002 and parameters: {'n_estimators': 202, 'max_depth': 3, 'min_samples_split': 4, 'min_samples_leaf': 6, 'max_features': 'sqrt'}. Best is trial 0 with value: 0.8560060553859002.\n",
      "[I 2025-03-07 09:46:00,998] Trial 1 finished with value: 0.8863205700415003 and parameters: {'n_estimators': 354, 'max_depth': 20, 'min_samples_split': 9, 'min_samples_leaf': 10, 'max_features': 'log2'}. Best is trial 1 with value: 0.8863205700415003.\n",
      "[I 2025-03-07 09:46:02,267] Trial 2 finished with value: 0.8908850408850408 and parameters: {'n_estimators': 214, 'max_depth': 19, 'min_samples_split': 6, 'min_samples_leaf': 6, 'max_features': 'sqrt'}. Best is trial 2 with value: 0.8908850408850408.\n",
      "[I 2025-03-07 09:46:04,868] Trial 3 finished with value: 0.8832741036485027 and parameters: {'n_estimators': 478, 'max_depth': 8, 'min_samples_split': 3, 'min_samples_leaf': 7, 'max_features': 'log2'}. Best is trial 2 with value: 0.8908850408850408.\n",
      "[I 2025-03-07 09:46:05,258] Trial 4 finished with value: 0.8620689583170202 and parameters: {'n_estimators': 99, 'max_depth': 4, 'min_samples_split': 10, 'min_samples_leaf': 1, 'max_features': 'sqrt'}. Best is trial 2 with value: 0.8908850408850408.\n",
      "[I 2025-03-07 09:46:07,260] Trial 5 finished with value: 0.9030276314679985 and parameters: {'n_estimators': 314, 'max_depth': 13, 'min_samples_split': 7, 'min_samples_leaf': 2, 'max_features': 'sqrt'}. Best is trial 5 with value: 0.9030276314679985.\n",
      "[I 2025-03-07 09:46:08,141] Trial 6 finished with value: 0.8909060854014983 and parameters: {'n_estimators': 147, 'max_depth': 10, 'min_samples_split': 7, 'min_samples_leaf': 3, 'max_features': 'log2'}. Best is trial 5 with value: 0.9030276314679985.\n",
      "[I 2025-03-07 09:46:08,601] Trial 7 finished with value: 0.8893825110228987 and parameters: {'n_estimators': 77, 'max_depth': 12, 'min_samples_split': 4, 'min_samples_leaf': 6, 'max_features': 'log2'}. Best is trial 5 with value: 0.9030276314679985.\n",
      "[I 2025-03-07 09:46:10,293] Trial 8 finished with value: 0.8939247816859758 and parameters: {'n_estimators': 304, 'max_depth': 8, 'min_samples_split': 7, 'min_samples_leaf': 1, 'max_features': 'sqrt'}. Best is trial 5 with value: 0.9030276314679985.\n",
      "[I 2025-03-07 09:46:11,285] Trial 9 finished with value: 0.8817801815826638 and parameters: {'n_estimators': 208, 'max_depth': 6, 'min_samples_split': 5, 'min_samples_leaf': 2, 'max_features': 'log2'}. Best is trial 5 with value: 0.9030276314679985.\n",
      "[I 2025-03-07 09:46:13,770] Trial 10 finished with value: 0.901515829799472 and parameters: {'n_estimators': 402, 'max_depth': 15, 'min_samples_split': 2, 'min_samples_leaf': 4, 'max_features': 'sqrt'}. Best is trial 5 with value: 0.9030276314679985.\n",
      "[I 2025-03-07 09:46:16,241] Trial 11 finished with value: 0.901515829799472 and parameters: {'n_estimators': 390, 'max_depth': 15, 'min_samples_split': 2, 'min_samples_leaf': 4, 'max_features': 'sqrt'}. Best is trial 5 with value: 0.9030276314679985.\n",
      "[I 2025-03-07 09:46:19,017] Trial 12 finished with value: 0.901515829799472 and parameters: {'n_estimators': 445, 'max_depth': 15, 'min_samples_split': 8, 'min_samples_leaf': 4, 'max_features': 'sqrt'}. Best is trial 5 with value: 0.9030276314679985.\n",
      "[I 2025-03-07 09:46:20,954] Trial 13 finished with value: 0.901515829799472 and parameters: {'n_estimators': 309, 'max_depth': 15, 'min_samples_split': 2, 'min_samples_leaf': 4, 'max_features': 'sqrt'}. Best is trial 5 with value: 0.9030276314679985.\n",
      "[I 2025-03-07 09:46:23,372] Trial 14 finished with value: 0.9030276314679985 and parameters: {'n_estimators': 387, 'max_depth': 13, 'min_samples_split': 6, 'min_samples_leaf': 3, 'max_features': 'sqrt'}. Best is trial 5 with value: 0.9030276314679985.\n",
      "[I 2025-03-07 09:46:25,079] Trial 15 finished with value: 0.8954552654794395 and parameters: {'n_estimators': 262, 'max_depth': 12, 'min_samples_split': 6, 'min_samples_leaf': 2, 'max_features': 'sqrt'}. Best is trial 5 with value: 0.9030276314679985.\n",
      "[I 2025-03-07 09:46:27,187] Trial 16 finished with value: 0.8878427363732964 and parameters: {'n_estimators': 358, 'max_depth': 17, 'min_samples_split': 8, 'min_samples_leaf': 9, 'max_features': 'sqrt'}. Best is trial 5 with value: 0.9030276314679985.\n",
      "[I 2025-03-07 09:46:30,227] Trial 17 finished with value: 0.8939364719181233 and parameters: {'n_estimators': 499, 'max_depth': 10, 'min_samples_split': 5, 'min_samples_leaf': 2, 'max_features': 'sqrt'}. Best is trial 5 with value: 0.9030276314679985.\n",
      "[I 2025-03-07 09:46:31,905] Trial 18 finished with value: 0.9045461119594882 and parameters: {'n_estimators': 265, 'max_depth': 13, 'min_samples_split': 7, 'min_samples_leaf': 3, 'max_features': 'sqrt'}. Best is trial 18 with value: 0.9045461119594882.\n",
      "[I 2025-03-07 09:46:33,495] Trial 19 finished with value: 0.886333102353551 and parameters: {'n_estimators': 273, 'max_depth': 17, 'min_samples_split': 8, 'min_samples_leaf': 8, 'max_features': 'sqrt'}. Best is trial 18 with value: 0.9045461119594882.\n",
      "[I 2025-03-07 09:46:34,443] Trial 20 finished with value: 0.8939247816859758 and parameters: {'n_estimators': 157, 'max_depth': 9, 'min_samples_split': 10, 'min_samples_leaf': 5, 'max_features': 'sqrt'}. Best is trial 18 with value: 0.9045461119594882.\n",
      "[I 2025-03-07 09:46:36,510] Trial 21 finished with value: 0.9045443588151502 and parameters: {'n_estimators': 327, 'max_depth': 13, 'min_samples_split': 7, 'min_samples_leaf': 3, 'max_features': 'sqrt'}. Best is trial 18 with value: 0.9045461119594882.\n",
      "[I 2025-03-07 09:46:38,524] Trial 22 finished with value: 0.9030303030303031 and parameters: {'n_estimators': 316, 'max_depth': 13, 'min_samples_split': 7, 'min_samples_leaf': 3, 'max_features': 'sqrt'}. Best is trial 18 with value: 0.9045461119594882.\n",
      "[I 2025-03-07 09:46:40,061] Trial 23 finished with value: 0.9 and parameters: {'n_estimators': 242, 'max_depth': 13, 'min_samples_split': 9, 'min_samples_leaf': 3, 'max_features': 'sqrt'}. Best is trial 18 with value: 0.9045461119594882.\n",
      "[I 2025-03-07 09:46:42,094] Trial 24 finished with value: 0.8954437432956166 and parameters: {'n_estimators': 334, 'max_depth': 17, 'min_samples_split': 7, 'min_samples_leaf': 5, 'max_features': 'sqrt'}. Best is trial 18 with value: 0.9045461119594882.\n",
      "[I 2025-03-07 09:46:43,870] Trial 25 finished with value: 0.890901075706924 and parameters: {'n_estimators': 287, 'max_depth': 11, 'min_samples_split': 9, 'min_samples_leaf': 3, 'max_features': 'sqrt'}. Best is trial 18 with value: 0.9045461119594882.\n",
      "[I 2025-03-07 09:46:46,693] Trial 26 finished with value: 0.9075763941195046 and parameters: {'n_estimators': 422, 'max_depth': 14, 'min_samples_split': 5, 'min_samples_leaf': 1, 'max_features': 'log2'}. Best is trial 26 with value: 0.9075763941195046.\n",
      "[I 2025-03-07 09:46:49,507] Trial 27 finished with value: 0.9075763941195046 and parameters: {'n_estimators': 429, 'max_depth': 14, 'min_samples_split': 5, 'min_samples_leaf': 1, 'max_features': 'log2'}. Best is trial 26 with value: 0.9075763941195046.\n",
      "[I 2025-03-07 09:46:52,336] Trial 28 finished with value: 0.9121220190963715 and parameters: {'n_estimators': 425, 'max_depth': 16, 'min_samples_split': 5, 'min_samples_leaf': 1, 'max_features': 'log2'}. Best is trial 28 with value: 0.9121220190963715.\n",
      "[I 2025-03-07 09:46:55,274] Trial 29 finished with value: 0.9075746966889968 and parameters: {'n_estimators': 433, 'max_depth': 18, 'min_samples_split': 4, 'min_samples_leaf': 1, 'max_features': 'log2'}. Best is trial 28 with value: 0.9121220190963715.\n",
      "[I 2025-03-07 09:46:58,390] Trial 30 finished with value: 0.9136369584286133 and parameters: {'n_estimators': 449, 'max_depth': 16, 'min_samples_split': 5, 'min_samples_leaf': 1, 'max_features': 'log2'}. Best is trial 30 with value: 0.9136369584286133.\n",
      "[I 2025-03-07 09:47:01,381] Trial 31 finished with value: 0.9121220190963715 and parameters: {'n_estimators': 444, 'max_depth': 16, 'min_samples_split': 5, 'min_samples_leaf': 1, 'max_features': 'log2'}. Best is trial 30 with value: 0.9136369584286133.\n",
      "[I 2025-03-07 09:47:04,540] Trial 32 finished with value: 0.9106066762795209 and parameters: {'n_estimators': 465, 'max_depth': 16, 'min_samples_split': 5, 'min_samples_leaf': 1, 'max_features': 'log2'}. Best is trial 30 with value: 0.9136369584286133.\n",
      "[I 2025-03-07 09:47:07,672] Trial 33 finished with value: 0.9136369584286133 and parameters: {'n_estimators': 471, 'max_depth': 20, 'min_samples_split': 4, 'min_samples_leaf': 2, 'max_features': 'log2'}. Best is trial 30 with value: 0.9136369584286133.\n",
      "[I 2025-03-07 09:47:10,960] Trial 34 finished with value: 0.9136369584286133 and parameters: {'n_estimators': 498, 'max_depth': 20, 'min_samples_split': 3, 'min_samples_leaf': 2, 'max_features': 'log2'}. Best is trial 30 with value: 0.9136369584286133.\n",
      "[I 2025-03-07 09:47:14,363] Trial 35 finished with value: 0.9136369584286133 and parameters: {'n_estimators': 498, 'max_depth': 20, 'min_samples_split': 3, 'min_samples_leaf': 2, 'max_features': 'log2'}. Best is trial 30 with value: 0.9136369584286133.\n",
      "[I 2025-03-07 09:47:17,764] Trial 36 finished with value: 0.9136369584286133 and parameters: {'n_estimators': 499, 'max_depth': 20, 'min_samples_split': 3, 'min_samples_leaf': 2, 'max_features': 'log2'}. Best is trial 30 with value: 0.9136369584286133.\n",
      "[I 2025-03-07 09:47:20,865] Trial 37 finished with value: 0.9136369584286133 and parameters: {'n_estimators': 470, 'max_depth': 20, 'min_samples_split': 3, 'min_samples_leaf': 2, 'max_features': 'log2'}. Best is trial 30 with value: 0.9136369584286133.\n",
      "[I 2025-03-07 09:47:23,560] Trial 38 finished with value: 0.8863205700415003 and parameters: {'n_estimators': 475, 'max_depth': 19, 'min_samples_split': 3, 'min_samples_leaf': 10, 'max_features': 'log2'}. Best is trial 30 with value: 0.9136369584286133.\n",
      "[I 2025-03-07 09:47:26,574] Trial 39 finished with value: 0.889364219624123 and parameters: {'n_estimators': 499, 'max_depth': 19, 'min_samples_split': 4, 'min_samples_leaf': 7, 'max_features': 'log2'}. Best is trial 30 with value: 0.9136369584286133.\n",
      "[I 2025-03-07 09:47:29,629] Trial 40 finished with value: 0.9106066762682137 and parameters: {'n_estimators': 458, 'max_depth': 18, 'min_samples_split': 3, 'min_samples_leaf': 2, 'max_features': 'log2'}. Best is trial 30 with value: 0.9136369584286133.\n",
      "[I 2025-03-07 09:47:32,968] Trial 41 finished with value: 0.9136369584286133 and parameters: {'n_estimators': 498, 'max_depth': 20, 'min_samples_split': 3, 'min_samples_leaf': 2, 'max_features': 'log2'}. Best is trial 30 with value: 0.9136369584286133.\n",
      "[I 2025-03-07 09:47:36,221] Trial 42 finished with value: 0.913636958439537 and parameters: {'n_estimators': 486, 'max_depth': 19, 'min_samples_split': 4, 'min_samples_leaf': 2, 'max_features': 'log2'}. Best is trial 42 with value: 0.913636958439537.\n",
      "[I 2025-03-07 09:47:38,920] Trial 43 finished with value: 0.9106066762795209 and parameters: {'n_estimators': 408, 'max_depth': 18, 'min_samples_split': 4, 'min_samples_leaf': 2, 'max_features': 'log2'}. Best is trial 42 with value: 0.913636958439537.\n",
      "[I 2025-03-07 09:47:41,467] Trial 44 finished with value: 0.9106066762682137 and parameters: {'n_estimators': 375, 'max_depth': 19, 'min_samples_split': 4, 'min_samples_leaf': 1, 'max_features': 'log2'}. Best is trial 42 with value: 0.913636958439537.\n",
      "[I 2025-03-07 09:47:44,657] Trial 45 finished with value: 0.9136369584286133 and parameters: {'n_estimators': 478, 'max_depth': 20, 'min_samples_split': 4, 'min_samples_leaf': 2, 'max_features': 'log2'}. Best is trial 42 with value: 0.913636958439537.\n",
      "[I 2025-03-07 09:47:47,498] Trial 46 finished with value: 0.901515829799472 and parameters: {'n_estimators': 455, 'max_depth': 18, 'min_samples_split': 2, 'min_samples_leaf': 4, 'max_features': 'log2'}. Best is trial 42 with value: 0.913636958439537.\n",
      "[I 2025-03-07 09:47:50,515] Trial 47 finished with value: 0.9030276314679985 and parameters: {'n_estimators': 477, 'max_depth': 19, 'min_samples_split': 4, 'min_samples_leaf': 3, 'max_features': 'log2'}. Best is trial 42 with value: 0.913636958439537.\n",
      "[I 2025-03-07 09:47:53,001] Trial 48 finished with value: 0.8954437432956166 and parameters: {'n_estimators': 408, 'max_depth': 20, 'min_samples_split': 2, 'min_samples_leaf': 5, 'max_features': 'log2'}. Best is trial 42 with value: 0.913636958439537.\n",
      "[I 2025-03-07 09:47:56,091] Trial 49 finished with value: 0.9151515151515152 and parameters: {'n_estimators': 450, 'max_depth': 19, 'min_samples_split': 3, 'min_samples_leaf': 1, 'max_features': 'log2'}. Best is trial 49 with value: 0.9151515151515152.\n"
     ]
    },
    {
     "name": "stdout",
     "output_type": "stream",
     "text": [
      "Number of finished trials:  50\n",
      "Best trial:\n",
      "  Value:  0.9151515151515152\n",
      "  Params: \n",
      "    n_estimators: 450\n",
      "    max_depth: 19\n",
      "    min_samples_split: 3\n",
      "    min_samples_leaf: 1\n",
      "    max_features: log2\n"
     ]
    },
    {
     "data": {
      "text/html": [
       "<style>#sk-container-id-1 {color: black;background-color: white;}#sk-container-id-1 pre{padding: 0;}#sk-container-id-1 div.sk-toggleable {background-color: white;}#sk-container-id-1 label.sk-toggleable__label {cursor: pointer;display: block;width: 100%;margin-bottom: 0;padding: 0.3em;box-sizing: border-box;text-align: center;}#sk-container-id-1 label.sk-toggleable__label-arrow:before {content: \"▸\";float: left;margin-right: 0.25em;color: #696969;}#sk-container-id-1 label.sk-toggleable__label-arrow:hover:before {color: black;}#sk-container-id-1 div.sk-estimator:hover label.sk-toggleable__label-arrow:before {color: black;}#sk-container-id-1 div.sk-toggleable__content {max-height: 0;max-width: 0;overflow: hidden;text-align: left;background-color: #f0f8ff;}#sk-container-id-1 div.sk-toggleable__content pre {margin: 0.2em;color: black;border-radius: 0.25em;background-color: #f0f8ff;}#sk-container-id-1 input.sk-toggleable__control:checked~div.sk-toggleable__content {max-height: 200px;max-width: 100%;overflow: auto;}#sk-container-id-1 input.sk-toggleable__control:checked~label.sk-toggleable__label-arrow:before {content: \"▾\";}#sk-container-id-1 div.sk-estimator input.sk-toggleable__control:checked~label.sk-toggleable__label {background-color: #d4ebff;}#sk-container-id-1 div.sk-label input.sk-toggleable__control:checked~label.sk-toggleable__label {background-color: #d4ebff;}#sk-container-id-1 input.sk-hidden--visually {border: 0;clip: rect(1px 1px 1px 1px);clip: rect(1px, 1px, 1px, 1px);height: 1px;margin: -1px;overflow: hidden;padding: 0;position: absolute;width: 1px;}#sk-container-id-1 div.sk-estimator {font-family: monospace;background-color: #f0f8ff;border: 1px dotted black;border-radius: 0.25em;box-sizing: border-box;margin-bottom: 0.5em;}#sk-container-id-1 div.sk-estimator:hover {background-color: #d4ebff;}#sk-container-id-1 div.sk-parallel-item::after {content: \"\";width: 100%;border-bottom: 1px solid gray;flex-grow: 1;}#sk-container-id-1 div.sk-label:hover label.sk-toggleable__label {background-color: #d4ebff;}#sk-container-id-1 div.sk-serial::before {content: \"\";position: absolute;border-left: 1px solid gray;box-sizing: border-box;top: 0;bottom: 0;left: 50%;z-index: 0;}#sk-container-id-1 div.sk-serial {display: flex;flex-direction: column;align-items: center;background-color: white;padding-right: 0.2em;padding-left: 0.2em;position: relative;}#sk-container-id-1 div.sk-item {position: relative;z-index: 1;}#sk-container-id-1 div.sk-parallel {display: flex;align-items: stretch;justify-content: center;background-color: white;position: relative;}#sk-container-id-1 div.sk-item::before, #sk-container-id-1 div.sk-parallel-item::before {content: \"\";position: absolute;border-left: 1px solid gray;box-sizing: border-box;top: 0;bottom: 0;left: 50%;z-index: -1;}#sk-container-id-1 div.sk-parallel-item {display: flex;flex-direction: column;z-index: 1;position: relative;background-color: white;}#sk-container-id-1 div.sk-parallel-item:first-child::after {align-self: flex-end;width: 50%;}#sk-container-id-1 div.sk-parallel-item:last-child::after {align-self: flex-start;width: 50%;}#sk-container-id-1 div.sk-parallel-item:only-child::after {width: 0;}#sk-container-id-1 div.sk-dashed-wrapped {border: 1px dashed gray;margin: 0 0.4em 0.5em 0.4em;box-sizing: border-box;padding-bottom: 0.4em;background-color: white;}#sk-container-id-1 div.sk-label label {font-family: monospace;font-weight: bold;display: inline-block;line-height: 1.2em;}#sk-container-id-1 div.sk-label-container {text-align: center;}#sk-container-id-1 div.sk-container {/* jupyter's `normalize.less` sets `[hidden] { display: none; }` but bootstrap.min.css set `[hidden] { display: none !important; }` so we also need the `!important` here to be able to override the default hidden behavior on the sphinx rendered scikit-learn.org. See: https://github.com/scikit-learn/scikit-learn/issues/21755 */display: inline-block !important;position: relative;}#sk-container-id-1 div.sk-text-repr-fallback {display: none;}</style><div id=\"sk-container-id-1\" class=\"sk-top-container\"><div class=\"sk-text-repr-fallback\"><pre>RandomForestClassifier(max_depth=19, max_features=&#x27;log2&#x27;, min_samples_split=3,\n",
       "                       n_estimators=450, random_state=42)</pre><b>In a Jupyter environment, please rerun this cell to show the HTML representation or trust the notebook. <br />On GitHub, the HTML representation is unable to render, please try loading this page with nbviewer.org.</b></div><div class=\"sk-container\" hidden><div class=\"sk-item\"><div class=\"sk-estimator sk-toggleable\"><input class=\"sk-toggleable__control sk-hidden--visually\" id=\"sk-estimator-id-1\" type=\"checkbox\" checked><label for=\"sk-estimator-id-1\" class=\"sk-toggleable__label sk-toggleable__label-arrow\">RandomForestClassifier</label><div class=\"sk-toggleable__content\"><pre>RandomForestClassifier(max_depth=19, max_features=&#x27;log2&#x27;, min_samples_split=3,\n",
       "                       n_estimators=450, random_state=42)</pre></div></div></div></div></div>"
      ],
      "text/plain": [
       "RandomForestClassifier(max_depth=19, max_features='log2', min_samples_split=3,\n",
       "                       n_estimators=450, random_state=42)"
      ]
     },
     "execution_count": 28,
     "metadata": {},
     "output_type": "execute_result"
    }
   ],
   "source": [
    "import optuna\n",
    "from sklearn.model_selection import train_test_split\n",
    "from sklearn.ensemble import RandomForestClassifier\n",
    "from sklearn.metrics import classification_report\n",
    "\n",
    "# Assuming X_resampled and y_resampled are your resampled data\n",
    "\n",
    "X_train, X_test, y_train, y_test = train_test_split(\n",
    "    X_resampled, y_resampled, test_size=0.2, random_state=42\n",
    ")\n",
    "\n",
    "def objective(trial):\n",
    "    \"\"\"Objective function for Optuna.\"\"\"\n",
    "    n_estimators = trial.suggest_int(\"n_estimators\", 50, 500)\n",
    "    max_depth = trial.suggest_int(\"max_depth\", 3, 20)\n",
    "    min_samples_split = trial.suggest_int(\"min_samples_split\", 2, 10)\n",
    "    min_samples_leaf = trial.suggest_int(\"min_samples_leaf\", 1, 10)\n",
    "    max_features = trial.suggest_categorical(\"max_features\", [\"sqrt\", \"log2\"]) #or suggest_float for a percentage\n",
    "\n",
    "    clf = RandomForestClassifier(\n",
    "        n_estimators=n_estimators,\n",
    "        max_depth=max_depth,\n",
    "        min_samples_split=min_samples_split,\n",
    "        min_samples_leaf=min_samples_leaf,\n",
    "        max_features=max_features,\n",
    "        random_state=42,\n",
    "    )\n",
    "\n",
    "    clf.fit(X_train, y_train)\n",
    "    y_pred = clf.predict(X_test)\n",
    "    report = classification_report(y_test, y_pred, output_dict=True)\n",
    "    return report[\"weighted avg\"][\"f1-score\"]  # Optimize for F1-score\n",
    "\n",
    "study = optuna.create_study(direction=\"maximize\")  # Maximize F1-score\n",
    "study.optimize(objective, n_trials=50)  # Adjust n_trials as needed\n",
    "\n",
    "print(\"Number of finished trials: \", len(study.trials))\n",
    "print(\"Best trial:\")\n",
    "trial = study.best_trial\n",
    "\n",
    "print(\"  Value: \", trial.value)\n",
    "print(\"  Params: \")\n",
    "for key, value in trial.params.items():\n",
    "    print(f\"    {key}: {value}\")\n",
    "\n",
    "# Train the final model with the best hyperparameters\n",
    "best_clf = RandomForestClassifier(\n",
    "    n_estimators=trial.params[\"n_estimators\"],\n",
    "    max_depth=trial.params[\"max_depth\"],\n",
    "    min_samples_split=trial.params[\"min_samples_split\"],\n",
    "    min_samples_leaf=trial.params[\"min_samples_leaf\"],\n",
    "    max_features=trial.params[\"max_features\"],\n",
    "    random_state=42,\n",
    ")\n",
    "\n",
    "best_clf.fit(X_resampled, y_resampled)\n",
    "# best_y_pred = best_clf.predict(X_test)\n",
    "# print(\"\\nClassification Report (Best Model):\")\n",
    "# print(classification_report(y_test, best_y_pred))"
   ]
  },
  {
   "cell_type": "code",
   "execution_count": 29,
   "id": "9e80a0a7",
   "metadata": {
    "execution": {
     "iopub.execute_input": "2025-03-07T09:47:59.677938Z",
     "iopub.status.busy": "2025-03-07T09:47:59.677557Z",
     "iopub.status.idle": "2025-03-07T09:47:59.758859Z",
     "shell.execute_reply": "2025-03-07T09:47:59.757752Z"
    },
    "papermill": {
     "duration": 0.098232,
     "end_time": "2025-03-07T09:47:59.761431",
     "exception": false,
     "start_time": "2025-03-07T09:47:59.663199",
     "status": "completed"
    },
    "tags": []
   },
   "outputs": [],
   "source": [
    "df_test_pred = best_clf.predict(df_test_2)\n",
    "df_test_predictions = pd.DataFrame({'id': df_test[\"id\"], 'rainfall': df_test_pred})"
   ]
  },
  {
   "cell_type": "code",
   "execution_count": 30,
   "id": "34cbf2df",
   "metadata": {
    "execution": {
     "iopub.execute_input": "2025-03-07T09:47:59.791759Z",
     "iopub.status.busy": "2025-03-07T09:47:59.791403Z",
     "iopub.status.idle": "2025-03-07T09:47:59.802471Z",
     "shell.execute_reply": "2025-03-07T09:47:59.801309Z"
    },
    "papermill": {
     "duration": 0.029427,
     "end_time": "2025-03-07T09:47:59.804771",
     "exception": false,
     "start_time": "2025-03-07T09:47:59.775344",
     "status": "completed"
    },
    "tags": []
   },
   "outputs": [
    {
     "data": {
      "text/html": [
       "<div>\n",
       "<style scoped>\n",
       "    .dataframe tbody tr th:only-of-type {\n",
       "        vertical-align: middle;\n",
       "    }\n",
       "\n",
       "    .dataframe tbody tr th {\n",
       "        vertical-align: top;\n",
       "    }\n",
       "\n",
       "    .dataframe thead th {\n",
       "        text-align: right;\n",
       "    }\n",
       "</style>\n",
       "<table border=\"1\" class=\"dataframe\">\n",
       "  <thead>\n",
       "    <tr style=\"text-align: right;\">\n",
       "      <th></th>\n",
       "      <th>id</th>\n",
       "      <th>rainfall</th>\n",
       "    </tr>\n",
       "  </thead>\n",
       "  <tbody>\n",
       "    <tr>\n",
       "      <th>0</th>\n",
       "      <td>2190</td>\n",
       "      <td>1</td>\n",
       "    </tr>\n",
       "    <tr>\n",
       "      <th>1</th>\n",
       "      <td>2191</td>\n",
       "      <td>1</td>\n",
       "    </tr>\n",
       "    <tr>\n",
       "      <th>2</th>\n",
       "      <td>2192</td>\n",
       "      <td>1</td>\n",
       "    </tr>\n",
       "    <tr>\n",
       "      <th>3</th>\n",
       "      <td>2193</td>\n",
       "      <td>0</td>\n",
       "    </tr>\n",
       "    <tr>\n",
       "      <th>4</th>\n",
       "      <td>2194</td>\n",
       "      <td>0</td>\n",
       "    </tr>\n",
       "    <tr>\n",
       "      <th>...</th>\n",
       "      <td>...</td>\n",
       "      <td>...</td>\n",
       "    </tr>\n",
       "    <tr>\n",
       "      <th>725</th>\n",
       "      <td>2915</td>\n",
       "      <td>1</td>\n",
       "    </tr>\n",
       "    <tr>\n",
       "      <th>726</th>\n",
       "      <td>2916</td>\n",
       "      <td>1</td>\n",
       "    </tr>\n",
       "    <tr>\n",
       "      <th>727</th>\n",
       "      <td>2917</td>\n",
       "      <td>1</td>\n",
       "    </tr>\n",
       "    <tr>\n",
       "      <th>728</th>\n",
       "      <td>2918</td>\n",
       "      <td>1</td>\n",
       "    </tr>\n",
       "    <tr>\n",
       "      <th>729</th>\n",
       "      <td>2919</td>\n",
       "      <td>1</td>\n",
       "    </tr>\n",
       "  </tbody>\n",
       "</table>\n",
       "<p>730 rows × 2 columns</p>\n",
       "</div>"
      ],
      "text/plain": [
       "       id  rainfall\n",
       "0    2190         1\n",
       "1    2191         1\n",
       "2    2192         1\n",
       "3    2193         0\n",
       "4    2194         0\n",
       "..    ...       ...\n",
       "725  2915         1\n",
       "726  2916         1\n",
       "727  2917         1\n",
       "728  2918         1\n",
       "729  2919         1\n",
       "\n",
       "[730 rows x 2 columns]"
      ]
     },
     "execution_count": 30,
     "metadata": {},
     "output_type": "execute_result"
    }
   ],
   "source": [
    "df_test_predictions"
   ]
  },
  {
   "cell_type": "code",
   "execution_count": 31,
   "id": "79f5c918",
   "metadata": {
    "execution": {
     "iopub.execute_input": "2025-03-07T09:47:59.832561Z",
     "iopub.status.busy": "2025-03-07T09:47:59.832219Z",
     "iopub.status.idle": "2025-03-07T09:47:59.841194Z",
     "shell.execute_reply": "2025-03-07T09:47:59.840141Z"
    },
    "papermill": {
     "duration": 0.025944,
     "end_time": "2025-03-07T09:47:59.843721",
     "exception": false,
     "start_time": "2025-03-07T09:47:59.817777",
     "status": "completed"
    },
    "tags": []
   },
   "outputs": [],
   "source": [
    "df_test_predictions.to_csv(\"submission.csv\",index=False)"
   ]
  },
  {
   "cell_type": "code",
   "execution_count": 32,
   "id": "b1d5766a",
   "metadata": {
    "execution": {
     "iopub.execute_input": "2025-03-07T09:47:59.871656Z",
     "iopub.status.busy": "2025-03-07T09:47:59.871306Z",
     "iopub.status.idle": "2025-03-07T09:48:00.159427Z",
     "shell.execute_reply": "2025-03-07T09:48:00.158209Z"
    },
    "papermill": {
     "duration": 0.305,
     "end_time": "2025-03-07T09:48:00.161679",
     "exception": false,
     "start_time": "2025-03-07T09:47:59.856679",
     "status": "completed"
    },
    "tags": []
   },
   "outputs": [
    {
     "name": "stdout",
     "output_type": "stream",
     "text": [
      "\n",
      "Feature Importances:\n",
      "          Feature  Importance\n",
      "7           cloud    0.288421\n",
      "8        sunshine    0.179069\n",
      "6        humidity    0.145490\n",
      "5        dewpoint    0.056578\n",
      "2         maxtemp    0.052078\n",
      "0             day    0.051061\n",
      "1        pressure    0.050499\n",
      "10      windspeed    0.048676\n",
      "4         mintemp    0.046510\n",
      "3     temparature    0.044750\n",
      "9   winddirection    0.036869\n"
     ]
    },
    {
     "data": {
      "image/png": "[encoded data removed]",
      "text/plain": [
       "<Figure size 1000x600 with 1 Axes>"
      ]
     },
     "metadata": {},
     "output_type": "display_data"
    }
   ],
   "source": [
    "feature_importances = best_clf.feature_importances_\n",
    "\n",
    "# Create a DataFrame for feature importances\n",
    "feature_importance_df = pd.DataFrame(\n",
    "    {\"Feature\": X_resampled.columns, \"Importance\": feature_importances}\n",
    ")\n",
    "\n",
    "# Sort the DataFrame by importance\n",
    "feature_importance_df = feature_importance_df.sort_values(\n",
    "    by=\"Importance\", ascending=False\n",
    ")\n",
    "\n",
    "# Print or visualize feature importances\n",
    "print(\"\\nFeature Importances:\")\n",
    "print(feature_importance_df)\n",
    "\n",
    "# Visualize feature importances (optional)\n",
    "plt.figure(figsize=(10, 6))\n",
    "sns.barplot(x=\"Importance\", y=\"Feature\", data=feature_importance_df)\n",
    "plt.title(\"Random Forest Feature Importances\")\n",
    "plt.show()"
   ]
  },
  {
   "cell_type": "code",
   "execution_count": null,
   "id": "38588a69",
   "metadata": {
    "papermill": {
     "duration": 0.013254,
     "end_time": "2025-03-07T09:48:00.188526",
     "exception": false,
     "start_time": "2025-03-07T09:48:00.175272",
     "status": "completed"
    },
    "tags": []
   },
   "outputs": [],
   "source": []
  }
 ],
 "metadata": {
  "kaggle": {
   "accelerator": "none",
   "dataSources": [
    {
     "databundleVersionId": 11251744,
     "sourceId": 91714,
     "sourceType": "competition"
    }
   ],
   "dockerImageVersionId": 30749,
   "isGpuEnabled": false,
   "isInternetEnabled": true,
   "language": "python",
   "sourceType": "notebook"
  },
  "kernelspec": {
   "display_name": "Python 3",
   "language": "python",
   "name": "python3"
  },
  "language_info": {
   "codemirror_mode": {
    "name": "ipython",
    "version": 3
   },
   "file_extension": ".py",
   "mimetype": "text/x-python",
   "name": "python",
   "nbconvert_exporter": "python",
   "pygments_lexer": "ipython3",
   "version": "3.10.13"
  },
  "papermill": {
   "default_parameters": {},
   "duration": 131.937532,
   "end_time": "2025-03-07T09:48:00.924663",
   "environment_variables": {},
   "exception": null,
   "input_path": "__notebook__.ipynb",
   "output_path": "__notebook__.ipynb",
   "parameters": {},
   "start_time": "2025-03-07T09:45:48.987131",
   "version": "2.5.0"
  }
 },
 "nbformat": 4,
 "nbformat_minor": 5
}
